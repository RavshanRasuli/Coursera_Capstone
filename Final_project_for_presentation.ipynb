{
 "cells": [
  {
   "cell_type": "markdown",
   "metadata": {
    "slideshow": {
     "slide_type": "slide"
    }
   },
   "source": [
    "<img src=\"registan.png\" style=\"width:990px;height:300px\"/>"
   ]
  },
  {
   "cell_type": "markdown",
   "metadata": {
    "slideshow": {
     "slide_type": "slide"
    }
   },
   "source": [
    "### Charlotte and Uzbek food\n",
    " \n",
    "#### I live in Charlotte, North Carolina and you won’t find Uzbek restaurants here. The goal of this project is to gather enough data and provide good analytics to show that opening Uzbek Restaurant in Charlotte is a good investment.\n",
    "\n",
    "   #### Probably you never heard about Uzbekistan and it’s food. I am from Uzbekistan and you can trust me, our food is delicious with influences from all over Asia and the Middle East! Uzbekistan shares much of its culinary tradition with Turkey as well as serving up a wide number of noodle and dumpling dishes that bear a close resemblance to our counterparts in China, Nepal, and other Eastern Asian countries.       In this project I will try to introduce you with our cuisine. \n",
    "   \n",
    "   #### Charlotte is the second-largest banking center in the United States, after New York City. The nation's second largest financial institution by total assets, Bank of America, calls the city home. It is also home to the nation's sixth largest financial institution, Truist, formed from the merger of BB&T and SunTrust in 2019. Charlotte is the major center of the U.S. motorsports industry, housing the US's only Formula One team, Haas F1, multiple teams and offices of NASCAR. The Charlotte Region has a major base of energy-oriented organizations and has become known as \"Charlotte USA – The New Energy Capital\".(from wikipedia.org)"
   ]
  },
  {
   "cell_type": "markdown",
   "metadata": {
    "slideshow": {
     "slide_type": "slide"
    }
   },
   "source": [
    "## Colors\n",
    "<img src=\"colors.jpg\" style=\"width:400px;height:300px\"/>"
   ]
  },
  {
   "cell_type": "markdown",
   "metadata": {
    "slideshow": {
     "slide_type": "slide"
    }
   },
   "source": [
    "### Plov\n",
    "#### You can expect a heaping portion of rice that has been cooked together with lamb or beef, onions. garlic, raisins, carrots, and apricots.\n",
    "\n",
    "<img src=\"plov.jpg\" style=\"width:400px;height:300px\"/>\n"
   ]
  },
  {
   "cell_type": "markdown",
   "metadata": {
    "slideshow": {
     "slide_type": "slide"
    }
   },
   "source": [
    "### Shashlik (Kebabs) \n",
    "#### The classic Uzbek shashlik is a dish of shallow meat, usually lamb with a minimum of spices,  plus salt, pepper, spices and sliced onions.\n",
    "\n",
    "<img src=\"Shashlik.jpg\" style=\"width:400px;height:300px\"/>"
   ]
  },
  {
   "cell_type": "markdown",
   "metadata": {
    "slideshow": {
     "slide_type": "slide"
    }
   },
   "source": [
    "### Tandoor Kabob\n",
    "#### Whole lamb cooked in tandoor (an underground brick oven). \n",
    "<img src=\"tandir.jpg\" style=\"width:400px;height:300px\"/>"
   ]
  },
  {
   "cell_type": "markdown",
   "metadata": {
    "slideshow": {
     "slide_type": "slide"
    }
   },
   "source": [
    "## Data\n",
    "\n",
    "#### In this project I will try to show and explain:\n",
    "1.\t Why Charlotte is a good place to do business. I will download some tables from Wikipedia.\n",
    "2.\tWhy Uzbek restaurant is a good choice. I am going to do little presentation by downloading photos of our most famous dishes (unfortunately I cannot give you to try, you’d definitely love it). \n",
    "\n",
    "\n",
    "#### To give you a little idea what is the Uzbek Food and what products we use, I will make a \"Word Cloud\" ( the more a specific type of product appears in a source of textual data, the bigger and bolder it appears in the word cloud)\n",
    "\n",
    "\n",
    "#### Using Foursquare I will get location for Turkish and Mediterranean restaurants around Charlotte and then using folium I will put those location on the map of Charlotte.\n",
    "\n",
    "#### After we will make decision where is the best place or places to locate our Uzbek restaurant."
   ]
  },
  {
   "cell_type": "markdown",
   "metadata": {
    "slideshow": {
     "slide_type": "slide"
    }
   },
   "source": [
    "## Methodology\n",
    "\n",
    "#### In this project we will try to find the best location to open an Uzbek restaurant in Charlotte.\n",
    "\n",
    "#### First we will find the location of Turkish and Mediterranean restaurants in Charlotte using Foursquare. We not going to search for Uzbek restaurant, because there is no such place in Charlotte. We will be seaching for places, which serves the food similiar to Uzbek, Turkish and Mediterranean would be the best choice to compare.\n",
    "\n",
    "#### Then we put Turkish and Mediterranean restaurants location together to the Charlotte map using Folium. By doing that we we will be able to detemine which area has less number of thise restaurants.\n",
    "\n",
    "#### To make decision what area would be the best to place out new Uzbek restaurant, we need to make a research of Charlotte neighbourhoods. Luckily I live in Charlotte and know a bit about city and it's suroundings. "
   ]
  },
  {
   "cell_type": "markdown",
   "metadata": {
    "slideshow": {
     "slide_type": "slide"
    }
   },
   "source": [
    "## Results and discussion\n",
    "\n",
    "#### As we can see most of the rastaurants are spreaded around the city. Most of the restaurants placed in the city center of Charlotte, we call this place Uptown, it is also a business center of Charlotte. Uptown is a not good choice to open a Uzbek restaurant, because it's already has many places and most of them making business during lunch time. \n",
    "#### We are looking for place where people going after work or on weekend to have fun and proper meal. My choice would be area around Central Avenue. This area is growing and it has future prospects. Also we can see some places with Turkish and Mediterranean restaurants in that area. \n",
    "#### As Uzbek food needs time. You have to be relaxed to enjoy your meal."
   ]
  },
  {
   "cell_type": "markdown",
   "metadata": {
    "slideshow": {
     "slide_type": "slide"
    }
   },
   "source": [
    "## Conclusion\n",
    "\n",
    "#### In this project I tryed to introduce you to Uzbek food. I hope by this time you have little idea what is it. I think one day you will try. I am sure if you try Uzbek food once, you will want to come back.\n",
    "\n",
    "#### To make decision about your preferences you have to try and I am ready to make your first Uzbek Feast!\n",
    "#### I would like to say you more, but my English is little poor."
   ]
  }
 ],
 "metadata": {
  "celltoolbar": "Slideshow",
  "kernelspec": {
   "display_name": "Python 3",
   "language": "python",
   "name": "python3"
  },
  "language_info": {
   "codemirror_mode": {
    "name": "ipython",
    "version": 3
   },
   "file_extension": ".py",
   "mimetype": "text/x-python",
   "name": "python",
   "nbconvert_exporter": "python",
   "pygments_lexer": "ipython3",
   "version": "3.8.3"
  }
 },
 "nbformat": 4,
 "nbformat_minor": 4
}
