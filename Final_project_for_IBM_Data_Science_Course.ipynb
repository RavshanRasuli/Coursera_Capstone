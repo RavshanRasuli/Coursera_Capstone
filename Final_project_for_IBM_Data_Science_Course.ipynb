{
 "cells": [
  {
   "cell_type": "markdown",
   "metadata": {},
   "source": [
    "<img src=\"registan.png\" style=\"width:990px;height:300px\"/>"
   ]
  },
  {
   "cell_type": "markdown",
   "metadata": {},
   "source": [
    "## Table of contents\n",
    "* [Introduction: Business problem](#introduction)\n",
    "* [Data: Description](#data)\n",
    "* [Methodology](#methodology)\n",
    "* [Analysis](#analysis)\n",
    "* [Results and Discussion](#results)\n",
    "* [Conclusion](#conclusion)"
   ]
  },
  {
   "cell_type": "markdown",
   "metadata": {},
   "source": [
    "\n",
    "## Introduction: Business problem<a name=\"introduction\"></a>"
   ]
  },
  {
   "cell_type": "markdown",
   "metadata": {},
   "source": [
    " ### Charlotte and Uzbek food"
   ]
  },
  {
   "cell_type": "markdown",
   "metadata": {},
   "source": [
    "#### I live in Charlotte, North Carolina and you won’t find Uzbek restaurants here. The goal of this project is to gather enough data and provide good analytics to show that opening Uzbek Restaurant in Charlotte is a good investment."
   ]
  },
  {
   "cell_type": "markdown",
   "metadata": {},
   "source": [
    "   #### Probably you never heard about Uzbekistan and it’s food. I am from Uzbekistan and you can trust me, our food is delicious with influences from all over Asia and the Middle East! Uzbekistan shares much of its culinary tradition with Turkey as well as serving up a wide number of noodle and dumpling dishes that bear a close resemblance to our counterparts in China, Nepal, and other Eastern Asian countries.       In this project I will try to introduce you with our cuisine. "
   ]
  },
  {
   "cell_type": "markdown",
   "metadata": {},
   "source": [
    "#### Charlotte is the second-largest banking center in the United States, after New York City. The nation's second largest financial institution by total assets, Bank of America, calls the city home. It is also home to the nation's sixth largest financial institution, Truist, formed from the merger of BB&T and SunTrust in 2019. Charlotte is the major center of the U.S. motorsports industry, housing the US's only Formula One team, Haas F1, multiple teams and offices of NASCAR. The Charlotte Region has a major base of energy-oriented organizations and has become known as \"Charlotte USA – The New Energy Capital\".(from wikipedia.org)"
   ]
  },
  {
   "cell_type": "markdown",
   "metadata": {},
   "source": [
    "## Data: Description<a name=\"data\"></a>"
   ]
  },
  {
   "cell_type": "markdown",
   "metadata": {},
   "source": [
    "#### In this project I will try to show and explain:\n",
    "1.\t Why Charlotte is a good place to do business. I will download some tables from Wikipedia.\n",
    "2.\tWhy Uzbek restaurant is a good choice. I am going to do little presentation by downloading photos of our most famous dishes (unfortunately I cannot give you to try, you’d definitely love it). \n",
    "\n",
    "\n",
    "#### To give you a little idea what is the Uzbek Food and what products we use, I will make a \"Word Cloud\" ( the more a specific type of product appears in a source of textual data, the bigger and bolder it appears in the word cloud)\n",
    "\n",
    "\n",
    "#### Using Foursquare I will get location for Turkish and Mediterranean restaurants around Charlotte and then using folium I will put those location on the map of Charlotte.\n",
    "\n",
    "#### After we will make decision where is the best place or places to locate our Uzbek restaurant.\n"
   ]
  },
  {
   "cell_type": "markdown",
   "metadata": {},
   "source": [
    "### Let me extract some tables from Wikipedia. First shows 20 largest employers headquartered in Charlotte by number of employees in the Charlotte region and the second is our sport clubs. "
   ]
  },
  {
   "cell_type": "code",
   "execution_count": 4,
   "metadata": {},
   "outputs": [
    {
     "name": "stdout",
     "output_type": "stream",
     "text": [
      "Extracted 3 wikitables\n"
     ]
    }
   ],
   "source": [
    "from pandas.io.html import read_html\n",
    "page = 'https://en.wikipedia.org/wiki/Charlotte,_North_Carolina'\n",
    "wikitable = read_html(page, attrs={\"class\":\"wikitable sortable\"})\n",
    "print(\"Extracted {num} wikitables\".format(num=len(wikitable)))"
   ]
  },
  {
   "cell_type": "code",
   "execution_count": 5,
   "metadata": {},
   "outputs": [
    {
     "data": {
      "text/html": [
       "<div>\n",
       "<style scoped>\n",
       "    .dataframe tbody tr th:only-of-type {\n",
       "        vertical-align: middle;\n",
       "    }\n",
       "\n",
       "    .dataframe tbody tr th {\n",
       "        vertical-align: top;\n",
       "    }\n",
       "\n",
       "    .dataframe thead th {\n",
       "        text-align: right;\n",
       "    }\n",
       "</style>\n",
       "<table border=\"1\" class=\"dataframe\">\n",
       "  <thead>\n",
       "    <tr style=\"text-align: right;\">\n",
       "      <th></th>\n",
       "      <th>Name</th>\n",
       "      <th>Industry</th>\n",
       "      <th>Number of employees</th>\n",
       "    </tr>\n",
       "  </thead>\n",
       "  <tbody>\n",
       "    <tr>\n",
       "      <th>0</th>\n",
       "      <td>1. Atrium Health</td>\n",
       "      <td>Health Care and Social Assistance</td>\n",
       "      <td>35700</td>\n",
       "    </tr>\n",
       "    <tr>\n",
       "      <th>1</th>\n",
       "      <td>2. Charlotte-Mecklenburg Schools</td>\n",
       "      <td>Educational Services</td>\n",
       "      <td>18495</td>\n",
       "    </tr>\n",
       "    <tr>\n",
       "      <th>2</th>\n",
       "      <td>3. Bank of America</td>\n",
       "      <td>Finance and Insurance</td>\n",
       "      <td>15000</td>\n",
       "    </tr>\n",
       "    <tr>\n",
       "      <th>3</th>\n",
       "      <td>4. Duke Energy</td>\n",
       "      <td>Utilities</td>\n",
       "      <td>7900</td>\n",
       "    </tr>\n",
       "    <tr>\n",
       "      <th>4</th>\n",
       "      <td>5. City of Charlotte</td>\n",
       "      <td>Public Administration</td>\n",
       "      <td>6800</td>\n",
       "    </tr>\n",
       "    <tr>\n",
       "      <th>5</th>\n",
       "      <td>6. Mecklenburg County Government</td>\n",
       "      <td>Public Administration</td>\n",
       "      <td>5512</td>\n",
       "    </tr>\n",
       "    <tr>\n",
       "      <th>6</th>\n",
       "      <td>7. Carowinds</td>\n",
       "      <td>Arts, Entertainment and Recreation</td>\n",
       "      <td>4100</td>\n",
       "    </tr>\n",
       "    <tr>\n",
       "      <th>7</th>\n",
       "      <td>8. University of North Carolina at Charlotte</td>\n",
       "      <td>Educational Services</td>\n",
       "      <td>4000</td>\n",
       "    </tr>\n",
       "    <tr>\n",
       "      <th>8</th>\n",
       "      <td>9. Central Piedmont Community College</td>\n",
       "      <td>Educational Services</td>\n",
       "      <td>2700</td>\n",
       "    </tr>\n",
       "    <tr>\n",
       "      <th>9</th>\n",
       "      <td>10. Belk</td>\n",
       "      <td>Retail Trade</td>\n",
       "      <td>2300</td>\n",
       "    </tr>\n",
       "    <tr>\n",
       "      <th>10</th>\n",
       "      <td>11. Bojangles' Famous Chicken 'n Biscuits</td>\n",
       "      <td>Accommodation and Food Services</td>\n",
       "      <td>1892</td>\n",
       "    </tr>\n",
       "    <tr>\n",
       "      <th>11</th>\n",
       "      <td>12. Carolina Restaurant Group</td>\n",
       "      <td>Accommodation and Food Services</td>\n",
       "      <td>1866</td>\n",
       "    </tr>\n",
       "    <tr>\n",
       "      <th>12</th>\n",
       "      <td>13. Hendrick Automotive Group</td>\n",
       "      <td>Retail Trade</td>\n",
       "      <td>1723</td>\n",
       "    </tr>\n",
       "    <tr>\n",
       "      <th>13</th>\n",
       "      <td>14. Sealed Air</td>\n",
       "      <td>Manufacturing</td>\n",
       "      <td>1400</td>\n",
       "    </tr>\n",
       "    <tr>\n",
       "      <th>14</th>\n",
       "      <td>15. Snyder's-Lance</td>\n",
       "      <td>Manufacturing</td>\n",
       "      <td>1280</td>\n",
       "    </tr>\n",
       "    <tr>\n",
       "      <th>15</th>\n",
       "      <td>16. Coca-Cola Bottling Co. Consolidated</td>\n",
       "      <td>Manufacturing</td>\n",
       "      <td>1210</td>\n",
       "    </tr>\n",
       "    <tr>\n",
       "      <th>16</th>\n",
       "      <td>17. Charlotte Pipe &amp; Foundry Co.</td>\n",
       "      <td>Manufacturing</td>\n",
       "      <td>1200</td>\n",
       "    </tr>\n",
       "    <tr>\n",
       "      <th>17</th>\n",
       "      <td>18. U.S. National Whitewater Center</td>\n",
       "      <td>Arts, Entertainment and Recreation</td>\n",
       "      <td>1000</td>\n",
       "    </tr>\n",
       "    <tr>\n",
       "      <th>18</th>\n",
       "      <td>18. AvidXChange Inc.</td>\n",
       "      <td>Professional Services</td>\n",
       "      <td>1000</td>\n",
       "    </tr>\n",
       "    <tr>\n",
       "      <th>19</th>\n",
       "      <td>20. OrthoCarolina</td>\n",
       "      <td>Health Care and Social Assistance</td>\n",
       "      <td>936</td>\n",
       "    </tr>\n",
       "  </tbody>\n",
       "</table>\n",
       "</div>"
      ],
      "text/plain": [
       "                                            Name  \\\n",
       "0                               1. Atrium Health   \n",
       "1               2. Charlotte-Mecklenburg Schools   \n",
       "2                             3. Bank of America   \n",
       "3                                 4. Duke Energy   \n",
       "4                           5. City of Charlotte   \n",
       "5               6. Mecklenburg County Government   \n",
       "6                                   7. Carowinds   \n",
       "7   8. University of North Carolina at Charlotte   \n",
       "8          9. Central Piedmont Community College   \n",
       "9                                       10. Belk   \n",
       "10     11. Bojangles' Famous Chicken 'n Biscuits   \n",
       "11                 12. Carolina Restaurant Group   \n",
       "12                 13. Hendrick Automotive Group   \n",
       "13                                14. Sealed Air   \n",
       "14                            15. Snyder's-Lance   \n",
       "15       16. Coca-Cola Bottling Co. Consolidated   \n",
       "16              17. Charlotte Pipe & Foundry Co.   \n",
       "17           18. U.S. National Whitewater Center   \n",
       "18                          18. AvidXChange Inc.   \n",
       "19                             20. OrthoCarolina   \n",
       "\n",
       "                              Industry  Number of employees  \n",
       "0    Health Care and Social Assistance                35700  \n",
       "1                 Educational Services                18495  \n",
       "2                Finance and Insurance                15000  \n",
       "3                            Utilities                 7900  \n",
       "4                Public Administration                 6800  \n",
       "5                Public Administration                 5512  \n",
       "6   Arts, Entertainment and Recreation                 4100  \n",
       "7                 Educational Services                 4000  \n",
       "8                 Educational Services                 2700  \n",
       "9                         Retail Trade                 2300  \n",
       "10     Accommodation and Food Services                 1892  \n",
       "11     Accommodation and Food Services                 1866  \n",
       "12                        Retail Trade                 1723  \n",
       "13                       Manufacturing                 1400  \n",
       "14                       Manufacturing                 1280  \n",
       "15                       Manufacturing                 1210  \n",
       "16                       Manufacturing                 1200  \n",
       "17  Arts, Entertainment and Recreation                 1000  \n",
       "18               Professional Services                 1000  \n",
       "19   Health Care and Social Assistance                  936  "
      ]
     },
     "execution_count": 5,
     "metadata": {},
     "output_type": "execute_result"
    }
   ],
   "source": [
    "headquarteres=wikitable[0]\n",
    "headquarteres"
   ]
  },
  {
   "cell_type": "code",
   "execution_count": 6,
   "metadata": {},
   "outputs": [
    {
     "data": {
      "text/html": [
       "<div>\n",
       "<style scoped>\n",
       "    .dataframe tbody tr th:only-of-type {\n",
       "        vertical-align: middle;\n",
       "    }\n",
       "\n",
       "    .dataframe tbody tr th {\n",
       "        vertical-align: top;\n",
       "    }\n",
       "\n",
       "    .dataframe thead th {\n",
       "        text-align: right;\n",
       "    }\n",
       "</style>\n",
       "<table border=\"1\" class=\"dataframe\">\n",
       "  <thead>\n",
       "    <tr style=\"text-align: right;\">\n",
       "      <th></th>\n",
       "      <th>Club</th>\n",
       "      <th>Sport</th>\n",
       "      <th>Founded</th>\n",
       "      <th>League</th>\n",
       "      <th>Venue</th>\n",
       "    </tr>\n",
       "  </thead>\n",
       "  <tbody>\n",
       "    <tr>\n",
       "      <th>0</th>\n",
       "      <td>Carolina Panthers</td>\n",
       "      <td>Football</td>\n",
       "      <td>1995</td>\n",
       "      <td>National Football League</td>\n",
       "      <td>Bank of America Stadium</td>\n",
       "    </tr>\n",
       "    <tr>\n",
       "      <th>1</th>\n",
       "      <td>Charlotte Hornets</td>\n",
       "      <td>Basketball</td>\n",
       "      <td>1988</td>\n",
       "      <td>National Basketball Association</td>\n",
       "      <td>Spectrum Center</td>\n",
       "    </tr>\n",
       "    <tr>\n",
       "      <th>2</th>\n",
       "      <td>Charlotte FC</td>\n",
       "      <td>Soccer</td>\n",
       "      <td>2019</td>\n",
       "      <td>Major League Soccer</td>\n",
       "      <td>Bank of America Stadium</td>\n",
       "    </tr>\n",
       "    <tr>\n",
       "      <th>3</th>\n",
       "      <td>Charlotte Hounds</td>\n",
       "      <td>Lacrosse</td>\n",
       "      <td>2011</td>\n",
       "      <td>Major League Lacrosse</td>\n",
       "      <td>American Legion Memorial Stadium</td>\n",
       "    </tr>\n",
       "    <tr>\n",
       "      <th>4</th>\n",
       "      <td>Charlotte Checkers</td>\n",
       "      <td>Ice hockey</td>\n",
       "      <td>2010</td>\n",
       "      <td>American Hockey League</td>\n",
       "      <td>Bojangles' Coliseum</td>\n",
       "    </tr>\n",
       "    <tr>\n",
       "      <th>5</th>\n",
       "      <td>Charlotte Knights</td>\n",
       "      <td>Baseball</td>\n",
       "      <td>1976</td>\n",
       "      <td>International League</td>\n",
       "      <td>Truist Field</td>\n",
       "    </tr>\n",
       "    <tr>\n",
       "      <th>6</th>\n",
       "      <td>Charlotte Independence</td>\n",
       "      <td>Soccer</td>\n",
       "      <td>2015</td>\n",
       "      <td>USL Championship</td>\n",
       "      <td>Sportsplex at Matthews</td>\n",
       "    </tr>\n",
       "    <tr>\n",
       "      <th>7</th>\n",
       "      <td>Charlotte Eagles</td>\n",
       "      <td>Soccer</td>\n",
       "      <td>1993</td>\n",
       "      <td>USL League Two</td>\n",
       "      <td>Sportsplex at Matthews</td>\n",
       "    </tr>\n",
       "    <tr>\n",
       "      <th>8</th>\n",
       "      <td>Charlotte Lady Eagles</td>\n",
       "      <td>Soccer</td>\n",
       "      <td>1993</td>\n",
       "      <td>W-League</td>\n",
       "      <td>Sportsplex at Matthews</td>\n",
       "    </tr>\n",
       "  </tbody>\n",
       "</table>\n",
       "</div>"
      ],
      "text/plain": [
       "                     Club       Sport  Founded  \\\n",
       "0       Carolina Panthers    Football     1995   \n",
       "1       Charlotte Hornets  Basketball     1988   \n",
       "2            Charlotte FC      Soccer     2019   \n",
       "3        Charlotte Hounds    Lacrosse     2011   \n",
       "4      Charlotte Checkers  Ice hockey     2010   \n",
       "5       Charlotte Knights    Baseball     1976   \n",
       "6  Charlotte Independence      Soccer     2015   \n",
       "7        Charlotte Eagles      Soccer     1993   \n",
       "8   Charlotte Lady Eagles      Soccer     1993   \n",
       "\n",
       "                            League                             Venue  \n",
       "0         National Football League           Bank of America Stadium  \n",
       "1  National Basketball Association                   Spectrum Center  \n",
       "2              Major League Soccer           Bank of America Stadium  \n",
       "3            Major League Lacrosse  American Legion Memorial Stadium  \n",
       "4           American Hockey League               Bojangles' Coliseum  \n",
       "5             International League                      Truist Field  \n",
       "6                 USL Championship            Sportsplex at Matthews  \n",
       "7                   USL League Two            Sportsplex at Matthews  \n",
       "8                         W-League            Sportsplex at Matthews  "
      ]
     },
     "execution_count": 6,
     "metadata": {},
     "output_type": "execute_result"
    }
   ],
   "source": [
    "sport_clubs=wikitable[1]\n",
    "sport_clubs"
   ]
  },
  {
   "cell_type": "markdown",
   "metadata": {},
   "source": [
    "#### As you can see we do business here and we have fun as well. I hope the information that we have collected will help you understand that Charlotte is a city worth investing in"
   ]
  },
  {
   "cell_type": "markdown",
   "metadata": {},
   "source": [
    "## Colors!"
   ]
  },
  {
   "cell_type": "markdown",
   "metadata": {},
   "source": [
    "<img src=\"colors.jpg\" style=\"width:400px;height:300px\"/>"
   ]
  },
  {
   "cell_type": "markdown",
   "metadata": {},
   "source": [
    "### Plov\n",
    "#### You can expect a heaping portion of rice that has been cooked together with lamb or beef, onions. garlic, raisins, carrots, and apricots."
   ]
  },
  {
   "cell_type": "markdown",
   "metadata": {},
   "source": [
    "<img src=\"plov.jpg\" style=\"width:400px;height:300px\"/>\n"
   ]
  },
  {
   "cell_type": "markdown",
   "metadata": {},
   "source": [
    "### Shashlik (Kebabs) \n",
    "#### The classic Uzbek shashlik is a dish of shallow meat, usually lamb with a minimum of spices,  plus salt, pepper, spices and sliced onions."
   ]
  },
  {
   "cell_type": "markdown",
   "metadata": {},
   "source": [
    "<img src=\"Shashlik.jpg\" style=\"width:400px;height:300px\"/>"
   ]
  },
  {
   "cell_type": "markdown",
   "metadata": {},
   "source": [
    "### Tandoor Kabob"
   ]
  },
  {
   "cell_type": "markdown",
   "metadata": {},
   "source": [
    "#### Whole lamb cooked in tandoor (an underground brick oven). "
   ]
  },
  {
   "cell_type": "markdown",
   "metadata": {},
   "source": [
    "<img src=\"tandir.jpg\" style=\"width:400px;height:300px\"/>"
   ]
  },
  {
   "cell_type": "markdown",
   "metadata": {},
   "source": [
    "#### Now let's work on Wordcloud"
   ]
  },
  {
   "cell_type": "code",
   "execution_count": 4,
   "metadata": {
    "collapsed": true
   },
   "outputs": [
    {
     "name": "stdout",
     "output_type": "stream",
     "text": [
      "Collecting wordcloud\n",
      "  Downloading wordcloud-1.8.0-cp38-cp38-win_amd64.whl (159 kB)\n",
      "Requirement already satisfied: pillow in d:\\anaconda\\lib\\site-packages (from wordcloud) (7.2.0)\n",
      "Requirement already satisfied: numpy>=1.6.1 in d:\\anaconda\\lib\\site-packages (from wordcloud) (1.18.5)\n",
      "Requirement already satisfied: matplotlib in d:\\anaconda\\lib\\site-packages (from wordcloud) (3.2.2)\n",
      "Requirement already satisfied: pyparsing!=2.0.4,!=2.1.2,!=2.1.6,>=2.0.1 in d:\\anaconda\\lib\\site-packages (from matplotlib->wordcloud) (2.4.7)\n",
      "Requirement already satisfied: cycler>=0.10 in d:\\anaconda\\lib\\site-packages (from matplotlib->wordcloud) (0.10.0)\n",
      "Requirement already satisfied: python-dateutil>=2.1 in d:\\anaconda\\lib\\site-packages (from matplotlib->wordcloud) (2.8.1)\n",
      "Requirement already satisfied: kiwisolver>=1.0.1 in d:\\anaconda\\lib\\site-packages (from matplotlib->wordcloud) (1.2.0)\n",
      "Requirement already satisfied: six in d:\\anaconda\\lib\\site-packages (from cycler>=0.10->matplotlib->wordcloud) (1.15.0)\n",
      "Installing collected packages: wordcloud\n",
      "Successfully installed wordcloud-1.8.0\n"
     ]
    }
   ],
   "source": [
    "!pip install wordcloud\n",
    "import wordcloud\n",
    "\n"
   ]
  },
  {
   "cell_type": "code",
   "execution_count": 7,
   "metadata": {},
   "outputs": [],
   "source": [
    "from wordcloud import WordCloud, STOPWORDS\n",
    "import pandas as pd\n",
    "import numpy as np\n",
    "from PIL import Image\n",
    "import matplotlib as mpl\n",
    "import matplotlib.pyplot as plt"
   ]
  },
  {
   "cell_type": "code",
   "execution_count": 8,
   "metadata": {},
   "outputs": [],
   "source": [
    "stopwords = set(STOPWORDS)"
   ]
  },
  {
   "cell_type": "code",
   "execution_count": 9,
   "metadata": {},
   "outputs": [],
   "source": [
    "uzbek_food = open(\"uzbek_food.txt\")\n",
    "text = uzbek_food.read()\n",
    "uzbek_food.close()"
   ]
  },
  {
   "cell_type": "code",
   "execution_count": 10,
   "metadata": {},
   "outputs": [
    {
     "data": {
      "text/plain": [
       "<wordcloud.wordcloud.WordCloud at 0xbe4a0a2e20>"
      ]
     },
     "execution_count": 10,
     "metadata": {},
     "output_type": "execute_result"
    }
   ],
   "source": [
    "custom_mask=np.array(Image.open('registan.png'))\n",
    "uzbek_food_wc = WordCloud(\n",
    "    background_color='white',\n",
    "    max_words=100,\n",
    "    stopwords=stopwords,\n",
    "    mask=custom_mask\n",
    ")\n",
    "\n",
    "uzbek_food_wc.generate(text)"
   ]
  },
  {
   "cell_type": "code",
   "execution_count": 11,
   "metadata": {},
   "outputs": [
    {
     "data": {
      "image/png": "[encoded data removed]",
      "text/plain": [
       "<Figure size 1008x1296 with 1 Axes>"
      ]
     },
     "metadata": {
      "needs_background": "light"
     },
     "output_type": "display_data"
    }
   ],
   "source": [
    "\n"
   ]
  },
  {
   "cell_type": "markdown",
   "metadata": {},
   "source": [
    "## Methodology<a name =\"methodology\"></a>"
   ]
  },
  {
   "cell_type": "markdown",
   "metadata": {},
   "source": [
    "#### In this project we will try to find the best location to open an Uzbek restaurant in Charlotte.\n",
    "\n",
    "#### First we will find the location of Turkish and Mediterranean restaurants in Charlotte using Foursquare. We not going to search for Uzbek restaurant, because there is no such place in Charlotte. We will be seaching for places, which serves the food similiar to Uzbek, Turkish and Mediterranean would be the best choice to compare.\n",
    "\n",
    "#### Then we put Turkish and Mediterranean restaurants location together to the Charlotte map using Folium. By doing that we we will be able to detemine which area has less number of thise restaurants.\n",
    "\n",
    "#### To make decision what area would be the best to place out new Uzbek restaurant, we need to make a research of Charlotte neighbourhoods. Luckily I live in Charlotte and know a bit about city and it's suroundings. "
   ]
  },
  {
   "cell_type": "markdown",
   "metadata": {},
   "source": [
    "## Analysis<a name = \"analysis\"></a>"
   ]
  },
  {
   "cell_type": "markdown",
   "metadata": {},
   "source": [
    "### Import necessary Libraries"
   ]
  },
  {
   "cell_type": "code",
   "execution_count": 1,
   "metadata": {},
   "outputs": [
    {
     "name": "stdout",
     "output_type": "stream",
     "text": [
      "Collecting package metadata (current_repodata.json): ...working... done\n",
      "Solving environment: ...working... \n",
      "Warning: 4 possible package resolutions (only showing differing packages):\n",
      "  - anaconda/win-64::ca-certificates-2020.6.24-0, anaconda/win-64::certifi-2020.6.20-py38_0\n",
      "  - anaconda/win-64::ca-certificates-2020.6.24-0, defaults/win-64::certifi-2020.6.20-py38_0\n",
      "  - anaconda/win-64::certifi-2020.6.20-py38_0, defaults/win-64::ca-certificates-2020.6.24-0\n",
      "  - defaults/win-64::ca-certificates-2020.6.24-0, defaults/win-64::certifi-2020.6.20-py38_0done\n",
      "\n",
      "# All requested packages already installed.\n",
      "\n",
      "Folium installed\n",
      "Libraries imported.\n"
     ]
    }
   ],
   "source": [
    "import requests \n",
    "import random \n",
    "import pgeocode\n",
    "\n",
    "from IPython.display import Image \n",
    "from IPython.core.display import HTML \n",
    "    \n",
    "from pandas.io.json import json_normalize\n",
    "\n",
    "!conda install -c conda-forge folium=0.5.0 --yes\n",
    "import folium # plotting library\n",
    "\n",
    "print('Folium installed')\n",
    "print('Libraries imported.')"
   ]
  },
  {
   "cell_type": "markdown",
   "metadata": {},
   "source": [
    "#### The next step is to define Foursquare Credentials and Version"
   ]
  },
  {
   "cell_type": "code",
   "execution_count": 2,
   "metadata": {},
   "outputs": [
    {
     "name": "stdout",
     "output_type": "stream",
     "text": [
      "All done!\n"
     ]
    }
   ],
   "source": [
    "import os\n",
    "CLIENT_ID = os.environ.get('CLIENT_ID')\n",
    "CLIENT_SECRET = os.environ.get('CLIENT_SECRET')\n",
    "print('All done!')"
   ]
  },
  {
   "cell_type": "code",
   "execution_count": 3,
   "metadata": {},
   "outputs": [
    {
     "name": "stdout",
     "output_type": "stream",
     "text": [
      "Your credentails: Done\n"
     ]
    }
   ],
   "source": [
    "CLIENT_ID = CLIENT_ID \n",
    "CLIENT_SECRET = CLIENT_SECRET\n",
    "VERSION = '20180604'\n",
    "LIMIT = 30\n",
    "print('Your credentails: Done')"
   ]
  },
  {
   "cell_type": "markdown",
   "metadata": {},
   "source": [
    "#### Let's find out latitude and longitude for Charlotte, usibg the postal code of my home address"
   ]
  },
  {
   "cell_type": "code",
   "execution_count": 4,
   "metadata": {},
   "outputs": [
    {
     "data": {
      "text/plain": [
       "latitude     35.1677\n",
       "longitude   -80.7932\n",
       "Name: 0, dtype: object"
      ]
     },
     "execution_count": 4,
     "metadata": {},
     "output_type": "execute_result"
    }
   ],
   "source": [
    "nomi = pgeocode.Nominatim('US')\n",
    "df_codes = nomi.query_postal_code(28211)\n",
    "df_codes.loc[['latitude', 'longitude']]"
   ]
  },
  {
   "cell_type": "code",
   "execution_count": 5,
   "metadata": {},
   "outputs": [],
   "source": [
    "latitude = df_codes['latitude']\n",
    "longitude =  df_codes['longitude']"
   ]
  },
  {
   "cell_type": "markdown",
   "metadata": {},
   "source": [
    "#### Now, let's say I am home and I want to order Turkish food, because there is no option for Uzbek food yet."
   ]
  },
  {
   "cell_type": "code",
   "execution_count": 6,
   "metadata": {},
   "outputs": [
    {
     "name": "stdout",
     "output_type": "stream",
     "text": [
      "Turkish .... OK!\n"
     ]
    }
   ],
   "source": [
    "search_query = 'Turkish'\n",
    "radius = 10000\n",
    "print(search_query + ' .... OK!')"
   ]
  },
  {
   "cell_type": "markdown",
   "metadata": {},
   "source": [
    "#### Define the corresponding URL"
   ]
  },
  {
   "cell_type": "code",
   "execution_count": 7,
   "metadata": {},
   "outputs": [
    {
     "data": {
      "text/plain": [
       "'https://api.foursquare.com/v2/venues/search?client_id=13EP5NALHTPVND30PF5FUGYQ1DULUFBKK4HBLPSYRHWAS0NW&client_secret=OGL2FT0MWHDXJVISXZN33BVIWWSZTDJBUH54MN3ZOFWYTIWD&ll=35.1677,-80.7932&v=20180604&query=Turkish&radius=10000&limit=30'"
      ]
     },
     "execution_count": 7,
     "metadata": {},
     "output_type": "execute_result"
    }
   ],
   "source": [
    "url = 'https://api.foursquare.com/v2/venues/search?client_id={}&client_secret={}&ll={},{}&v={}&query={}&radius={}&limit={}'.format(CLIENT_ID, CLIENT_SECRET, latitude, longitude, VERSION, search_query, radius, LIMIT)\n",
    "url"
   ]
  },
  {
   "cell_type": "markdown",
   "metadata": {},
   "source": [
    "#### Send the GET Request and examine the results"
   ]
  },
  {
   "cell_type": "code",
   "execution_count": 8,
   "metadata": {},
   "outputs": [
    {
     "data": {
      "text/plain": [
       "{'meta': {'code': 200, 'requestId': '5f41923bf26cab155cadc42b'},\n",
       " 'response': {'venues': []}}"
      ]
     },
     "execution_count": 8,
     "metadata": {},
     "output_type": "execute_result"
    }
   ],
   "source": [
    "results = requests.get(url).json()\n",
    "results"
   ]
  },
  {
   "cell_type": "markdown",
   "metadata": {},
   "source": [
    "#### Get relevant part of JSON and transform it into a *pandas* dataframe"
   ]
  },
  {
   "cell_type": "code",
   "execution_count": 9,
   "metadata": {},
   "outputs": [
    {
     "name": "stderr",
     "output_type": "stream",
     "text": [
      "<ipython-input-9-b6bf80c30094>:3: FutureWarning: pandas.io.json.json_normalize is deprecated, use pandas.json_normalize instead\n",
      "  dataframe = json_normalize(venues)\n"
     ]
    },
    {
     "data": {
      "text/html": [
       "<div>\n",
       "<style scoped>\n",
       "    .dataframe tbody tr th:only-of-type {\n",
       "        vertical-align: middle;\n",
       "    }\n",
       "\n",
       "    .dataframe tbody tr th {\n",
       "        vertical-align: top;\n",
       "    }\n",
       "\n",
       "    .dataframe thead th {\n",
       "        text-align: right;\n",
       "    }\n",
       "</style>\n",
       "<table border=\"1\" class=\"dataframe\">\n",
       "  <thead>\n",
       "    <tr style=\"text-align: right;\">\n",
       "      <th></th>\n",
       "    </tr>\n",
       "  </thead>\n",
       "  <tbody>\n",
       "  </tbody>\n",
       "</table>\n",
       "</div>"
      ],
      "text/plain": [
       "Empty DataFrame\n",
       "Columns: []\n",
       "Index: []"
      ]
     },
     "execution_count": 9,
     "metadata": {},
     "output_type": "execute_result"
    }
   ],
   "source": [
    "venues = results['response']['venues']\n",
    "\n",
    "dataframe = json_normalize(venues)\n",
    "dataframe.head()"
   ]
  },
  {
   "cell_type": "markdown",
   "metadata": {},
   "source": [
    "#### So, as you see we couldn't find any Turkish restaurant in the area with Foursquare. I think it is because we specified Turkish, let’s try Mediterranean instead"
   ]
  },
  {
   "cell_type": "code",
   "execution_count": 10,
   "metadata": {},
   "outputs": [
    {
     "name": "stdout",
     "output_type": "stream",
     "text": [
      "Mediterranean .... OK!\n"
     ]
    }
   ],
   "source": [
    "search_query = 'Mediterranean'\n",
    "radius = 100000\n",
    "print(search_query + ' .... OK!')"
   ]
  },
  {
   "cell_type": "code",
   "execution_count": 11,
   "metadata": {},
   "outputs": [
    {
     "data": {
      "text/plain": [
       "{'meta': {'code': 200, 'requestId': '5f41924dc7db23607252ccb0'},\n",
       " 'response': {'venues': []}}"
      ]
     },
     "execution_count": 11,
     "metadata": {},
     "output_type": "execute_result"
    }
   ],
   "source": [
    "results = requests.get(url).json()\n",
    "results"
   ]
  },
  {
   "cell_type": "code",
   "execution_count": 12,
   "metadata": {},
   "outputs": [
    {
     "name": "stderr",
     "output_type": "stream",
     "text": [
      "<ipython-input-12-b6bf80c30094>:3: FutureWarning: pandas.io.json.json_normalize is deprecated, use pandas.json_normalize instead\n",
      "  dataframe = json_normalize(venues)\n"
     ]
    },
    {
     "data": {
      "text/html": [
       "<div>\n",
       "<style scoped>\n",
       "    .dataframe tbody tr th:only-of-type {\n",
       "        vertical-align: middle;\n",
       "    }\n",
       "\n",
       "    .dataframe tbody tr th {\n",
       "        vertical-align: top;\n",
       "    }\n",
       "\n",
       "    .dataframe thead th {\n",
       "        text-align: right;\n",
       "    }\n",
       "</style>\n",
       "<table border=\"1\" class=\"dataframe\">\n",
       "  <thead>\n",
       "    <tr style=\"text-align: right;\">\n",
       "      <th></th>\n",
       "    </tr>\n",
       "  </thead>\n",
       "  <tbody>\n",
       "  </tbody>\n",
       "</table>\n",
       "</div>"
      ],
      "text/plain": [
       "Empty DataFrame\n",
       "Columns: []\n",
       "Index: []"
      ]
     },
     "execution_count": 12,
     "metadata": {},
     "output_type": "execute_result"
    }
   ],
   "source": [
    "venues = results['response']['venues']\n",
    "\n",
    "dataframe = json_normalize(venues)\n",
    "dataframe.head()"
   ]
  },
  {
   "cell_type": "code",
   "execution_count": 13,
   "metadata": {},
   "outputs": [
    {
     "data": {
      "text/plain": [
       "(0, 0)"
      ]
     },
     "execution_count": 13,
     "metadata": {},
     "output_type": "execute_result"
    }
   ],
   "source": [
    "dataframe.shape"
   ]
  },
  {
   "cell_type": "markdown",
   "metadata": {},
   "source": [
    "### OK, no result so far. I know there is places with Turkish, Lebanese and meny other Mediterranean kitchen around. But I think they not registered with Foursquare.                                                           Let's try Yelp."
   ]
  },
  {
   "cell_type": "code",
   "execution_count": 14,
   "metadata": {},
   "outputs": [
    {
     "name": "stdout",
     "output_type": "stream",
     "text": [
      "Done\n"
     ]
    }
   ],
   "source": [
    "from yelpapi import YelpAPI\n",
    "import os\n",
    "import pandas as pd\n",
    "\n",
    "yelp_api = YelpAPI(os.environ.get('yelp_key'))\n",
    "print('Done')"
   ]
  },
  {
   "cell_type": "code",
   "execution_count": 15,
   "metadata": {},
   "outputs": [
    {
     "data": {
      "text/plain": [
       "dict"
      ]
     },
     "execution_count": 15,
     "metadata": {},
     "output_type": "execute_result"
    }
   ],
   "source": [
    "term = 'Turkish restaurant bar'\n",
    "location = 'Charlotte, NC'\n",
    "search_limit = 10\n",
    "response = yelp_api.search_query(term = term,\n",
    "                                 location = location,\n",
    "                                 limit = search_limit)\n",
    "type(response)  "
   ]
  },
  {
   "cell_type": "code",
   "execution_count": 16,
   "metadata": {},
   "outputs": [
    {
     "data": {
      "text/html": [
       "<div>\n",
       "<style scoped>\n",
       "    .dataframe tbody tr th:only-of-type {\n",
       "        vertical-align: middle;\n",
       "    }\n",
       "\n",
       "    .dataframe tbody tr th {\n",
       "        vertical-align: top;\n",
       "    }\n",
       "\n",
       "    .dataframe thead th {\n",
       "        text-align: right;\n",
       "    }\n",
       "</style>\n",
       "<table border=\"1\" class=\"dataframe\">\n",
       "  <thead>\n",
       "    <tr style=\"text-align: right;\">\n",
       "      <th></th>\n",
       "      <th>id</th>\n",
       "      <th>alias</th>\n",
       "      <th>name</th>\n",
       "      <th>image_url</th>\n",
       "      <th>is_closed</th>\n",
       "      <th>url</th>\n",
       "      <th>review_count</th>\n",
       "      <th>categories</th>\n",
       "      <th>rating</th>\n",
       "      <th>coordinates</th>\n",
       "      <th>transactions</th>\n",
       "      <th>price</th>\n",
       "      <th>location</th>\n",
       "      <th>phone</th>\n",
       "      <th>display_phone</th>\n",
       "      <th>distance</th>\n",
       "    </tr>\n",
       "  </thead>\n",
       "  <tbody>\n",
       "    <tr>\n",
       "      <th>0</th>\n",
       "      <td>Im8C3n4D_W9ItRfmAwyxTA</td>\n",
       "      <td>metropolitan-cafe-and-catering-charlotte</td>\n",
       "      <td>Metropolitan Cafe &amp; Catering</td>\n",
       "      <td>https://s3-media2.fl.yelpcdn.com/bphoto/zr3HI1...</td>\n",
       "      <td>False</td>\n",
       "      <td>https://www.yelp.com/biz/metropolitan-cafe-and...</td>\n",
       "      <td>84</td>\n",
       "      <td>[{'alias': 'turkish', 'title': 'Turkish'}]</td>\n",
       "      <td>3.0</td>\n",
       "      <td>{'latitude': 35.22591, 'longitude': -80.8466399}</td>\n",
       "      <td>[delivery]</td>\n",
       "      <td>$$</td>\n",
       "      <td>{'address1': '138 Brevard Ct', 'address2': '',...</td>\n",
       "      <td>+17043335175</td>\n",
       "      <td>(704) 333-5175</td>\n",
       "      <td>3628.489901</td>\n",
       "    </tr>\n",
       "    <tr>\n",
       "      <th>1</th>\n",
       "      <td>y14TQfHRL5Gkk-CorcR6bg</td>\n",
       "      <td>euro-grill-and-cafe-charlotte</td>\n",
       "      <td>Euro Grill &amp; Cafe</td>\n",
       "      <td>https://s3-media3.fl.yelpcdn.com/bphoto/6kZh6d...</td>\n",
       "      <td>False</td>\n",
       "      <td>https://www.yelp.com/biz/euro-grill-and-cafe-c...</td>\n",
       "      <td>87</td>\n",
       "      <td>[{'alias': 'modern_european', 'title': 'Modern...</td>\n",
       "      <td>4.5</td>\n",
       "      <td>{'latitude': 35.219057, 'longitude': -80.796997}</td>\n",
       "      <td>[delivery]</td>\n",
       "      <td>$</td>\n",
       "      <td>{'address1': '2719 Central Ave', 'address2': '...</td>\n",
       "      <td>+17043439828</td>\n",
       "      <td>(704) 343-9828</td>\n",
       "      <td>3976.400333</td>\n",
       "    </tr>\n",
       "    <tr>\n",
       "      <th>2</th>\n",
       "      <td>fPmPROBqVT8-D-aTc6VBEQ</td>\n",
       "      <td>al-basha-charlotte</td>\n",
       "      <td>Al-basha</td>\n",
       "      <td>https://s3-media2.fl.yelpcdn.com/bphoto/n3feeB...</td>\n",
       "      <td>False</td>\n",
       "      <td>https://www.yelp.com/biz/al-basha-charlotte?ad...</td>\n",
       "      <td>72</td>\n",
       "      <td>[{'alias': 'hookah_bars', 'title': 'Hookah Bar...</td>\n",
       "      <td>4.5</td>\n",
       "      <td>{'latitude': 35.2035786447837, 'longitude': -8...</td>\n",
       "      <td>[pickup, delivery]</td>\n",
       "      <td>$$</td>\n",
       "      <td>{'address1': '3145 N Sharon Amity Rd', 'addres...</td>\n",
       "      <td>+19802074077</td>\n",
       "      <td>(980) 207-4077</td>\n",
       "      <td>6412.128038</td>\n",
       "    </tr>\n",
       "    <tr>\n",
       "      <th>3</th>\n",
       "      <td>NVJ1rVXyThay6Om-Q2LKJA</td>\n",
       "      <td>cedar-land-charlotte</td>\n",
       "      <td>Cedar Land</td>\n",
       "      <td>https://s3-media3.fl.yelpcdn.com/bphoto/VQFgJW...</td>\n",
       "      <td>False</td>\n",
       "      <td>https://www.yelp.com/biz/cedar-land-charlotte?...</td>\n",
       "      <td>42</td>\n",
       "      <td>[{'alias': 'lebanese', 'title': 'Lebanese'}, {...</td>\n",
       "      <td>4.0</td>\n",
       "      <td>{'latitude': 35.211861, 'longitude': -80.761811}</td>\n",
       "      <td>[delivery]</td>\n",
       "      <td>$</td>\n",
       "      <td>{'address1': '4832 Central Ave', 'address2': '...</td>\n",
       "      <td>+17045359662</td>\n",
       "      <td>(704) 535-9662</td>\n",
       "      <td>6486.025966</td>\n",
       "    </tr>\n",
       "    <tr>\n",
       "      <th>4</th>\n",
       "      <td>PqcOSnCsJTT9Yd2xWKIMWw</td>\n",
       "      <td>la-shish-kabob-charlotte</td>\n",
       "      <td>La Shish Kabob</td>\n",
       "      <td>https://s3-media2.fl.yelpcdn.com/bphoto/S8tNrK...</td>\n",
       "      <td>False</td>\n",
       "      <td>https://www.yelp.com/biz/la-shish-kabob-charlo...</td>\n",
       "      <td>358</td>\n",
       "      <td>[{'alias': 'mideastern', 'title': 'Middle East...</td>\n",
       "      <td>4.5</td>\n",
       "      <td>{'latitude': 35.2032998, 'longitude': -80.7604...</td>\n",
       "      <td>[pickup, delivery]</td>\n",
       "      <td>$</td>\n",
       "      <td>{'address1': '3117-A N Sharon Amity', 'address...</td>\n",
       "      <td>+17045677900</td>\n",
       "      <td>(704) 567-7900</td>\n",
       "      <td>6366.918179</td>\n",
       "    </tr>\n",
       "  </tbody>\n",
       "</table>\n",
       "</div>"
      ],
      "text/plain": [
       "                       id                                     alias  \\\n",
       "0  Im8C3n4D_W9ItRfmAwyxTA  metropolitan-cafe-and-catering-charlotte   \n",
       "1  y14TQfHRL5Gkk-CorcR6bg             euro-grill-and-cafe-charlotte   \n",
       "2  fPmPROBqVT8-D-aTc6VBEQ                        al-basha-charlotte   \n",
       "3  NVJ1rVXyThay6Om-Q2LKJA                      cedar-land-charlotte   \n",
       "4  PqcOSnCsJTT9Yd2xWKIMWw                  la-shish-kabob-charlotte   \n",
       "\n",
       "                           name  \\\n",
       "0  Metropolitan Cafe & Catering   \n",
       "1             Euro Grill & Cafe   \n",
       "2                      Al-basha   \n",
       "3                    Cedar Land   \n",
       "4                La Shish Kabob   \n",
       "\n",
       "                                           image_url is_closed  \\\n",
       "0  https://s3-media2.fl.yelpcdn.com/bphoto/zr3HI1...     False   \n",
       "1  https://s3-media3.fl.yelpcdn.com/bphoto/6kZh6d...     False   \n",
       "2  https://s3-media2.fl.yelpcdn.com/bphoto/n3feeB...     False   \n",
       "3  https://s3-media3.fl.yelpcdn.com/bphoto/VQFgJW...     False   \n",
       "4  https://s3-media2.fl.yelpcdn.com/bphoto/S8tNrK...     False   \n",
       "\n",
       "                                                 url review_count  \\\n",
       "0  https://www.yelp.com/biz/metropolitan-cafe-and...           84   \n",
       "1  https://www.yelp.com/biz/euro-grill-and-cafe-c...           87   \n",
       "2  https://www.yelp.com/biz/al-basha-charlotte?ad...           72   \n",
       "3  https://www.yelp.com/biz/cedar-land-charlotte?...           42   \n",
       "4  https://www.yelp.com/biz/la-shish-kabob-charlo...          358   \n",
       "\n",
       "                                          categories  rating  \\\n",
       "0         [{'alias': 'turkish', 'title': 'Turkish'}]     3.0   \n",
       "1  [{'alias': 'modern_european', 'title': 'Modern...     4.5   \n",
       "2  [{'alias': 'hookah_bars', 'title': 'Hookah Bar...     4.5   \n",
       "3  [{'alias': 'lebanese', 'title': 'Lebanese'}, {...     4.0   \n",
       "4  [{'alias': 'mideastern', 'title': 'Middle East...     4.5   \n",
       "\n",
       "                                         coordinates        transactions  \\\n",
       "0   {'latitude': 35.22591, 'longitude': -80.8466399}          [delivery]   \n",
       "1   {'latitude': 35.219057, 'longitude': -80.796997}          [delivery]   \n",
       "2  {'latitude': 35.2035786447837, 'longitude': -8...  [pickup, delivery]   \n",
       "3   {'latitude': 35.211861, 'longitude': -80.761811}          [delivery]   \n",
       "4  {'latitude': 35.2032998, 'longitude': -80.7604...  [pickup, delivery]   \n",
       "\n",
       "  price                                           location         phone  \\\n",
       "0    $$  {'address1': '138 Brevard Ct', 'address2': '',...  +17043335175   \n",
       "1     $  {'address1': '2719 Central Ave', 'address2': '...  +17043439828   \n",
       "2    $$  {'address1': '3145 N Sharon Amity Rd', 'addres...  +19802074077   \n",
       "3     $  {'address1': '4832 Central Ave', 'address2': '...  +17045359662   \n",
       "4     $  {'address1': '3117-A N Sharon Amity', 'address...  +17045677900   \n",
       "\n",
       "    display_phone     distance  \n",
       "0  (704) 333-5175  3628.489901  \n",
       "1  (704) 343-9828  3976.400333  \n",
       "2  (980) 207-4077  6412.128038  \n",
       "3  (704) 535-9662  6486.025966  \n",
       "4  (704) 567-7900  6366.918179  "
      ]
     },
     "execution_count": 16,
     "metadata": {},
     "output_type": "execute_result"
    }
   ],
   "source": [
    "cols = list(response['businesses'][0].keys())\n",
    "restaurants = pd.DataFrame(columns=cols)\n",
    "for biz in response['businesses']:\n",
    "    restaurants = restaurants.append(biz, ignore_index=True)\n",
    "restaurants.head()"
   ]
  },
  {
   "cell_type": "code",
   "execution_count": 17,
   "metadata": {},
   "outputs": [
    {
     "data": {
      "text/plain": [
       "(10, 16)"
      ]
     },
     "execution_count": 17,
     "metadata": {},
     "output_type": "execute_result"
    }
   ],
   "source": [
    "restaurants.shape"
   ]
  },
  {
   "cell_type": "markdown",
   "metadata": {},
   "source": [
    "### Finaly we did it! So now we have list  of 50 restaurants around Charlotte, let's put them on the map to visualize there are location."
   ]
  },
  {
   "cell_type": "markdown",
   "metadata": {},
   "source": [
    "#### Let's keep places with rating 4.5 and higher."
   ]
  },
  {
   "cell_type": "code",
   "execution_count": 18,
   "metadata": {},
   "outputs": [],
   "source": [
    "booleans=[]\n",
    "for rating in restaurants.rating:\n",
    "    if rating >= 4.5:\n",
    "        booleans.append(True)\n",
    "    else:\n",
    "        booleans.append(False)"
   ]
  },
  {
   "cell_type": "code",
   "execution_count": 19,
   "metadata": {},
   "outputs": [],
   "source": [
    "rate = pd.Series(booleans)"
   ]
  },
  {
   "cell_type": "code",
   "execution_count": 20,
   "metadata": {},
   "outputs": [],
   "source": [
    "restaurants = restaurants[restaurants.rating >=4.5].reset_index(drop=True)"
   ]
  },
  {
   "cell_type": "code",
   "execution_count": 21,
   "metadata": {},
   "outputs": [
    {
     "data": {
      "text/plain": [
       "(6, 16)"
      ]
     },
     "execution_count": 21,
     "metadata": {},
     "output_type": "execute_result"
    }
   ],
   "source": [
    "restaurants.shape"
   ]
  },
  {
   "cell_type": "markdown",
   "metadata": {},
   "source": [
    "#### So we have 6 restaurants left in our dataframe, now let's get the latitude and longitude."
   ]
  },
  {
   "cell_type": "code",
   "execution_count": 22,
   "metadata": {},
   "outputs": [
    {
     "data": {
      "text/html": [
       "<div>\n",
       "<style scoped>\n",
       "    .dataframe tbody tr th:only-of-type {\n",
       "        vertical-align: middle;\n",
       "    }\n",
       "\n",
       "    .dataframe tbody tr th {\n",
       "        vertical-align: top;\n",
       "    }\n",
       "\n",
       "    .dataframe thead th {\n",
       "        text-align: right;\n",
       "    }\n",
       "</style>\n",
       "<table border=\"1\" class=\"dataframe\">\n",
       "  <thead>\n",
       "    <tr style=\"text-align: right;\">\n",
       "      <th></th>\n",
       "      <th>id</th>\n",
       "      <th>alias</th>\n",
       "      <th>name</th>\n",
       "      <th>image_url</th>\n",
       "      <th>is_closed</th>\n",
       "      <th>url</th>\n",
       "      <th>review_count</th>\n",
       "      <th>categories</th>\n",
       "      <th>rating</th>\n",
       "      <th>coordinates</th>\n",
       "      <th>transactions</th>\n",
       "      <th>price</th>\n",
       "      <th>location</th>\n",
       "      <th>phone</th>\n",
       "      <th>display_phone</th>\n",
       "      <th>distance</th>\n",
       "    </tr>\n",
       "  </thead>\n",
       "  <tbody>\n",
       "    <tr>\n",
       "      <th>0</th>\n",
       "      <td>y14TQfHRL5Gkk-CorcR6bg</td>\n",
       "      <td>euro-grill-and-cafe-charlotte</td>\n",
       "      <td>Euro Grill &amp; Cafe</td>\n",
       "      <td>https://s3-media3.fl.yelpcdn.com/bphoto/6kZh6d...</td>\n",
       "      <td>False</td>\n",
       "      <td>https://www.yelp.com/biz/euro-grill-and-cafe-c...</td>\n",
       "      <td>87</td>\n",
       "      <td>[{'alias': 'modern_european', 'title': 'Modern...</td>\n",
       "      <td>4.5</td>\n",
       "      <td>{'latitude': 35.219057, 'longitude': -80.796997}</td>\n",
       "      <td>[delivery]</td>\n",
       "      <td>$</td>\n",
       "      <td>{'address1': '2719 Central Ave', 'address2': '...</td>\n",
       "      <td>+17043439828</td>\n",
       "      <td>(704) 343-9828</td>\n",
       "      <td>3976.400333</td>\n",
       "    </tr>\n",
       "    <tr>\n",
       "      <th>1</th>\n",
       "      <td>fPmPROBqVT8-D-aTc6VBEQ</td>\n",
       "      <td>al-basha-charlotte</td>\n",
       "      <td>Al-basha</td>\n",
       "      <td>https://s3-media2.fl.yelpcdn.com/bphoto/n3feeB...</td>\n",
       "      <td>False</td>\n",
       "      <td>https://www.yelp.com/biz/al-basha-charlotte?ad...</td>\n",
       "      <td>72</td>\n",
       "      <td>[{'alias': 'hookah_bars', 'title': 'Hookah Bar...</td>\n",
       "      <td>4.5</td>\n",
       "      <td>{'latitude': 35.2035786447837, 'longitude': -8...</td>\n",
       "      <td>[pickup, delivery]</td>\n",
       "      <td>$$</td>\n",
       "      <td>{'address1': '3145 N Sharon Amity Rd', 'addres...</td>\n",
       "      <td>+19802074077</td>\n",
       "      <td>(980) 207-4077</td>\n",
       "      <td>6412.128038</td>\n",
       "    </tr>\n",
       "    <tr>\n",
       "      <th>2</th>\n",
       "      <td>PqcOSnCsJTT9Yd2xWKIMWw</td>\n",
       "      <td>la-shish-kabob-charlotte</td>\n",
       "      <td>La Shish Kabob</td>\n",
       "      <td>https://s3-media2.fl.yelpcdn.com/bphoto/S8tNrK...</td>\n",
       "      <td>False</td>\n",
       "      <td>https://www.yelp.com/biz/la-shish-kabob-charlo...</td>\n",
       "      <td>358</td>\n",
       "      <td>[{'alias': 'mideastern', 'title': 'Middle East...</td>\n",
       "      <td>4.5</td>\n",
       "      <td>{'latitude': 35.2032998, 'longitude': -80.7604...</td>\n",
       "      <td>[pickup, delivery]</td>\n",
       "      <td>$</td>\n",
       "      <td>{'address1': '3117-A N Sharon Amity', 'address...</td>\n",
       "      <td>+17045677900</td>\n",
       "      <td>(704) 567-7900</td>\n",
       "      <td>6366.918179</td>\n",
       "    </tr>\n",
       "    <tr>\n",
       "      <th>3</th>\n",
       "      <td>hcjnOtiW7Bdym3-7PaLUzA</td>\n",
       "      <td>le-kebab-grill-charlotte</td>\n",
       "      <td>Le Kebab Grill</td>\n",
       "      <td>https://s3-media1.fl.yelpcdn.com/bphoto/NR8Zsw...</td>\n",
       "      <td>False</td>\n",
       "      <td>https://www.yelp.com/biz/le-kebab-grill-charlo...</td>\n",
       "      <td>458</td>\n",
       "      <td>[{'alias': 'mediterranean', 'title': 'Mediterr...</td>\n",
       "      <td>4.5</td>\n",
       "      <td>{'latitude': 35.3019365, 'longitude': -80.7491...</td>\n",
       "      <td>[pickup, delivery]</td>\n",
       "      <td>$$</td>\n",
       "      <td>{'address1': '350 E Mccullough Dr', 'address2'...</td>\n",
       "      <td>+17045477217</td>\n",
       "      <td>(704) 547-7217</td>\n",
       "      <td>13898.930265</td>\n",
       "    </tr>\n",
       "    <tr>\n",
       "      <th>4</th>\n",
       "      <td>22MYhTXwSXaS4rW2VOrR-w</td>\n",
       "      <td>jasmine-grill-charlotte</td>\n",
       "      <td>Jasmine Grill</td>\n",
       "      <td>https://s3-media3.fl.yelpcdn.com/bphoto/dUaHa-...</td>\n",
       "      <td>False</td>\n",
       "      <td>https://www.yelp.com/biz/jasmine-grill-charlot...</td>\n",
       "      <td>597</td>\n",
       "      <td>[{'alias': 'mediterranean', 'title': 'Mediterr...</td>\n",
       "      <td>4.5</td>\n",
       "      <td>{'latitude': 35.1684737768456, 'longitude': -8...</td>\n",
       "      <td>[pickup, delivery]</td>\n",
       "      <td>$$</td>\n",
       "      <td>{'address1': '5033 South Blvd', 'address2': 'S...</td>\n",
       "      <td>+19802071859</td>\n",
       "      <td>(980) 207-1859</td>\n",
       "      <td>5093.450701</td>\n",
       "    </tr>\n",
       "    <tr>\n",
       "      <th>5</th>\n",
       "      <td>ZGaW5a7wxXxUgGTtbFqNxg</td>\n",
       "      <td>the-mad-greek-of-charlotte-charlotte-4</td>\n",
       "      <td>The Mad Greek of Charlotte</td>\n",
       "      <td>https://s3-media3.fl.yelpcdn.com/bphoto/Rem1sE...</td>\n",
       "      <td>False</td>\n",
       "      <td>https://www.yelp.com/biz/the-mad-greek-of-char...</td>\n",
       "      <td>343</td>\n",
       "      <td>[{'alias': 'greek', 'title': 'Greek'}, {'alias...</td>\n",
       "      <td>4.5</td>\n",
       "      <td>{'latitude': 35.1698647, 'longitude': -80.8756...</td>\n",
       "      <td>[pickup, delivery]</td>\n",
       "      <td>$$</td>\n",
       "      <td>{'address1': '5011 South Blvd', 'address2': ''...</td>\n",
       "      <td>+17045238296</td>\n",
       "      <td>(704) 523-8296</td>\n",
       "      <td>5029.373376</td>\n",
       "    </tr>\n",
       "  </tbody>\n",
       "</table>\n",
       "</div>"
      ],
      "text/plain": [
       "                       id                                   alias  \\\n",
       "0  y14TQfHRL5Gkk-CorcR6bg           euro-grill-and-cafe-charlotte   \n",
       "1  fPmPROBqVT8-D-aTc6VBEQ                      al-basha-charlotte   \n",
       "2  PqcOSnCsJTT9Yd2xWKIMWw                la-shish-kabob-charlotte   \n",
       "3  hcjnOtiW7Bdym3-7PaLUzA                le-kebab-grill-charlotte   \n",
       "4  22MYhTXwSXaS4rW2VOrR-w                 jasmine-grill-charlotte   \n",
       "5  ZGaW5a7wxXxUgGTtbFqNxg  the-mad-greek-of-charlotte-charlotte-4   \n",
       "\n",
       "                         name  \\\n",
       "0           Euro Grill & Cafe   \n",
       "1                    Al-basha   \n",
       "2              La Shish Kabob   \n",
       "3              Le Kebab Grill   \n",
       "4               Jasmine Grill   \n",
       "5  The Mad Greek of Charlotte   \n",
       "\n",
       "                                           image_url is_closed  \\\n",
       "0  https://s3-media3.fl.yelpcdn.com/bphoto/6kZh6d...     False   \n",
       "1  https://s3-media2.fl.yelpcdn.com/bphoto/n3feeB...     False   \n",
       "2  https://s3-media2.fl.yelpcdn.com/bphoto/S8tNrK...     False   \n",
       "3  https://s3-media1.fl.yelpcdn.com/bphoto/NR8Zsw...     False   \n",
       "4  https://s3-media3.fl.yelpcdn.com/bphoto/dUaHa-...     False   \n",
       "5  https://s3-media3.fl.yelpcdn.com/bphoto/Rem1sE...     False   \n",
       "\n",
       "                                                 url review_count  \\\n",
       "0  https://www.yelp.com/biz/euro-grill-and-cafe-c...           87   \n",
       "1  https://www.yelp.com/biz/al-basha-charlotte?ad...           72   \n",
       "2  https://www.yelp.com/biz/la-shish-kabob-charlo...          358   \n",
       "3  https://www.yelp.com/biz/le-kebab-grill-charlo...          458   \n",
       "4  https://www.yelp.com/biz/jasmine-grill-charlot...          597   \n",
       "5  https://www.yelp.com/biz/the-mad-greek-of-char...          343   \n",
       "\n",
       "                                          categories  rating  \\\n",
       "0  [{'alias': 'modern_european', 'title': 'Modern...     4.5   \n",
       "1  [{'alias': 'hookah_bars', 'title': 'Hookah Bar...     4.5   \n",
       "2  [{'alias': 'mideastern', 'title': 'Middle East...     4.5   \n",
       "3  [{'alias': 'mediterranean', 'title': 'Mediterr...     4.5   \n",
       "4  [{'alias': 'mediterranean', 'title': 'Mediterr...     4.5   \n",
       "5  [{'alias': 'greek', 'title': 'Greek'}, {'alias...     4.5   \n",
       "\n",
       "                                         coordinates        transactions  \\\n",
       "0   {'latitude': 35.219057, 'longitude': -80.796997}          [delivery]   \n",
       "1  {'latitude': 35.2035786447837, 'longitude': -8...  [pickup, delivery]   \n",
       "2  {'latitude': 35.2032998, 'longitude': -80.7604...  [pickup, delivery]   \n",
       "3  {'latitude': 35.3019365, 'longitude': -80.7491...  [pickup, delivery]   \n",
       "4  {'latitude': 35.1684737768456, 'longitude': -8...  [pickup, delivery]   \n",
       "5  {'latitude': 35.1698647, 'longitude': -80.8756...  [pickup, delivery]   \n",
       "\n",
       "  price                                           location         phone  \\\n",
       "0     $  {'address1': '2719 Central Ave', 'address2': '...  +17043439828   \n",
       "1    $$  {'address1': '3145 N Sharon Amity Rd', 'addres...  +19802074077   \n",
       "2     $  {'address1': '3117-A N Sharon Amity', 'address...  +17045677900   \n",
       "3    $$  {'address1': '350 E Mccullough Dr', 'address2'...  +17045477217   \n",
       "4    $$  {'address1': '5033 South Blvd', 'address2': 'S...  +19802071859   \n",
       "5    $$  {'address1': '5011 South Blvd', 'address2': ''...  +17045238296   \n",
       "\n",
       "    display_phone      distance  \n",
       "0  (704) 343-9828   3976.400333  \n",
       "1  (980) 207-4077   6412.128038  \n",
       "2  (704) 567-7900   6366.918179  \n",
       "3  (704) 547-7217  13898.930265  \n",
       "4  (980) 207-1859   5093.450701  \n",
       "5  (704) 523-8296   5029.373376  "
      ]
     },
     "execution_count": 22,
     "metadata": {},
     "output_type": "execute_result"
    }
   ],
   "source": [
    "restaurants"
   ]
  },
  {
   "cell_type": "code",
   "execution_count": 23,
   "metadata": {},
   "outputs": [
    {
     "data": {
      "text/html": [
       "<div>\n",
       "<style scoped>\n",
       "    .dataframe tbody tr th:only-of-type {\n",
       "        vertical-align: middle;\n",
       "    }\n",
       "\n",
       "    .dataframe tbody tr th {\n",
       "        vertical-align: top;\n",
       "    }\n",
       "\n",
       "    .dataframe thead th {\n",
       "        text-align: right;\n",
       "    }\n",
       "</style>\n",
       "<table border=\"1\" class=\"dataframe\">\n",
       "  <thead>\n",
       "    <tr style=\"text-align: right;\">\n",
       "      <th></th>\n",
       "      <th>name</th>\n",
       "      <th>coordinates</th>\n",
       "    </tr>\n",
       "  </thead>\n",
       "  <tbody>\n",
       "    <tr>\n",
       "      <th>0</th>\n",
       "      <td>Euro Grill &amp; Cafe</td>\n",
       "      <td>{'latitude': 35.219057, 'longitude': -80.796997}</td>\n",
       "    </tr>\n",
       "    <tr>\n",
       "      <th>1</th>\n",
       "      <td>Al-basha</td>\n",
       "      <td>{'latitude': 35.2035786447837, 'longitude': -8...</td>\n",
       "    </tr>\n",
       "    <tr>\n",
       "      <th>2</th>\n",
       "      <td>La Shish Kabob</td>\n",
       "      <td>{'latitude': 35.2032998, 'longitude': -80.7604...</td>\n",
       "    </tr>\n",
       "    <tr>\n",
       "      <th>3</th>\n",
       "      <td>Le Kebab Grill</td>\n",
       "      <td>{'latitude': 35.3019365, 'longitude': -80.7491...</td>\n",
       "    </tr>\n",
       "    <tr>\n",
       "      <th>4</th>\n",
       "      <td>Jasmine Grill</td>\n",
       "      <td>{'latitude': 35.1684737768456, 'longitude': -8...</td>\n",
       "    </tr>\n",
       "    <tr>\n",
       "      <th>5</th>\n",
       "      <td>The Mad Greek of Charlotte</td>\n",
       "      <td>{'latitude': 35.1698647, 'longitude': -80.8756...</td>\n",
       "    </tr>\n",
       "  </tbody>\n",
       "</table>\n",
       "</div>"
      ],
      "text/plain": [
       "                         name  \\\n",
       "0           Euro Grill & Cafe   \n",
       "1                    Al-basha   \n",
       "2              La Shish Kabob   \n",
       "3              Le Kebab Grill   \n",
       "4               Jasmine Grill   \n",
       "5  The Mad Greek of Charlotte   \n",
       "\n",
       "                                         coordinates  \n",
       "0   {'latitude': 35.219057, 'longitude': -80.796997}  \n",
       "1  {'latitude': 35.2035786447837, 'longitude': -8...  \n",
       "2  {'latitude': 35.2032998, 'longitude': -80.7604...  \n",
       "3  {'latitude': 35.3019365, 'longitude': -80.7491...  \n",
       "4  {'latitude': 35.1684737768456, 'longitude': -8...  \n",
       "5  {'latitude': 35.1698647, 'longitude': -80.8756...  "
      ]
     },
     "execution_count": 23,
     "metadata": {},
     "output_type": "execute_result"
    }
   ],
   "source": [
    "restaurants_latlng = restaurants.loc[:, ['name', 'coordinates']]\n",
    "restaurants_latlng"
   ]
  },
  {
   "cell_type": "code",
   "execution_count": 24,
   "metadata": {},
   "outputs": [
    {
     "data": {
      "text/html": [
       "<div>\n",
       "<style scoped>\n",
       "    .dataframe tbody tr th:only-of-type {\n",
       "        vertical-align: middle;\n",
       "    }\n",
       "\n",
       "    .dataframe tbody tr th {\n",
       "        vertical-align: top;\n",
       "    }\n",
       "\n",
       "    .dataframe thead th {\n",
       "        text-align: right;\n",
       "    }\n",
       "</style>\n",
       "<table border=\"1\" class=\"dataframe\">\n",
       "  <thead>\n",
       "    <tr style=\"text-align: right;\">\n",
       "      <th></th>\n",
       "      <th>latitude</th>\n",
       "      <th>longitude</th>\n",
       "    </tr>\n",
       "  </thead>\n",
       "  <tbody>\n",
       "    <tr>\n",
       "      <th>0</th>\n",
       "      <td>35.219057</td>\n",
       "      <td>-80.796997</td>\n",
       "    </tr>\n",
       "    <tr>\n",
       "      <th>1</th>\n",
       "      <td>35.203579</td>\n",
       "      <td>-80.760565</td>\n",
       "    </tr>\n",
       "    <tr>\n",
       "      <th>2</th>\n",
       "      <td>35.203300</td>\n",
       "      <td>-80.760435</td>\n",
       "    </tr>\n",
       "    <tr>\n",
       "      <th>3</th>\n",
       "      <td>35.301936</td>\n",
       "      <td>-80.749138</td>\n",
       "    </tr>\n",
       "    <tr>\n",
       "      <th>4</th>\n",
       "      <td>35.168474</td>\n",
       "      <td>-80.875257</td>\n",
       "    </tr>\n",
       "    <tr>\n",
       "      <th>5</th>\n",
       "      <td>35.169865</td>\n",
       "      <td>-80.875631</td>\n",
       "    </tr>\n",
       "  </tbody>\n",
       "</table>\n",
       "</div>"
      ],
      "text/plain": [
       "    latitude  longitude\n",
       "0  35.219057 -80.796997\n",
       "1  35.203579 -80.760565\n",
       "2  35.203300 -80.760435\n",
       "3  35.301936 -80.749138\n",
       "4  35.168474 -80.875257\n",
       "5  35.169865 -80.875631"
      ]
     },
     "execution_count": 24,
     "metadata": {},
     "output_type": "execute_result"
    }
   ],
   "source": [
    "latlng = restaurants_latlng['coordinates'].apply(pd.Series)\n",
    "latlng\n"
   ]
  },
  {
   "cell_type": "code",
   "execution_count": 25,
   "metadata": {},
   "outputs": [
    {
     "data": {
      "text/html": [
       "<div>\n",
       "<style scoped>\n",
       "    .dataframe tbody tr th:only-of-type {\n",
       "        vertical-align: middle;\n",
       "    }\n",
       "\n",
       "    .dataframe tbody tr th {\n",
       "        vertical-align: top;\n",
       "    }\n",
       "\n",
       "    .dataframe thead th {\n",
       "        text-align: right;\n",
       "    }\n",
       "</style>\n",
       "<table border=\"1\" class=\"dataframe\">\n",
       "  <thead>\n",
       "    <tr style=\"text-align: right;\">\n",
       "      <th></th>\n",
       "      <th>name</th>\n",
       "      <th>latitude</th>\n",
       "      <th>longitude</th>\n",
       "    </tr>\n",
       "  </thead>\n",
       "  <tbody>\n",
       "    <tr>\n",
       "      <th>0</th>\n",
       "      <td>Euro Grill &amp; Cafe</td>\n",
       "      <td>35.219057</td>\n",
       "      <td>-80.796997</td>\n",
       "    </tr>\n",
       "    <tr>\n",
       "      <th>1</th>\n",
       "      <td>Al-basha</td>\n",
       "      <td>35.203579</td>\n",
       "      <td>-80.760565</td>\n",
       "    </tr>\n",
       "    <tr>\n",
       "      <th>2</th>\n",
       "      <td>La Shish Kabob</td>\n",
       "      <td>35.203300</td>\n",
       "      <td>-80.760435</td>\n",
       "    </tr>\n",
       "    <tr>\n",
       "      <th>3</th>\n",
       "      <td>Le Kebab Grill</td>\n",
       "      <td>35.301936</td>\n",
       "      <td>-80.749138</td>\n",
       "    </tr>\n",
       "    <tr>\n",
       "      <th>4</th>\n",
       "      <td>Jasmine Grill</td>\n",
       "      <td>35.168474</td>\n",
       "      <td>-80.875257</td>\n",
       "    </tr>\n",
       "    <tr>\n",
       "      <th>5</th>\n",
       "      <td>The Mad Greek of Charlotte</td>\n",
       "      <td>35.169865</td>\n",
       "      <td>-80.875631</td>\n",
       "    </tr>\n",
       "  </tbody>\n",
       "</table>\n",
       "</div>"
      ],
      "text/plain": [
       "                         name   latitude  longitude\n",
       "0           Euro Grill & Cafe  35.219057 -80.796997\n",
       "1                    Al-basha  35.203579 -80.760565\n",
       "2              La Shish Kabob  35.203300 -80.760435\n",
       "3              Le Kebab Grill  35.301936 -80.749138\n",
       "4               Jasmine Grill  35.168474 -80.875257\n",
       "5  The Mad Greek of Charlotte  35.169865 -80.875631"
      ]
     },
     "execution_count": 25,
     "metadata": {},
     "output_type": "execute_result"
    }
   ],
   "source": [
    "restaurants_location = pd.concat([restaurants_latlng, latlng], axis=1).drop('coordinates', axis=1)\n",
    "restaurants_location"
   ]
  },
  {
   "cell_type": "markdown",
   "metadata": {},
   "source": [
    "#### Time for the Folium"
   ]
  },
  {
   "cell_type": "code",
   "execution_count": 26,
   "metadata": {},
   "outputs": [
    {
     "name": "stdout",
     "output_type": "stream",
     "text": [
      "Folium installed\n"
     ]
    }
   ],
   "source": [
    "import folium\n",
    "\n",
    "print('Folium installed')"
   ]
  },
  {
   "cell_type": "code",
   "execution_count": 47,
   "metadata": {
    "collapsed": true
   },
   "outputs": [
    {
     "name": "stdout",
     "output_type": "stream",
     "text": [
      "Collecting opencageNote: you may need to restart the kernel to use updated packages.\n",
      "  Downloading opencage-1.2.1-py3-none-any.whl (6.1 kB)\n",
      "Requirement already satisfied: Requests>=2.2.0 in d:\\anaconda\\lib\\site-packages (from opencage) (2.24.0)\n",
      "Requirement already satisfied: six>=1.4.0 in d:\\anaconda\\lib\\site-packages (from opencage) (1.15.0)\n",
      "Collecting backoff>=1.10.0\n",
      "  Downloading backoff-1.10.0-py2.py3-none-any.whl (31 kB)\n",
      "Requirement already satisfied: pyopenssl>=0.15.1 in d:\\anaconda\\lib\\site-packages (from opencage) (19.1.0)\n",
      "Requirement already satisfied: certifi>=2017.4.17 in d:\\anaconda\\lib\\site-packages (from Requests>=2.2.0->opencage) (2020.6.20)\n",
      "Requirement already satisfied: urllib3!=1.25.0,!=1.25.1,<1.26,>=1.21.1 in d:\\anaconda\\lib\\site-packages (from Requests>=2.2.0->opencage) (1.25.9)\n",
      "Requirement already satisfied: idna<3,>=2.5 in d:\\anaconda\\lib\\site-packages (from Requests>=2.2.0->opencage) (2.10)\n",
      "Requirement already satisfied: chardet<4,>=3.0.2 in d:\\anaconda\\lib\\site-packages (from Requests>=2.2.0->opencage) (3.0.4)\n",
      "Requirement already satisfied: cryptography>=2.8 in d:\\anaconda\\lib\\site-packages (from pyopenssl>=0.15.1->opencage) (2.9.2)\n",
      "Requirement already satisfied: cffi!=1.11.3,>=1.8 in d:\\anaconda\\lib\\site-packages (from cryptography>=2.8->pyopenssl>=0.15.1->opencage) (1.14.0)\n",
      "Requirement already satisfied: pycparser in d:\\anaconda\\lib\\site-packages (from cffi!=1.11.3,>=1.8->cryptography>=2.8->pyopenssl>=0.15.1->opencage) (2.20)\n",
      "\n",
      "Installing collected packages: backoff, opencage\n",
      "Successfully installed backoff-1.10.0 opencage-1.2.1\n"
     ]
    }
   ],
   "source": [
    "pip install opencage"
   ]
  },
  {
   "cell_type": "markdown",
   "metadata": {},
   "source": [
    "We will need Charlotte latitude and longitude for Folium map. To get them we will uce Open Cage Geocode"
   ]
  },
  {
   "cell_type": "code",
   "execution_count": 31,
   "metadata": {},
   "outputs": [],
   "source": [
    "from opencage.geocoder import OpenCageGeocode"
   ]
  },
  {
   "cell_type": "code",
   "execution_count": 42,
   "metadata": {},
   "outputs": [],
   "source": [
    "import os\n",
    "key = os.environ.get('open_cage')"
   ]
  },
  {
   "cell_type": "code",
   "execution_count": 45,
   "metadata": {},
   "outputs": [
    {
     "name": "stdout",
     "output_type": "stream",
     "text": [
      "[{'annotations': {'DMS': {'lat': \"35° 13' 37.92000'' N\", 'lng': \"80° 50' 35.09880'' W\"}, 'FIPS': {'county': '37119', 'state': '37'}, 'MGRS': '17SNU1427998250', 'Maidenhead': 'EM95nf84tm', 'Mercator': {'x': -8999410.834, 'y': 4170152.552}, 'OSM': {'edit_url': 'https://www.openstreetmap.org/edit?relation=177415#map=17/35.22720/-80.84308', 'note_url': 'https://www.openstreetmap.org/note/new#map=17/35.22720/-80.84308&layers=N', 'url': 'https://www.openstreetmap.org/?mlat=35.22720&mlon=-80.84308#map=17/35.22720/-80.84308'}, 'UN_M49': {'regions': {'AMERICAS': '019', 'NORTHERN_AMERICA': '021', 'US': '840', 'WORLD': '001'}, 'statistical_groupings': ['MEDC']}, 'callingcode': 1, 'currency': {'alternate_symbols': ['US$'], 'decimal_mark': '.', 'disambiguate_symbol': 'US$', 'html_entity': '$', 'iso_code': 'USD', 'iso_numeric': '840', 'name': 'United States Dollar', 'smallest_denomination': 1, 'subunit': 'Cent', 'subunit_to_unit': 100, 'symbol': '$', 'symbol_first': 1, 'thousands_separator': ','}, 'flag': '🇺🇸', 'geohash': 'dnq82kgv7dh1nr83k3n0', 'qibla': 54.45, 'roadinfo': {'drive_on': 'right', 'speed_in': 'mph'}, 'sun': {'rise': {'apparent': 1598093400, 'astronomical': 1598088000, 'civil': 1598091840, 'nautical': 1598089920}, 'set': {'apparent': 1598054460, 'astronomical': 1598059920, 'civil': 1598056080, 'nautical': 1598057940}}, 'timezone': {'name': 'America/New_York', 'now_in_dst': 1, 'offset_sec': -14400, 'offset_string': '-0400', 'short_name': 'EDT'}, 'what3words': {'words': 'legend.rocky.quarrel'}, 'wikidata': 'Q16565'}, 'bounds': {'northeast': {'lat': 35.393133, 'lng': -80.670104}, 'southwest': {'lat': 35.013174, 'lng': -81.009554}}, 'components': {'ISO_3166-1_alpha-2': 'US', 'ISO_3166-1_alpha-3': 'USA', '_category': 'place', '_type': 'city', 'city': 'Charlotte', 'continent': 'North America', 'country': 'United States of America', 'country_code': 'us', 'county': 'Mecklenburg County', 'state': 'North Carolina', 'state_code': 'NC'}, 'confidence': 3, 'formatted': 'Charlotte, NC, United States of America', 'geometry': {'lat': 35.2272, 'lng': -80.843083}}, {'annotations': {'DMS': {'lat': \"26° 54' 4.77684'' N\", 'lng': \"81° 54' 56.44764'' W\"}, 'FIPS': {'county': '12015', 'state': '12'}, 'MGRS': '17RMK0906975835', 'Maidenhead': 'EL96bv06ch', 'Mercator': {'x': -9118811.774, 'y': 3091821.625}, 'OSM': {'edit_url': 'https://www.openstreetmap.org/edit?relation=1210722#map=17/26.90133/-81.91568', 'note_url': 'https://www.openstreetmap.org/note/new#map=17/26.90133/-81.91568&layers=N', 'url': 'https://www.openstreetmap.org/?mlat=26.90133&mlon=-81.91568#map=17/26.90133/-81.91568'}, 'UN_M49': {'regions': {'AMERICAS': '019', 'NORTHERN_AMERICA': '021', 'US': '840', 'WORLD': '001'}, 'statistical_groupings': ['MEDC']}, 'callingcode': 1, 'currency': {'alternate_symbols': ['US$'], 'decimal_mark': '.', 'disambiguate_symbol': 'US$', 'html_entity': '$', 'iso_code': 'USD', 'iso_numeric': '840', 'name': 'United States Dollar', 'smallest_denomination': 1, 'subunit': 'Cent', 'subunit_to_unit': 100, 'symbol': '$', 'symbol_first': 1, 'thousands_separator': ','}, 'flag': '🇺🇸', 'geohash': 'dhv9pcnzd6ccxk4wktp8', 'qibla': 55.34, 'roadinfo': {'drive_on': 'right', 'speed_in': 'mph'}, 'sun': {'rise': {'apparent': 1598094240, 'astronomical': 1598089380, 'civil': 1598092800, 'nautical': 1598091120}, 'set': {'apparent': 1598140560, 'astronomical': 1598059020, 'civil': 1598055600, 'nautical': 1598057280}}, 'timezone': {'name': 'America/New_York', 'now_in_dst': 1, 'offset_sec': -14400, 'offset_string': '-0400', 'short_name': 'EDT'}, 'what3words': {'words': 'motivator.debts.pavilions'}, 'wikidata': 'Q488499'}, 'bounds': {'northeast': {'lat': 27.035287, 'lng': -81.562202}, 'southwest': {'lat': 26.769552, 'lng': -82.437327}}, 'components': {'ISO_3166-1_alpha-2': 'US', 'ISO_3166-1_alpha-3': 'USA', '_category': 'place', '_type': 'county', 'continent': 'North America', 'country': 'United States of America', 'country_code': 'us', 'county': 'Charlotte County', 'state': 'Florida', 'state_code': 'FL'}, 'confidence': 1, 'formatted': 'Charlotte County, FL, United States of America', 'geometry': {'lat': 26.9013269, 'lng': -81.9156799}}, {'annotations': {'DMS': {'lat': \"37° 2' 29.85828'' N\", 'lng': \"78° 39' 8.62848'' W\"}, 'FIPS': {'county': '51037', 'state': '51'}, 'MGRS': '17SQB0878202067', 'Maidenhead': 'FM07qa19rx', 'Mercator': {'x': -8755544.761, 'y': 4419168.959}, 'OSM': {'edit_url': 'https://www.openstreetmap.org/edit?relation=2534171#map=17/37.04163/-78.65240', 'note_url': 'https://www.openstreetmap.org/note/new#map=17/37.04163/-78.65240&layers=N', 'url': 'https://www.openstreetmap.org/?mlat=37.04163&mlon=-78.65240#map=17/37.04163/-78.65240'}, 'UN_M49': {'regions': {'AMERICAS': '019', 'NORTHERN_AMERICA': '021', 'US': '840', 'WORLD': '001'}, 'statistical_groupings': ['MEDC']}, 'callingcode': 1, 'currency': {'alternate_symbols': ['US$'], 'decimal_mark': '.', 'disambiguate_symbol': 'US$', 'html_entity': '$', 'iso_code': 'USD', 'iso_numeric': '840', 'name': 'United States Dollar', 'smallest_denomination': 1, 'subunit': 'Cent', 'subunit_to_unit': 100, 'symbol': '$', 'symbol_first': 1, 'thousands_separator': ','}, 'flag': '🇺🇸', 'geohash': 'dq84dppp47f1xjd0s0vu', 'qibla': 55.66, 'roadinfo': {'drive_on': 'right', 'speed_in': 'mph'}, 'sun': {'rise': {'apparent': 1598092740, 'astronomical': 1598087160, 'civil': 1598091120, 'nautical': 1598089200}, 'set': {'apparent': 1598140500, 'astronomical': 1598059680, 'civil': 1598055720, 'nautical': 1598057640}}, 'timezone': {'name': 'America/New_York', 'now_in_dst': 1, 'offset_sec': -14400, 'offset_string': '-0400', 'short_name': 'EDT'}, 'what3words': {'words': 'protester.tournaments.fizzled'}, 'wikidata': 'Q427732'}, 'bounds': {'northeast': {'lat': 37.2487678, 'lng': -78.443319}, 'southwest': {'lat': 36.699703, 'lng': -78.904598}}, 'components': {'ISO_3166-1_alpha-2': 'US', 'ISO_3166-1_alpha-3': 'USA', '_category': 'place', '_type': 'county', 'continent': 'North America', 'country': 'United States of America', 'country_code': 'us', 'county': 'Charlotte County', 'state': 'Virginia', 'state_code': 'VA'}, 'confidence': 1, 'formatted': 'Charlotte County, VA, United States of America', 'geometry': {'lat': 37.0416273, 'lng': -78.6523968}}, {'annotations': {'DMS': {'lat': \"28° 51' 40.32900'' N\", 'lng': \"98° 42' 24.50052'' W\"}, 'FIPS': {'county': '48013', 'state': '48'}, 'MGRS': '14RNS2859592643', 'Maidenhead': 'EL08pu56eq', 'Mercator': {'x': -10987991.348, 'y': 3337371.615}, 'OSM': {'edit_url': 'https://www.openstreetmap.org/edit?relation=6587463#map=17/28.86120/-98.70681', 'note_url': 'https://www.openstreetmap.org/note/new#map=17/28.86120/-98.70681&layers=N', 'url': 'https://www.openstreetmap.org/?mlat=28.86120&mlon=-98.70681#map=17/28.86120/-98.70681'}, 'UN_M49': {'regions': {'AMERICAS': '019', 'NORTHERN_AMERICA': '021', 'US': '840', 'WORLD': '001'}, 'statistical_groupings': ['MEDC']}, 'callingcode': 1, 'currency': {'alternate_symbols': ['US$'], 'decimal_mark': '.', 'disambiguate_symbol': 'US$', 'html_entity': '$', 'iso_code': 'USD', 'iso_numeric': '840', 'name': 'United States Dollar', 'smallest_denomination': 1, 'subunit': 'Cent', 'subunit_to_unit': 100, 'symbol': '$', 'symbol_first': 1, 'thousands_separator': ','}, 'flag': '🇺🇸', 'geohash': '9v1u1y5bswp4gxnks54t', 'qibla': 43.19, 'roadinfo': {'drive_on': 'right', 'speed_in': 'mph'}, 'sun': {'rise': {'apparent': 1598098140, 'astronomical': 1598093160, 'civil': 1598096700, 'nautical': 1598094960}, 'set': {'apparent': 1598058300, 'astronomical': 1598063280, 'civil': 1598059800, 'nautical': 1598061480}}, 'timezone': {'name': 'America/Chicago', 'now_in_dst': 1, 'offset_sec': -18000, 'offset_string': '-0500', 'short_name': 'CDT'}, 'what3words': {'words': 'saving.playing.pandering'}, 'wikidata': 'Q969862'}, 'bounds': {'northeast': {'lat': 28.8711012, 'lng': -98.6842949}, 'southwest': {'lat': 28.8473382, 'lng': -98.7173409}}, 'components': {'ISO_3166-1_alpha-2': 'US', 'ISO_3166-1_alpha-3': 'USA', '_category': 'place', '_type': 'city', 'city': 'Charlotte', 'continent': 'North America', 'country': 'United States of America', 'country_code': 'us', 'county': 'Atascosa County', 'postcode': '78011', 'state': 'Texas', 'state_code': 'TX'}, 'confidence': 7, 'formatted': 'Charlotte, TX, United States of America', 'geometry': {'lat': 28.8612025, 'lng': -98.7068057}}, {'annotations': {'DMS': {'lat': \"41° 57' 36.93564'' N\", 'lng': \"90° 27' 54.70848'' W\"}, 'FIPS': {'county': '19045', 'state': '19'}, 'MGRS': '15TYG1006448471', 'Maidenhead': 'EN41sx40el', 'Mercator': {'x': -10070539.642, 'y': 5126451.593}, 'OSM': {'edit_url': 'https://www.openstreetmap.org/edit?relation=128420#map=17/41.96026/-90.46520', 'note_url': 'https://www.openstreetmap.org/note/new#map=17/41.96026/-90.46520&layers=N', 'url': 'https://www.openstreetmap.org/?mlat=41.96026&mlon=-90.46520#map=17/41.96026/-90.46520'}, 'UN_M49': {'regions': {'AMERICAS': '019', 'NORTHERN_AMERICA': '021', 'US': '840', 'WORLD': '001'}, 'statistical_groupings': ['MEDC']}, 'callingcode': 1, 'currency': {'alternate_symbols': ['US$'], 'decimal_mark': '.', 'disambiguate_symbol': 'US$', 'html_entity': '$', 'iso_code': 'USD', 'iso_numeric': '840', 'name': 'United States Dollar', 'smallest_denomination': 1, 'subunit': 'Cent', 'subunit_to_unit': 100, 'symbol': '$', 'symbol_first': 1, 'thousands_separator': ','}, 'flag': '🇺🇸', 'geohash': '9zrwtqtk0pkh5bpe56qf', 'qibla': 46.49, 'roadinfo': {'drive_on': 'right', 'speed_in': 'mph'}, 'sun': {'rise': {'apparent': 1598095140, 'astronomical': 1598089020, 'civil': 1598093400, 'nautical': 1598091240}, 'set': {'apparent': 1598057340, 'astronomical': 1598063460, 'civil': 1598059080, 'nautical': 1598061240}}, 'timezone': {'name': 'America/Chicago', 'now_in_dst': 1, 'offset_sec': -18000, 'offset_string': '-0500', 'short_name': 'CDT'}, 'what3words': {'words': 'flotation.diminishes.suspending'}, 'wikidata': 'Q994962'}, 'bounds': {'northeast': {'lat': 41.9677352, 'lng': -90.4602064}, 'southwest': {'lat': 41.95655, 'lng': -90.4756218}}, 'components': {'ISO_3166-1_alpha-2': 'US', 'ISO_3166-1_alpha-3': 'USA', '_category': 'place', '_type': 'city', 'city': 'Charlotte', 'continent': 'North America', 'country': 'United States of America', 'country_code': 'us', 'county': 'Clinton County', 'state': 'Iowa', 'state_code': 'IA'}, 'confidence': 8, 'formatted': 'Charlotte, IA, United States of America', 'geometry': {'lat': 41.9602599, 'lng': -90.4651968}}, {'annotations': {'DMS': {'lat': \"42° 33' 49.45284'' N\", 'lng': \"84° 50' 8.08512'' W\"}, 'FIPS': {'county': '26045', 'state': '26'}, 'MGRS': '16TFN7766514640', 'Maidenhead': 'EN72nn95rh', 'Mercator': {'x': -9443853.478, 'y': 5216891.483}, 'OSM': {'edit_url': 'https://www.openstreetmap.org/edit?relation=135000#map=17/42.56374/-84.83558', 'note_url': 'https://www.openstreetmap.org/note/new#map=17/42.56374/-84.83558&layers=N', 'url': 'https://www.openstreetmap.org/?mlat=42.56374&mlon=-84.83558#map=17/42.56374/-84.83558'}, 'UN_M49': {'regions': {'AMERICAS': '019', 'NORTHERN_AMERICA': '021', 'US': '840', 'WORLD': '001'}, 'statistical_groupings': ['MEDC']}, 'callingcode': 1, 'currency': {'alternate_symbols': ['US$'], 'decimal_mark': '.', 'disambiguate_symbol': 'US$', 'html_entity': '$', 'iso_code': 'USD', 'iso_numeric': '840', 'name': 'United States Dollar', 'smallest_denomination': 1, 'subunit': 'Cent', 'subunit_to_unit': 100, 'symbol': '$', 'symbol_first': 1, 'thousands_separator': ','}, 'flag': '🇺🇸', 'geohash': 'dpedjs2xexxk80yvutun', 'qibla': 50.68, 'roadinfo': {'drive_on': 'right', 'speed_in': 'mph'}, 'sun': {'rise': {'apparent': 1598093760, 'astronomical': 1598087520, 'civil': 1598091960, 'nautical': 1598089800}, 'set': {'apparent': 1598056080, 'astronomical': 1598062260, 'civil': 1598057820, 'nautical': 1598059980}}, 'timezone': {'name': 'America/Detroit', 'now_in_dst': 1, 'offset_sec': -14400, 'offset_string': '-0400', 'short_name': 'EDT'}, 'what3words': {'words': 'cooked.pogo.green'}, 'wikidata': 'Q2233170'}, 'bounds': {'northeast': {'lat': 42.591637, 'lng': -84.788024}, 'southwest': {'lat': 42.538568, 'lng': -84.860597}}, 'components': {'ISO_3166-1_alpha-2': 'US', 'ISO_3166-1_alpha-3': 'USA', '_category': 'place', '_type': 'city', 'city': 'Charlotte', 'continent': 'North America', 'country': 'United States of America', 'country_code': 'us', 'county': 'Eaton County', 'state': 'Michigan', 'state_code': 'MI'}, 'confidence': 7, 'formatted': 'Charlotte, MI, United States of America', 'geometry': {'lat': 42.5637369, 'lng': -84.8355792}}, {'annotations': {'DMS': {'lat': \"44° 18' 34.91604'' N\", 'lng': \"73° 15' 16.35876'' W\"}, 'FIPS': {'county': '50007', 'state': '50'}, 'MGRS': '18TXQ3921007752', 'Maidenhead': 'FN34ih94kh', 'Mercator': {'x': -8154658.548, 'y': 5483636.138}, 'OSM': {'edit_url': 'https://www.openstreetmap.org/edit?relation=8897011#map=17/44.30970/-73.25454', 'note_url': 'https://www.openstreetmap.org/note/new#map=17/44.30970/-73.25454&layers=N', 'url': 'https://www.openstreetmap.org/?mlat=44.30970&mlon=-73.25454#map=17/44.30970/-73.25454'}, 'UN_M49': {'regions': {'AMERICAS': '019', 'NORTHERN_AMERICA': '021', 'US': '840', 'WORLD': '001'}, 'statistical_groupings': ['MEDC']}, 'callingcode': 1, 'currency': {'alternate_symbols': ['US$'], 'decimal_mark': '.', 'disambiguate_symbol': 'US$', 'html_entity': '$', 'iso_code': 'USD', 'iso_numeric': '840', 'name': 'United States Dollar', 'smallest_denomination': 1, 'subunit': 'Cent', 'subunit_to_unit': 100, 'symbol': '$', 'symbol_first': 1, 'thousands_separator': ','}, 'flag': '🇺🇸', 'geohash': 'drguj43dtqsct37ujz9p', 'qibla': 58.92, 'roadinfo': {'drive_on': 'right', 'speed_in': 'mph'}, 'sun': {'rise': {'apparent': 1598090760, 'astronomical': 1598084280, 'civil': 1598088960, 'nautical': 1598086680}, 'set': {'apparent': 1598139840, 'astronomical': 1598059920, 'civil': 1598055300, 'nautical': 1598057520}}, 'timezone': {'name': 'America/New_York', 'now_in_dst': 1, 'offset_sec': -14400, 'offset_string': '-0400', 'short_name': 'EDT'}, 'what3words': {'words': 'partnering.selfish.thundered'}, 'wikidata': 'Q1957159'}, 'bounds': {'northeast': {'lat': 44.3622086, 'lng': -73.1452498}, 'southwest': {'lat': 44.2601061, 'lng': -73.3271807}}, 'components': {'ISO_3166-1_alpha-2': 'US', 'ISO_3166-1_alpha-3': 'USA', '_category': 'place', '_type': 'city', 'city': 'Charlotte', 'continent': 'North America', 'country': 'United States of America', 'country_code': 'us', 'county': 'Chittenden County', 'postcode': '05445', 'state': 'Vermont', 'state_code': 'VT'}, 'confidence': 6, 'formatted': 'Charlotte, VT, United States of America', 'geometry': {'lat': 44.3096989, 'lng': -73.2545441}}, {'annotations': {'DMS': {'lat': \"45° 1' 17.80320'' N\", 'lng': \"67° 14' 45.38760'' W\"}, 'FIPS': {'county': '23029', 'state': '23'}, 'MGRS': '19TFK3819486847', 'Maidenhead': 'FN65ja05le', 'Mercator': {'x': -7485783.91, 'y': 5594687.503}, 'OSM': {'edit_url': 'https://www.openstreetmap.org/edit?node=158809419#map=17/45.02161/-67.24594', 'note_url': 'https://www.openstreetmap.org/note/new#map=17/45.02161/-67.24594&layers=N', 'url': 'https://www.openstreetmap.org/?mlat=45.02161&mlon=-67.24594#map=17/45.02161/-67.24594'}, 'UN_M49': {'regions': {'AMERICAS': '019', 'NORTHERN_AMERICA': '021', 'US': '840', 'WORLD': '001'}, 'statistical_groupings': ['MEDC']}, 'callingcode': 1, 'currency': {'alternate_symbols': ['US$'], 'decimal_mark': '.', 'disambiguate_symbol': 'US$', 'html_entity': '$', 'iso_code': 'USD', 'iso_numeric': '840', 'name': 'United States Dollar', 'smallest_denomination': 1, 'subunit': 'Cent', 'subunit_to_unit': 100, 'symbol': '$', 'symbol_first': 1, 'thousands_separator': ','}, 'flag': '🇺🇸', 'geohash': 'f800jgcjbhb0eg7b0gmq', 'qibla': 63.1, 'roadinfo': {'drive_on': 'right', 'speed_in': 'mph'}, 'sun': {'rise': {'apparent': 1598089260, 'astronomical': 1598082660, 'civil': 1598087400, 'nautical': 1598085120}, 'set': {'apparent': 1598138520, 'astronomical': 1598058660, 'civil': 1598140320, 'nautical': 1598056200}}, 'timezone': {'name': 'America/New_York', 'now_in_dst': 1, 'offset_sec': -14400, 'offset_string': '-0400', 'short_name': 'EDT'}, 'what3words': {'words': 'loft.permit.trolley'}, 'wikidata': 'Q3451590'}, 'bounds': {'northeast': {'lat': 45.041612, 'lng': -67.225941}, 'southwest': {'lat': 45.001612, 'lng': -67.265941}}, 'components': {'ISO_3166-1_alpha-2': 'US', 'ISO_3166-1_alpha-3': 'USA', '_category': 'place', '_type': 'village', 'continent': 'North America', 'country': 'United States of America', 'country_code': 'us', 'county': 'Washington County', 'state': 'Maine', 'state_code': 'ME', 'village': 'Charlotte'}, 'confidence': 7, 'formatted': 'Charlotte, ME, United States of America', 'geometry': {'lat': 45.021612, 'lng': -67.245941}}, {'annotations': {'DMS': {'lat': \"43° 15' 18.22248'' N\", 'lng': \"77° 37' 1.00812'' W\"}, 'FIPS': {'county': '36055', 'state': '36'}, 'MGRS': '18TTN8757692465', 'Maidenhead': 'FN13eg51xf', 'Mercator': {'x': -8640278.984, 'y': 5321586.606}, 'OSM': {'edit_url': 'https://www.openstreetmap.org/edit?node=158366519#map=17/43.25506/-77.61695', 'note_url': 'https://www.openstreetmap.org/note/new#map=17/43.25506/-77.61695&layers=N', 'url': 'https://www.openstreetmap.org/?mlat=43.25506&mlon=-77.61695#map=17/43.25506/-77.61695'}, 'UN_M49': {'regions': {'AMERICAS': '019', 'NORTHERN_AMERICA': '021', 'US': '840', 'WORLD': '001'}, 'statistical_groupings': ['MEDC']}, 'callingcode': 1, 'currency': {'alternate_symbols': ['US$'], 'decimal_mark': '.', 'disambiguate_symbol': 'US$', 'html_entity': '$', 'iso_code': 'USD', 'iso_numeric': '840', 'name': 'United States Dollar', 'smallest_denomination': 1, 'subunit': 'Cent', 'subunit_to_unit': 100, 'symbol': '$', 'symbol_first': 1, 'thousands_separator': ','}, 'flag': '🇺🇸', 'geohash': 'dr8y1f34fpcy0y476xvm', 'qibla': 55.87, 'roadinfo': {'drive_on': 'right', 'speed_in': 'mph'}, 'sun': {'rise': {'apparent': 1598091960, 'astronomical': 1598085600, 'civil': 1598090160, 'nautical': 1598087940}, 'set': {'apparent': 1598054400, 'astronomical': 1598060700, 'civil': 1598056200, 'nautical': 1598058360}}, 'timezone': {'name': 'America/New_York', 'now_in_dst': 1, 'offset_sec': -14400, 'offset_string': '-0400', 'short_name': 'EDT'}, 'what3words': {'words': 'barefoot.gossip.superb'}}, 'bounds': {'northeast': {'lat': 43.2750618, 'lng': -77.5969467}, 'southwest': {'lat': 43.2350618, 'lng': -77.6369467}}, 'components': {'ISO_3166-1_alpha-2': 'US', 'ISO_3166-1_alpha-3': 'USA', '_category': 'place', '_type': 'village', 'continent': 'North America', 'country': 'United States of America', 'country_code': 'us', 'county': 'Monroe County', 'hamlet': 'Charlotte', 'postcode': '1', 'state': 'New York', 'state_code': 'NY'}, 'confidence': 7, 'formatted': 'Charlotte, NY 1, United States of America', 'geometry': {'lat': 43.2550618, 'lng': -77.6169467}}, {'annotations': {'DMS': {'lat': \"40° 49' 11.12412'' N\", 'lng': \"88° 17' 20.18328'' W\"}, 'FIPS': {'county': '17105', 'state': '17'}, 'MGRS': '16TCL9130219547', 'Maidenhead': 'EN50ut56hr', 'Mercator': {'x': -9828279.821, 'y': 4957854.718}, 'OSM': {'edit_url': 'https://www.openstreetmap.org/edit?node=153597644#map=17/40.81976/-88.28894', 'note_url': 'https://www.openstreetmap.org/note/new#map=17/40.81976/-88.28894&layers=N', 'url': 'https://www.openstreetmap.org/?mlat=40.81976&mlon=-88.28894#map=17/40.81976/-88.28894'}, 'UN_M49': {'regions': {'AMERICAS': '019', 'NORTHERN_AMERICA': '021', 'US': '840', 'WORLD': '001'}, 'statistical_groupings': ['MEDC']}, 'callingcode': 1, 'currency': {'alternate_symbols': ['US$'], 'decimal_mark': '.', 'disambiguate_symbol': 'US$', 'html_entity': '$', 'iso_code': 'USD', 'iso_numeric': '840', 'name': 'United States Dollar', 'smallest_denomination': 1, 'subunit': 'Cent', 'subunit_to_unit': 100, 'symbol': '$', 'symbol_first': 1, 'thousands_separator': ','}, 'flag': '🇺🇸', 'geohash': 'dp30nzjbqd4vqtjqtky5', 'qibla': 48.32, 'roadinfo': {'drive_on': 'right', 'speed_in': 'mph'}, 'sun': {'rise': {'apparent': 1598094720, 'astronomical': 1598088720, 'civil': 1598092980, 'nautical': 1598090940}, 'set': {'apparent': 1598056740, 'astronomical': 1598062680, 'civil': 1598058420, 'nautical': 1598060520}}, 'timezone': {'name': 'America/Chicago', 'now_in_dst': 1, 'offset_sec': -18000, 'offset_string': '-0500', 'short_name': 'CDT'}, 'what3words': {'words': 'pillowcase.search.lingering'}}, 'bounds': {'northeast': {'lat': 40.8397567, 'lng': -88.2689398}, 'southwest': {'lat': 40.7997567, 'lng': -88.3089398}}, 'components': {'ISO_3166-1_alpha-2': 'US', 'ISO_3166-1_alpha-3': 'USA', '_category': 'place', '_type': 'village', 'continent': 'North America', 'country': 'United States of America', 'country_code': 'us', 'county': 'Livingston County', 'state': 'Illinois', 'state_code': 'IL', 'village': 'Charlotte'}, 'confidence': 7, 'formatted': 'Charlotte, IL, United States of America', 'geometry': {'lat': 40.8197567, 'lng': -88.2889398}}]\n"
     ]
    }
   ],
   "source": [
    "geocoder = OpenCageGeocode('key')\n",
    "\n",
    "query = 'Charlotte, USA'  \n",
    "\n",
    "results = geocoder.geocode(query)\n",
    "\n",
    "print (results)"
   ]
  },
  {
   "cell_type": "code",
   "execution_count": 46,
   "metadata": {},
   "outputs": [
    {
     "name": "stdout",
     "output_type": "stream",
     "text": [
      "35.2272 -80.843083\n"
     ]
    }
   ],
   "source": [
    "charlotte_lat = results[0]['geometry']['lat']\n",
    "charlotte_lng = results[0]['geometry']['lng']\n",
    "print(charlotte_lat, charlotte_lng)"
   ]
  },
  {
   "cell_type": "code",
   "execution_count": 47,
   "metadata": {},
   "outputs": [
    {
     "data": {
      "text/html": [
       "<div style=\"width:100%;\"><div style=\"position:relative;width:100%;height:0;padding-bottom:60%;\"><span style=\"color:#565656\">Make this Notebook Trusted to load map: File -> Trust Notebook</span><iframe src=\"about:blank\" style=\"position:absolute;width:100%;height:100%;left:0;top:0;border:none !important;\" data-html=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 onload=\"this.contentDocument.open();this.contentDocument.write(atob(this.getAttribute('data-html')));this.contentDocument.close();\" allowfullscreen webkitallowfullscreen mozallowfullscreen></iframe></div></div>"
      ],
      "text/plain": [
       "<folium.folium.Map at 0x45b888f610>"
      ]
     },
     "execution_count": 47,
     "metadata": {},
     "output_type": "execute_result"
    }
   ],
   "source": [
    "charlotte_map = folium.Map(location = [charlotte_lat, charlotte_lng], zoom_start=12)\n",
    "charlotte_map"
   ]
  },
  {
   "cell_type": "code",
   "execution_count": 48,
   "metadata": {},
   "outputs": [
    {
     "data": {
      "text/html": [
       "<div style=\"width:100%;\"><div style=\"position:relative;width:100%;height:0;padding-bottom:60%;\"><span style=\"color:#565656\">Make this Notebook Trusted to load map: File -> Trust Notebook</span><iframe src=\"about:blank\" style=\"position:absolute;width:100%;height:100%;left:0;top:0;border:none !important;\" data-html=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 onload=\"this.contentDocument.open();this.contentDocument.write(atob(this.getAttribute('data-html')));this.contentDocument.close();\" allowfullscreen webkitallowfullscreen mozallowfullscreen></iframe></div></div>"
      ],
      "text/plain": [
       "<folium.folium.Map at 0x45b888f610>"
      ]
     },
     "execution_count": 48,
     "metadata": {},
     "output_type": "execute_result"
    }
   ],
   "source": [
    "turkish = folium.map.FeatureGroup()\n",
    "\n",
    "for lat, lng, in zip(restaurants_location.latitude, restaurants_location.longitude):\n",
    "    turkish.add_child(\n",
    "        folium.features.CircleMarker(\n",
    "            [lat, lng],\n",
    "            radius = 5,\n",
    "            color = 'red',\n",
    "            fill=True,\n",
    "            fill_color = 'blue',\n",
    "            fill_opacity = 0.6\n",
    "        )\n",
    "    )\n",
    "charlotte_map.add_child(turkish)    "
   ]
  },
  {
   "cell_type": "markdown",
   "metadata": {},
   "source": [
    "### OK. I think we did a good job here. But this map does not saying us anything, as we have only six Turkish restaurants in our dataframe. Let's try to get all the data for Mediterranean restaurants, hopefully we get more data out there."
   ]
  },
  {
   "cell_type": "code",
   "execution_count": 49,
   "metadata": {},
   "outputs": [
    {
     "data": {
      "text/plain": [
       "dict"
      ]
     },
     "execution_count": 49,
     "metadata": {},
     "output_type": "execute_result"
    }
   ],
   "source": [
    "term = 'Mediterranean restaurant bar'\n",
    "location = 'Charlotte, NC'\n",
    "search_limit = 50\n",
    "response = yelp_api.search_query(term = term,\n",
    "                                 location = location,\n",
    "                                 limit = search_limit)\n",
    "type(response) "
   ]
  },
  {
   "cell_type": "code",
   "execution_count": 50,
   "metadata": {},
   "outputs": [
    {
     "data": {
      "text/html": [
       "<div>\n",
       "<style scoped>\n",
       "    .dataframe tbody tr th:only-of-type {\n",
       "        vertical-align: middle;\n",
       "    }\n",
       "\n",
       "    .dataframe tbody tr th {\n",
       "        vertical-align: top;\n",
       "    }\n",
       "\n",
       "    .dataframe thead th {\n",
       "        text-align: right;\n",
       "    }\n",
       "</style>\n",
       "<table border=\"1\" class=\"dataframe\">\n",
       "  <thead>\n",
       "    <tr style=\"text-align: right;\">\n",
       "      <th></th>\n",
       "      <th>id</th>\n",
       "      <th>alias</th>\n",
       "      <th>name</th>\n",
       "      <th>image_url</th>\n",
       "      <th>is_closed</th>\n",
       "      <th>url</th>\n",
       "      <th>review_count</th>\n",
       "      <th>categories</th>\n",
       "      <th>rating</th>\n",
       "      <th>coordinates</th>\n",
       "      <th>transactions</th>\n",
       "      <th>price</th>\n",
       "      <th>location</th>\n",
       "      <th>phone</th>\n",
       "      <th>display_phone</th>\n",
       "      <th>distance</th>\n",
       "    </tr>\n",
       "  </thead>\n",
       "  <tbody>\n",
       "    <tr>\n",
       "      <th>0</th>\n",
       "      <td>22MYhTXwSXaS4rW2VOrR-w</td>\n",
       "      <td>jasmine-grill-charlotte</td>\n",
       "      <td>Jasmine Grill</td>\n",
       "      <td>https://s3-media3.fl.yelpcdn.com/bphoto/dUaHa-...</td>\n",
       "      <td>False</td>\n",
       "      <td>https://www.yelp.com/biz/jasmine-grill-charlot...</td>\n",
       "      <td>597</td>\n",
       "      <td>[{'alias': 'mediterranean', 'title': 'Mediterr...</td>\n",
       "      <td>4.5</td>\n",
       "      <td>{'latitude': 35.1684737768456, 'longitude': -8...</td>\n",
       "      <td>[delivery, pickup]</td>\n",
       "      <td>$$</td>\n",
       "      <td>{'address1': '5033 South Blvd', 'address2': 'S...</td>\n",
       "      <td>+19802071859</td>\n",
       "      <td>(980) 207-1859</td>\n",
       "      <td>5093.450701</td>\n",
       "    </tr>\n",
       "    <tr>\n",
       "      <th>1</th>\n",
       "      <td>fPmPROBqVT8-D-aTc6VBEQ</td>\n",
       "      <td>al-basha-charlotte</td>\n",
       "      <td>Al-basha</td>\n",
       "      <td>https://s3-media2.fl.yelpcdn.com/bphoto/n3feeB...</td>\n",
       "      <td>False</td>\n",
       "      <td>https://www.yelp.com/biz/al-basha-charlotte?ad...</td>\n",
       "      <td>72</td>\n",
       "      <td>[{'alias': 'hookah_bars', 'title': 'Hookah Bar...</td>\n",
       "      <td>4.5</td>\n",
       "      <td>{'latitude': 35.2035786447837, 'longitude': -8...</td>\n",
       "      <td>[pickup, delivery]</td>\n",
       "      <td>$$</td>\n",
       "      <td>{'address1': '3145 N Sharon Amity Rd', 'addres...</td>\n",
       "      <td>+19802074077</td>\n",
       "      <td>(980) 207-4077</td>\n",
       "      <td>6412.128038</td>\n",
       "    </tr>\n",
       "    <tr>\n",
       "      <th>2</th>\n",
       "      <td>aE-02jgBVhV56x0kbfvSIA</td>\n",
       "      <td>yafo-kitchen-charlotte</td>\n",
       "      <td>YAFO Kitchen</td>\n",
       "      <td>https://s3-media2.fl.yelpcdn.com/bphoto/AZIpnB...</td>\n",
       "      <td>False</td>\n",
       "      <td>https://www.yelp.com/biz/yafo-kitchen-charlott...</td>\n",
       "      <td>530</td>\n",
       "      <td>[{'alias': 'mideastern', 'title': 'Middle East...</td>\n",
       "      <td>4.5</td>\n",
       "      <td>{'latitude': 35.1565581319107, 'longitude': -8...</td>\n",
       "      <td>[delivery]</td>\n",
       "      <td>$$</td>\n",
       "      <td>{'address1': '720 Gov Morrison St', 'address2'...</td>\n",
       "      <td>+17043657130</td>\n",
       "      <td>(704) 365-7130</td>\n",
       "      <td>4430.883483</td>\n",
       "    </tr>\n",
       "    <tr>\n",
       "      <th>3</th>\n",
       "      <td>gUrYm7z0g5a5_jdSXzi-HA</td>\n",
       "      <td>cava-charlotte-3</td>\n",
       "      <td>CAVA</td>\n",
       "      <td>https://s3-media3.fl.yelpcdn.com/bphoto/8TZJHj...</td>\n",
       "      <td>False</td>\n",
       "      <td>https://www.yelp.com/biz/cava-charlotte-3?adju...</td>\n",
       "      <td>243</td>\n",
       "      <td>[{'alias': 'mediterranean', 'title': 'Mediterr...</td>\n",
       "      <td>4.5</td>\n",
       "      <td>{'latitude': 35.309966, 'longitude': -80.747857}</td>\n",
       "      <td>[]</td>\n",
       "      <td>$$</td>\n",
       "      <td>{'address1': '8936 Jm Keynes Blvd', 'address2'...</td>\n",
       "      <td>+17042435900</td>\n",
       "      <td>(704) 243-5900</td>\n",
       "      <td>14721.508052</td>\n",
       "    </tr>\n",
       "    <tr>\n",
       "      <th>4</th>\n",
       "      <td>W8CLBV5YN2GGrfHR25OL6w</td>\n",
       "      <td>fusion-lounge-charlotte-3</td>\n",
       "      <td>Fusion Lounge</td>\n",
       "      <td>https://s3-media4.fl.yelpcdn.com/bphoto/BpKVDg...</td>\n",
       "      <td>False</td>\n",
       "      <td>https://www.yelp.com/biz/fusion-lounge-charlot...</td>\n",
       "      <td>8</td>\n",
       "      <td>[{'alias': 'hookah_bars', 'title': 'Hookah Bar...</td>\n",
       "      <td>3.5</td>\n",
       "      <td>{'latitude': 35.17209, 'longitude': -80.74691}</td>\n",
       "      <td>[delivery]</td>\n",
       "      <td>$$</td>\n",
       "      <td>{'address1': '6432 E Independence Blvd', 'addr...</td>\n",
       "      <td>+17045312500</td>\n",
       "      <td>(704) 531-2500</td>\n",
       "      <td>8061.347415</td>\n",
       "    </tr>\n",
       "  </tbody>\n",
       "</table>\n",
       "</div>"
      ],
      "text/plain": [
       "                       id                      alias           name  \\\n",
       "0  22MYhTXwSXaS4rW2VOrR-w    jasmine-grill-charlotte  Jasmine Grill   \n",
       "1  fPmPROBqVT8-D-aTc6VBEQ         al-basha-charlotte       Al-basha   \n",
       "2  aE-02jgBVhV56x0kbfvSIA     yafo-kitchen-charlotte   YAFO Kitchen   \n",
       "3  gUrYm7z0g5a5_jdSXzi-HA           cava-charlotte-3           CAVA   \n",
       "4  W8CLBV5YN2GGrfHR25OL6w  fusion-lounge-charlotte-3  Fusion Lounge   \n",
       "\n",
       "                                           image_url is_closed  \\\n",
       "0  https://s3-media3.fl.yelpcdn.com/bphoto/dUaHa-...     False   \n",
       "1  https://s3-media2.fl.yelpcdn.com/bphoto/n3feeB...     False   \n",
       "2  https://s3-media2.fl.yelpcdn.com/bphoto/AZIpnB...     False   \n",
       "3  https://s3-media3.fl.yelpcdn.com/bphoto/8TZJHj...     False   \n",
       "4  https://s3-media4.fl.yelpcdn.com/bphoto/BpKVDg...     False   \n",
       "\n",
       "                                                 url review_count  \\\n",
       "0  https://www.yelp.com/biz/jasmine-grill-charlot...          597   \n",
       "1  https://www.yelp.com/biz/al-basha-charlotte?ad...           72   \n",
       "2  https://www.yelp.com/biz/yafo-kitchen-charlott...          530   \n",
       "3  https://www.yelp.com/biz/cava-charlotte-3?adju...          243   \n",
       "4  https://www.yelp.com/biz/fusion-lounge-charlot...            8   \n",
       "\n",
       "                                          categories  rating  \\\n",
       "0  [{'alias': 'mediterranean', 'title': 'Mediterr...     4.5   \n",
       "1  [{'alias': 'hookah_bars', 'title': 'Hookah Bar...     4.5   \n",
       "2  [{'alias': 'mideastern', 'title': 'Middle East...     4.5   \n",
       "3  [{'alias': 'mediterranean', 'title': 'Mediterr...     4.5   \n",
       "4  [{'alias': 'hookah_bars', 'title': 'Hookah Bar...     3.5   \n",
       "\n",
       "                                         coordinates        transactions  \\\n",
       "0  {'latitude': 35.1684737768456, 'longitude': -8...  [delivery, pickup]   \n",
       "1  {'latitude': 35.2035786447837, 'longitude': -8...  [pickup, delivery]   \n",
       "2  {'latitude': 35.1565581319107, 'longitude': -8...          [delivery]   \n",
       "3   {'latitude': 35.309966, 'longitude': -80.747857}                  []   \n",
       "4     {'latitude': 35.17209, 'longitude': -80.74691}          [delivery]   \n",
       "\n",
       "  price                                           location         phone  \\\n",
       "0    $$  {'address1': '5033 South Blvd', 'address2': 'S...  +19802071859   \n",
       "1    $$  {'address1': '3145 N Sharon Amity Rd', 'addres...  +19802074077   \n",
       "2    $$  {'address1': '720 Gov Morrison St', 'address2'...  +17043657130   \n",
       "3    $$  {'address1': '8936 Jm Keynes Blvd', 'address2'...  +17042435900   \n",
       "4    $$  {'address1': '6432 E Independence Blvd', 'addr...  +17045312500   \n",
       "\n",
       "    display_phone      distance  \n",
       "0  (980) 207-1859   5093.450701  \n",
       "1  (980) 207-4077   6412.128038  \n",
       "2  (704) 365-7130   4430.883483  \n",
       "3  (704) 243-5900  14721.508052  \n",
       "4  (704) 531-2500   8061.347415  "
      ]
     },
     "execution_count": 50,
     "metadata": {},
     "output_type": "execute_result"
    }
   ],
   "source": [
    "cols = list(response['businesses'][0].keys())\n",
    "med_restaurants = pd.DataFrame(columns=cols)\n",
    "for biz in response['businesses']:\n",
    "    med_restaurants = med_restaurants.append(biz, ignore_index=True)\n",
    "med_restaurants.head()"
   ]
  },
  {
   "cell_type": "code",
   "execution_count": 51,
   "metadata": {},
   "outputs": [
    {
     "data": {
      "text/plain": [
       "(50, 16)"
      ]
     },
     "execution_count": 51,
     "metadata": {},
     "output_type": "execute_result"
    }
   ],
   "source": [
    "med_restaurants.shape"
   ]
  },
  {
   "cell_type": "code",
   "execution_count": 52,
   "metadata": {},
   "outputs": [
    {
     "data": {
      "text/html": [
       "<div>\n",
       "<style scoped>\n",
       "    .dataframe tbody tr th:only-of-type {\n",
       "        vertical-align: middle;\n",
       "    }\n",
       "\n",
       "    .dataframe tbody tr th {\n",
       "        vertical-align: top;\n",
       "    }\n",
       "\n",
       "    .dataframe thead th {\n",
       "        text-align: right;\n",
       "    }\n",
       "</style>\n",
       "<table border=\"1\" class=\"dataframe\">\n",
       "  <thead>\n",
       "    <tr style=\"text-align: right;\">\n",
       "      <th></th>\n",
       "      <th>name</th>\n",
       "      <th>coordinates</th>\n",
       "    </tr>\n",
       "  </thead>\n",
       "  <tbody>\n",
       "    <tr>\n",
       "      <th>0</th>\n",
       "      <td>Jasmine Grill</td>\n",
       "      <td>{'latitude': 35.1684737768456, 'longitude': -8...</td>\n",
       "    </tr>\n",
       "    <tr>\n",
       "      <th>1</th>\n",
       "      <td>Al-basha</td>\n",
       "      <td>{'latitude': 35.2035786447837, 'longitude': -8...</td>\n",
       "    </tr>\n",
       "    <tr>\n",
       "      <th>2</th>\n",
       "      <td>YAFO Kitchen</td>\n",
       "      <td>{'latitude': 35.1565581319107, 'longitude': -8...</td>\n",
       "    </tr>\n",
       "    <tr>\n",
       "      <th>3</th>\n",
       "      <td>CAVA</td>\n",
       "      <td>{'latitude': 35.309966, 'longitude': -80.747857}</td>\n",
       "    </tr>\n",
       "    <tr>\n",
       "      <th>4</th>\n",
       "      <td>Fusion Lounge</td>\n",
       "      <td>{'latitude': 35.17209, 'longitude': -80.74691}</td>\n",
       "    </tr>\n",
       "  </tbody>\n",
       "</table>\n",
       "</div>"
      ],
      "text/plain": [
       "            name                                        coordinates\n",
       "0  Jasmine Grill  {'latitude': 35.1684737768456, 'longitude': -8...\n",
       "1       Al-basha  {'latitude': 35.2035786447837, 'longitude': -8...\n",
       "2   YAFO Kitchen  {'latitude': 35.1565581319107, 'longitude': -8...\n",
       "3           CAVA   {'latitude': 35.309966, 'longitude': -80.747857}\n",
       "4  Fusion Lounge     {'latitude': 35.17209, 'longitude': -80.74691}"
      ]
     },
     "execution_count": 52,
     "metadata": {},
     "output_type": "execute_result"
    }
   ],
   "source": [
    "med_restaurants_latlng = med_restaurants.loc[:, ['name', 'coordinates']]\n",
    "med_restaurants_latlng.head()"
   ]
  },
  {
   "cell_type": "code",
   "execution_count": 53,
   "metadata": {},
   "outputs": [
    {
     "data": {
      "text/html": [
       "<div>\n",
       "<style scoped>\n",
       "    .dataframe tbody tr th:only-of-type {\n",
       "        vertical-align: middle;\n",
       "    }\n",
       "\n",
       "    .dataframe tbody tr th {\n",
       "        vertical-align: top;\n",
       "    }\n",
       "\n",
       "    .dataframe thead th {\n",
       "        text-align: right;\n",
       "    }\n",
       "</style>\n",
       "<table border=\"1\" class=\"dataframe\">\n",
       "  <thead>\n",
       "    <tr style=\"text-align: right;\">\n",
       "      <th></th>\n",
       "      <th>latitude</th>\n",
       "      <th>longitude</th>\n",
       "    </tr>\n",
       "  </thead>\n",
       "  <tbody>\n",
       "    <tr>\n",
       "      <th>0</th>\n",
       "      <td>35.168474</td>\n",
       "      <td>-80.875257</td>\n",
       "    </tr>\n",
       "    <tr>\n",
       "      <th>1</th>\n",
       "      <td>35.203579</td>\n",
       "      <td>-80.760565</td>\n",
       "    </tr>\n",
       "    <tr>\n",
       "      <th>2</th>\n",
       "      <td>35.156558</td>\n",
       "      <td>-80.824327</td>\n",
       "    </tr>\n",
       "    <tr>\n",
       "      <th>3</th>\n",
       "      <td>35.309966</td>\n",
       "      <td>-80.747857</td>\n",
       "    </tr>\n",
       "    <tr>\n",
       "      <th>4</th>\n",
       "      <td>35.172090</td>\n",
       "      <td>-80.746910</td>\n",
       "    </tr>\n",
       "  </tbody>\n",
       "</table>\n",
       "</div>"
      ],
      "text/plain": [
       "    latitude  longitude\n",
       "0  35.168474 -80.875257\n",
       "1  35.203579 -80.760565\n",
       "2  35.156558 -80.824327\n",
       "3  35.309966 -80.747857\n",
       "4  35.172090 -80.746910"
      ]
     },
     "execution_count": 53,
     "metadata": {},
     "output_type": "execute_result"
    }
   ],
   "source": [
    "med_latlng = med_restaurants_latlng['coordinates'].apply(pd.Series)\n",
    "med_latlng.head()"
   ]
  },
  {
   "cell_type": "code",
   "execution_count": 54,
   "metadata": {},
   "outputs": [
    {
     "data": {
      "text/html": [
       "<div>\n",
       "<style scoped>\n",
       "    .dataframe tbody tr th:only-of-type {\n",
       "        vertical-align: middle;\n",
       "    }\n",
       "\n",
       "    .dataframe tbody tr th {\n",
       "        vertical-align: top;\n",
       "    }\n",
       "\n",
       "    .dataframe thead th {\n",
       "        text-align: right;\n",
       "    }\n",
       "</style>\n",
       "<table border=\"1\" class=\"dataframe\">\n",
       "  <thead>\n",
       "    <tr style=\"text-align: right;\">\n",
       "      <th></th>\n",
       "      <th>name</th>\n",
       "      <th>latitude</th>\n",
       "      <th>longitude</th>\n",
       "    </tr>\n",
       "  </thead>\n",
       "  <tbody>\n",
       "    <tr>\n",
       "      <th>0</th>\n",
       "      <td>Jasmine Grill</td>\n",
       "      <td>35.168474</td>\n",
       "      <td>-80.875257</td>\n",
       "    </tr>\n",
       "    <tr>\n",
       "      <th>1</th>\n",
       "      <td>Al-basha</td>\n",
       "      <td>35.203579</td>\n",
       "      <td>-80.760565</td>\n",
       "    </tr>\n",
       "    <tr>\n",
       "      <th>2</th>\n",
       "      <td>YAFO Kitchen</td>\n",
       "      <td>35.156558</td>\n",
       "      <td>-80.824327</td>\n",
       "    </tr>\n",
       "    <tr>\n",
       "      <th>3</th>\n",
       "      <td>CAVA</td>\n",
       "      <td>35.309966</td>\n",
       "      <td>-80.747857</td>\n",
       "    </tr>\n",
       "    <tr>\n",
       "      <th>4</th>\n",
       "      <td>Fusion Lounge</td>\n",
       "      <td>35.172090</td>\n",
       "      <td>-80.746910</td>\n",
       "    </tr>\n",
       "  </tbody>\n",
       "</table>\n",
       "</div>"
      ],
      "text/plain": [
       "            name   latitude  longitude\n",
       "0  Jasmine Grill  35.168474 -80.875257\n",
       "1       Al-basha  35.203579 -80.760565\n",
       "2   YAFO Kitchen  35.156558 -80.824327\n",
       "3           CAVA  35.309966 -80.747857\n",
       "4  Fusion Lounge  35.172090 -80.746910"
      ]
     },
     "execution_count": 54,
     "metadata": {},
     "output_type": "execute_result"
    }
   ],
   "source": [
    "med_restaurants_location = pd.concat([med_restaurants_latlng, med_latlng], axis=1).drop('coordinates', axis=1)\n",
    "med_restaurants_location.head()"
   ]
  },
  {
   "cell_type": "code",
   "execution_count": 55,
   "metadata": {},
   "outputs": [
    {
     "data": {
      "text/html": [
       "<div style=\"width:100%;\"><div style=\"position:relative;width:100%;height:0;padding-bottom:60%;\"><span style=\"color:#565656\">Make this Notebook Trusted to load map: File -> Trust Notebook</span><iframe src=\"about:blank\" style=\"position:absolute;width:100%;height:100%;left:0;top:0;border:none !important;\" data-html=PCFET0NUWVBFIGh0bWw+CjxoZWFkPiAgICAKICAgIDxtZXRhIGh0dHAtZXF1aXY9ImNvbnRlbnQtdHlwZSIgY29udGVudD0idGV4dC9odG1sOyBjaGFyc2V0PVVURi04IiAvPgogICAgPHNjcmlwdD5MX1BSRUZFUl9DQU5WQVMgPSBmYWxzZTsgTF9OT19UT1VDSCA9IGZhbHNlOyBMX0RJU0FCTEVfM0QgPSBmYWxzZTs8L3NjcmlwdD4KICAgIDxzY3JpcHQgc3JjPSJodHRwczovL2Nkbi5qc2RlbGl2ci5uZXQvbnBtL2xlYWZsZXRAMS4yLjAvZGlzdC9sZWFmbGV0LmpzIj48L3NjcmlwdD4KICAgIDxzY3JpcHQgc3JjPSJodHRwczovL2FqYXguZ29vZ2xlYXBpcy5jb20vYWpheC9saWJzL2pxdWVyeS8xLjExLjEvanF1ZXJ5Lm1pbi5qcyI+PC9zY3JpcHQ+CiAgICA8c2NyaXB0IHNyYz0iaHR0cHM6Ly9tYXhjZG4uYm9vdHN0cmFwY2RuLmNvbS9ib290c3RyYXAvMy4yLjAvanMvYm9vdHN0cmFwLm1pbi5qcyI+PC9zY3JpcHQ+CiAgICA8c2NyaXB0IHNyYz0iaHR0cHM6Ly9jZG5qcy5jbG91ZGZsYXJlLmNvbS9hamF4L2xpYnMvTGVhZmxldC5hd2Vzb21lLW1hcmtlcnMvMi4wLjIvbGVhZmxldC5hd2Vzb21lLW1hcmtlcnMuanMiPjwvc2NyaXB0PgogICAgPGxpbmsgcmVsPSJzdHlsZXNoZWV0IiBocmVmPSJodHRwczovL2Nkbi5qc2RlbGl2ci5uZXQvbnBtL2xlYWZsZXRAMS4yLjAvZGlzdC9sZWFmbGV0LmNzcyIvPgogICAgPGxpbmsgcmVsPSJzdHlsZXNoZWV0IiBocmVmPSJodHRwczovL21heGNkbi5ib290c3RyYXBjZG4uY29tL2Jvb3RzdHJhcC8zLjIuMC9jc3MvYm9vdHN0cmFwLm1pbi5jc3MiLz4KICAgIDxsaW5rIHJlbD0ic3R5bGVzaGVldCIgaHJlZj0iaHR0cHM6Ly9tYXhjZG4uYm9vdHN0cmFwY2RuLmNvbS9ib290c3RyYXAvMy4yLjAvY3NzL2Jvb3RzdHJhcC10aGVtZS5taW4uY3NzIi8+CiAgICA8bGluayByZWw9InN0eWxlc2hlZXQiIGhyZWY9Imh0dHBzOi8vbWF4Y2RuLmJvb3RzdHJhcGNkbi5jb20vZm9udC1hd2Vzb21lLzQuNi4zL2Nzcy9mb250LWF3ZXNvbWUubWluLmNzcyIvPgogICAgPGxpbmsgcmVsPSJzdHlsZXNoZWV0IiBocmVmPSJodHRwczovL2NkbmpzLmNsb3VkZmxhcmUuY29tL2FqYXgvbGlicy9MZWFmbGV0LmF3ZXNvbWUtbWFya2Vycy8yLjAuMi9sZWFmbGV0LmF3ZXNvbWUtbWFya2Vycy5jc3MiLz4KICAgIDxsaW5rIHJlbD0ic3R5bGVzaGVldCIgaHJlZj0iaHR0cHM6Ly9yYXdnaXQuY29tL3B5dGhvbi12aXN1YWxpemF0aW9uL2ZvbGl1bS9tYXN0ZXIvZm9saXVtL3RlbXBsYXRlcy9sZWFmbGV0LmF3ZXNvbWUucm90YXRlLmNzcyIvPgogICAgPHN0eWxlPmh0bWwsIGJvZHkge3dpZHRoOiAxMDAlO2hlaWdodDogMTAwJTttYXJnaW46IDA7cGFkZGluZzogMDt9PC9zdHlsZT4KICAgIDxzdHlsZT4jbWFwIHtwb3NpdGlvbjphYnNvbHV0ZTt0b3A6MDtib3R0b206MDtyaWdodDowO2xlZnQ6MDt9PC9zdHlsZT4KICAgIAogICAgICAgICAgICA8c3R5bGU+ICNtYXBfYWMwZmVmOTZlZTdmNGNhNTg0MjgzNGU0ZmJhMzg1MmMgewogICAgICAgICAgICAgICAgcG9zaXRpb24gOiByZWxhdGl2ZTsKICAgICAgICAgICAgICAgIHdpZHRoIDogMTAwLjAlOwogICAgICAgICAgICAgICAgaGVpZ2h0OiAxMDAuMCU7CiAgICAgICAgICAgICAgICBsZWZ0OiAwLjAlOwogICAgICAgICAgICAgICAgdG9wOiAwLjAlOwogICAgICAgICAgICAgICAgfQogICAgICAgICAgICA8L3N0eWxlPgogICAgICAgIAo8L2hlYWQ+Cjxib2R5PiAgICAKICAgIAogICAgICAgICAgICA8ZGl2IGNsYXNzPSJmb2xpdW0tbWFwIiBpZD0ibWFwX2FjMGZlZjk2ZWU3ZjRjYTU4NDI4MzRlNGZiYTM4NTJjIiA+PC9kaXY+CiAgICAgICAgCjwvYm9keT4KPHNjcmlwdD4gICAgCiAgICAKCiAgICAgICAgICAgIAogICAgICAgICAgICAgICAgdmFyIGJvdW5kcyA9IG51bGw7CiAgICAgICAgICAgIAoKICAgICAgICAgICAgdmFyIG1hcF9hYzBmZWY5NmVlN2Y0Y2E1ODQyODM0ZTRmYmEzODUyYyA9IEwubWFwKAogICAgICAgICAgICAgICAgICAgICAgICAgICAgICAgICAgJ21hcF9hYzBmZWY5NmVlN2Y0Y2E1ODQyODM0ZTRmYmEzODUyYycsCiAgICAgICAgICAgICAgICAgICAgICAgICAgICAgICAgICB7Y2VudGVyOiBbMzUuMjI3MiwtODAuODQzMDgzXSwKICAgICAgICAgICAgICAgICAgICAgICAgICAgICAgICAgIHpvb206IDEyLAogICAgICAgICAgICAgICAgICAgICAgICAgICAgICAgICAgbWF4Qm91bmRzOiBib3VuZHMsCiAgICAgICAgICAgICAgICAgICAgICAgICAgICAgICAgICBsYXllcnM6IFtdLAogICAgICAgICAgICAgICAgICAgICAgICAgICAgICAgICAgd29ybGRDb3B5SnVtcDogZmFsc2UsCiAgICAgICAgICAgICAgICAgICAgICAgICAgICAgICAgICBjcnM6IEwuQ1JTLkVQU0czODU3CiAgICAgICAgICAgICAgICAgICAgICAgICAgICAgICAgIH0pOwogICAgICAgICAgICAKICAgICAgICAKICAgIAogICAgICAgICAgICB2YXIgdGlsZV9sYXllcl8xYmM2NDIwMmM1NDk0YmY4YjQxNGYyZmQxODYyMmFmZiA9IEwudGlsZUxheWVyKAogICAgICAgICAgICAgICAgJ2h0dHBzOi8ve3N9LnRpbGUub3BlbnN0cmVldG1hcC5vcmcve3p9L3t4fS97eX0ucG5nJywKICAgICAgICAgICAgICAgIHsKICAiYXR0cmlidXRpb24iOiBudWxsLAogICJkZXRlY3RSZXRpbmEiOiBmYWxzZSwKICAibWF4Wm9vbSI6IDE4LAogICJtaW5ab29tIjogMSwKICAibm9XcmFwIjogZmFsc2UsCiAgInN1YmRvbWFpbnMiOiAiYWJjIgp9CiAgICAgICAgICAgICAgICApLmFkZFRvKG1hcF9hYzBmZWY5NmVlN2Y0Y2E1ODQyODM0ZTRmYmEzODUyYyk7CiAgICAgICAgCiAgICAKICAgICAgICAgICAgdmFyIGZlYXR1cmVfZ3JvdXBfYzdlMDJiODQ2MTM0NGZkYjhmODFlMzJiMTU3N2E4OTUgPSBMLmZlYXR1cmVHcm91cCgKICAgICAgICAgICAgICAgICkuYWRkVG8obWFwX2FjMGZlZjk2ZWU3ZjRjYTU4NDI4MzRlNGZiYTM4NTJjKTsKICAgICAgICAKICAgIAogICAgICAgICAgICB2YXIgY2lyY2xlX21hcmtlcl9jOTU0MWE4ZjlkOGI0OGE2ODZhZDJlMTExNDY3ODA1ZCA9IEwuY2lyY2xlTWFya2VyKAogICAgICAgICAgICAgICAgWzM1LjIxOTA1NywtODAuNzk2OTk3XSwKICAgICAgICAgICAgICAgIHsKICAiYnViYmxpbmdNb3VzZUV2ZW50cyI6IHRydWUsCiAgImNvbG9yIjogInJlZCIsCiAgImRhc2hBcnJheSI6IG51bGwsCiAgImRhc2hPZmZzZXQiOiBudWxsLAogICJmaWxsIjogdHJ1ZSwKICAiZmlsbENvbG9yIjogImJsdWUiLAogICJmaWxsT3BhY2l0eSI6IDAuNiwKICAiZmlsbFJ1bGUiOiAiZXZlbm9kZCIsCiAgImxpbmVDYXAiOiAicm91bmQiLAogICJsaW5lSm9pbiI6ICJyb3VuZCIsCiAgIm9wYWNpdHkiOiAxLjAsCiAgInJhZGl1cyI6IDUsCiAgInN0cm9rZSI6IHRydWUsCiAgIndlaWdodCI6IDMKfQogICAgICAgICAgICAgICAgKS5hZGRUbyhmZWF0dXJlX2dyb3VwX2M3ZTAyYjg0NjEzNDRmZGI4ZjgxZTMyYjE1NzdhODk1KTsKICAgICAgICAgICAgCiAgICAKICAgICAgICAgICAgdmFyIGNpcmNsZV9tYXJrZXJfMDk3NmZlOGI0YmVmNGM5M2JiNmRmNjVmNDUyZDgyZTQgPSBMLmNpcmNsZU1hcmtlcigKICAgICAgICAgICAgICAgIFszNS4yMDM1Nzg2NDQ3ODM3LC04MC43NjA1NjUyMTM0MDc4XSwKICAgICAgICAgICAgICAgIHsKICAiYnViYmxpbmdNb3VzZUV2ZW50cyI6IHRydWUsCiAgImNvbG9yIjogInJlZCIsCiAgImRhc2hBcnJheSI6IG51bGwsCiAgImRhc2hPZmZzZXQiOiBudWxsLAogICJmaWxsIjogdHJ1ZSwKICAiZmlsbENvbG9yIjogImJsdWUiLAogICJmaWxsT3BhY2l0eSI6IDAuNiwKICAiZmlsbFJ1bGUiOiAiZXZlbm9kZCIsCiAgImxpbmVDYXAiOiAicm91bmQiLAogICJsaW5lSm9pbiI6ICJyb3VuZCIsCiAgIm9wYWNpdHkiOiAxLjAsCiAgInJhZGl1cyI6IDUsCiAgInN0cm9rZSI6IHRydWUsCiAgIndlaWdodCI6IDMKfQogICAgICAgICAgICAgICAgKS5hZGRUbyhmZWF0dXJlX2dyb3VwX2M3ZTAyYjg0NjEzNDRmZGI4ZjgxZTMyYjE1NzdhODk1KTsKICAgICAgICAgICAgCiAgICAKICAgICAgICAgICAgdmFyIGNpcmNsZV9tYXJrZXJfYTdiNDc5N2VlM2Q3NGI4OGIyMTA1YTNkNGIyMjE5NWIgPSBMLmNpcmNsZU1hcmtlcigKICAgICAgICAgICAgICAgIFszNS4yMDMyOTk4LC04MC43NjA0MzQ4XSwKICAgICAgICAgICAgICAgIHsKICAiYnViYmxpbmdNb3VzZUV2ZW50cyI6IHRydWUsCiAgImNvbG9yIjogInJlZCIsCiAgImRhc2hBcnJheSI6IG51bGwsCiAgImRhc2hPZmZzZXQiOiBudWxsLAogICJmaWxsIjogdHJ1ZSwKICAiZmlsbENvbG9yIjogImJsdWUiLAogICJmaWxsT3BhY2l0eSI6IDAuNiwKICAiZmlsbFJ1bGUiOiAiZXZlbm9kZCIsCiAgImxpbmVDYXAiOiAicm91bmQiLAogICJsaW5lSm9pbiI6ICJyb3VuZCIsCiAgIm9wYWNpdHkiOiAxLjAsCiAgInJhZGl1cyI6IDUsCiAgInN0cm9rZSI6IHRydWUsCiAgIndlaWdodCI6IDMKfQogICAgICAgICAgICAgICAgKS5hZGRUbyhmZWF0dXJlX2dyb3VwX2M3ZTAyYjg0NjEzNDRmZGI4ZjgxZTMyYjE1NzdhODk1KTsKICAgICAgICAgICAgCiAgICAKICAgICAgICAgICAgdmFyIGNpcmNsZV9tYXJrZXJfNWVhZjE1NTM4NmY1NDlkZTkyYmVmMDA3OTdmMWI5YjYgPSBMLmNpcmNsZU1hcmtlcigKICAgICAgICAgICAgICAgIFszNS4zMDE5MzY1LC04MC43NDkxMzc2XSwKICAgICAgICAgICAgICAgIHsKICAiYnViYmxpbmdNb3VzZUV2ZW50cyI6IHRydWUsCiAgImNvbG9yIjogInJlZCIsCiAgImRhc2hBcnJheSI6IG51bGwsCiAgImRhc2hPZmZzZXQiOiBudWxsLAogICJmaWxsIjogdHJ1ZSwKICAiZmlsbENvbG9yIjogImJsdWUiLAogICJmaWxsT3BhY2l0eSI6IDAuNiwKICAiZmlsbFJ1bGUiOiAiZXZlbm9kZCIsCiAgImxpbmVDYXAiOiAicm91bmQiLAogICJsaW5lSm9pbiI6ICJyb3VuZCIsCiAgIm9wYWNpdHkiOiAxLjAsCiAgInJhZGl1cyI6IDUsCiAgInN0cm9rZSI6IHRydWUsCiAgIndlaWdodCI6IDMKfQogICAgICAgICAgICAgICAgKS5hZGRUbyhmZWF0dXJlX2dyb3VwX2M3ZTAyYjg0NjEzNDRmZGI4ZjgxZTMyYjE1NzdhODk1KTsKICAgICAgICAgICAgCiAgICAKICAgICAgICAgICAgdmFyIGNpcmNsZV9tYXJrZXJfZWJmYTk4NjUxNDJlNGI4ZTg5MWJmYzAyNGJhMDNhODEgPSBMLmNpcmNsZU1hcmtlcigKICAgICAgICAgICAgICAgIFszNS4xNjg0NzM3NzY4NDU2LC04MC44NzUyNTc0OTIwMTkxXSwKICAgICAgICAgICAgICAgIHsKICAiYnViYmxpbmdNb3VzZUV2ZW50cyI6IHRydWUsCiAgImNvbG9yIjogInJlZCIsCiAgImRhc2hBcnJheSI6IG51bGwsCiAgImRhc2hPZmZzZXQiOiBudWxsLAogICJmaWxsIjogdHJ1ZSwKICAiZmlsbENvbG9yIjogImJsdWUiLAogICJmaWxsT3BhY2l0eSI6IDAuNiwKICAiZmlsbFJ1bGUiOiAiZXZlbm9kZCIsCiAgImxpbmVDYXAiOiAicm91bmQiLAogICJsaW5lSm9pbiI6ICJyb3VuZCIsCiAgIm9wYWNpdHkiOiAxLjAsCiAgInJhZGl1cyI6IDUsCiAgInN0cm9rZSI6IHRydWUsCiAgIndlaWdodCI6IDMKfQogICAgICAgICAgICAgICAgKS5hZGRUbyhmZWF0dXJlX2dyb3VwX2M3ZTAyYjg0NjEzNDRmZGI4ZjgxZTMyYjE1NzdhODk1KTsKICAgICAgICAgICAgCiAgICAKICAgICAgICAgICAgdmFyIGNpcmNsZV9tYXJrZXJfOGYxNjRmOWU2NDIyNGI0MThjZGRkMTY4YWUzZWUyMWMgPSBMLmNpcmNsZU1hcmtlcigKICAgICAgICAgICAgICAgIFszNS4xNjk4NjQ3LC04MC44NzU2MzEzXSwKICAgICAgICAgICAgICAgIHsKICAiYnViYmxpbmdNb3VzZUV2ZW50cyI6IHRydWUsCiAgImNvbG9yIjogInJlZCIsCiAgImRhc2hBcnJheSI6IG51bGwsCiAgImRhc2hPZmZzZXQiOiBudWxsLAogICJmaWxsIjogdHJ1ZSwKICAiZmlsbENvbG9yIjogImJsdWUiLAogICJmaWxsT3BhY2l0eSI6IDAuNiwKICAiZmlsbFJ1bGUiOiAiZXZlbm9kZCIsCiAgImxpbmVDYXAiOiAicm91bmQiLAogICJsaW5lSm9pbiI6ICJyb3VuZCIsCiAgIm9wYWNpdHkiOiAxLjAsCiAgInJhZGl1cyI6IDUsCiAgInN0cm9rZSI6IHRydWUsCiAgIndlaWdodCI6IDMKfQogICAgICAgICAgICAgICAgKS5hZGRUbyhmZWF0dXJlX2dyb3VwX2M3ZTAyYjg0NjEzNDRmZGI4ZjgxZTMyYjE1NzdhODk1KTsKICAgICAgICAgICAgCiAgICAKICAgICAgICAgICAgdmFyIGZlYXR1cmVfZ3JvdXBfNjRkMzg2N2MxZjk4NDQxMWE2ZTU4MjVhYTA0NTk3YTEgPSBMLmZlYXR1cmVHcm91cCgKICAgICAgICAgICAgICAgICkuYWRkVG8obWFwX2FjMGZlZjk2ZWU3ZjRjYTU4NDI4MzRlNGZiYTM4NTJjKTsKICAgICAgICAKICAgIAogICAgICAgICAgICB2YXIgY2lyY2xlX21hcmtlcl8yNWI1MjlmYjE3Mzk0NWZmYjcwNzBkZjFjM2U1MDQyNSA9IEwuY2lyY2xlTWFya2VyKAogICAgICAgICAgICAgICAgWzM1LjE2ODQ3Mzc3Njg0NTYsLTgwLjg3NTI1NzQ5MjAxOTFdLAogICAgICAgICAgICAgICAgewogICJidWJibGluZ01vdXNlRXZlbnRzIjogdHJ1ZSwKICAiY29sb3IiOiAicmVkIiwKICAiZGFzaEFycmF5IjogbnVsbCwKICAiZGFzaE9mZnNldCI6IG51bGwsCiAgImZpbGwiOiB0cnVlLAogICJmaWxsQ29sb3IiOiAiYmx1ZSIsCiAgImZpbGxPcGFjaXR5IjogMC42LAogICJmaWxsUnVsZSI6ICJldmVub2RkIiwKICAibGluZUNhcCI6ICJyb3VuZCIsCiAgImxpbmVKb2luIjogInJvdW5kIiwKICAib3BhY2l0eSI6IDEuMCwKICAicmFkaXVzIjogNCwKICAic3Ryb2tlIjogdHJ1ZSwKICAid2VpZ2h0IjogMwp9CiAgICAgICAgICAgICAgICApLmFkZFRvKGZlYXR1cmVfZ3JvdXBfNjRkMzg2N2MxZjk4NDQxMWE2ZTU4MjVhYTA0NTk3YTEpOwogICAgICAgICAgICAKICAgIAogICAgICAgICAgICB2YXIgY2lyY2xlX21hcmtlcl9jYWE0NWNiZmU1Y2M0MmQ5YTdmY2Q1OGVlOTg1NzAyZCA9IEwuY2lyY2xlTWFya2VyKAogICAgICAgICAgICAgICAgWzM1LjIwMzU3ODY0NDc4MzcsLTgwLjc2MDU2NTIxMzQwNzhdLAogICAgICAgICAgICAgICAgewogICJidWJibGluZ01vdXNlRXZlbnRzIjogdHJ1ZSwKICAiY29sb3IiOiAicmVkIiwKICAiZGFzaEFycmF5IjogbnVsbCwKICAiZGFzaE9mZnNldCI6IG51bGwsCiAgImZpbGwiOiB0cnVlLAogICJmaWxsQ29sb3IiOiAiYmx1ZSIsCiAgImZpbGxPcGFjaXR5IjogMC42LAogICJmaWxsUnVsZSI6ICJldmVub2RkIiwKICAibGluZUNhcCI6ICJyb3VuZCIsCiAgImxpbmVKb2luIjogInJvdW5kIiwKICAib3BhY2l0eSI6IDEuMCwKICAicmFkaXVzIjogNCwKICAic3Ryb2tlIjogdHJ1ZSwKICAid2VpZ2h0IjogMwp9CiAgICAgICAgICAgICAgICApLmFkZFRvKGZlYXR1cmVfZ3JvdXBfNjRkMzg2N2MxZjk4NDQxMWE2ZTU4MjVhYTA0NTk3YTEpOwogICAgICAgICAgICAKICAgIAogICAgICAgICAgICB2YXIgY2lyY2xlX21hcmtlcl84ZDljMGQ3YjNjNDI0MTc3ODYyZDJmMmE4OWUyMWJhMSA9IEwuY2lyY2xlTWFya2VyKAogICAgICAgICAgICAgICAgWzM1LjE1NjU1ODEzMTkxMDcsLTgwLjgyNDMyNzI0NTM1NDddLAogICAgICAgICAgICAgICAgewogICJidWJibGluZ01vdXNlRXZlbnRzIjogdHJ1ZSwKICAiY29sb3IiOiAicmVkIiwKICAiZGFzaEFycmF5IjogbnVsbCwKICAiZGFzaE9mZnNldCI6IG51bGwsCiAgImZpbGwiOiB0cnVlLAogICJmaWxsQ29sb3IiOiAiYmx1ZSIsCiAgImZpbGxPcGFjaXR5IjogMC42LAogICJmaWxsUnVsZSI6ICJldmVub2RkIiwKICAibGluZUNhcCI6ICJyb3VuZCIsCiAgImxpbmVKb2luIjogInJvdW5kIiwKICAib3BhY2l0eSI6IDEuMCwKICAicmFkaXVzIjogNCwKICAic3Ryb2tlIjogdHJ1ZSwKICAid2VpZ2h0IjogMwp9CiAgICAgICAgICAgICAgICApLmFkZFRvKGZlYXR1cmVfZ3JvdXBfNjRkMzg2N2MxZjk4NDQxMWE2ZTU4MjVhYTA0NTk3YTEpOwogICAgICAgICAgICAKICAgIAogICAgICAgICAgICB2YXIgY2lyY2xlX21hcmtlcl85MTM0YjM3NGEzZmM0MzI0OTk5NjU0MTJiMzllMzY4MSA9IEwuY2lyY2xlTWFya2VyKAogICAgICAgICAgICAgICAgWzM1LjMwOTk2NiwtODAuNzQ3ODU3XSwKICAgICAgICAgICAgICAgIHsKICAiYnViYmxpbmdNb3VzZUV2ZW50cyI6IHRydWUsCiAgImNvbG9yIjogInJlZCIsCiAgImRhc2hBcnJheSI6IG51bGwsCiAgImRhc2hPZmZzZXQiOiBudWxsLAogICJmaWxsIjogdHJ1ZSwKICAiZmlsbENvbG9yIjogImJsdWUiLAogICJmaWxsT3BhY2l0eSI6IDAuNiwKICAiZmlsbFJ1bGUiOiAiZXZlbm9kZCIsCiAgImxpbmVDYXAiOiAicm91bmQiLAogICJsaW5lSm9pbiI6ICJyb3VuZCIsCiAgIm9wYWNpdHkiOiAxLjAsCiAgInJhZGl1cyI6IDQsCiAgInN0cm9rZSI6IHRydWUsCiAgIndlaWdodCI6IDMKfQogICAgICAgICAgICAgICAgKS5hZGRUbyhmZWF0dXJlX2dyb3VwXzY0ZDM4NjdjMWY5ODQ0MTFhNmU1ODI1YWEwNDU5N2ExKTsKICAgICAgICAgICAgCiAgICAKICAgICAgICAgICAgdmFyIGNpcmNsZV9tYXJrZXJfNGM5NGU0MDNmNjNmNDExMjk0ZjNiZjk1N2U2NjllNTggPSBMLmNpcmNsZU1hcmtlcigKICAgICAgICAgICAgICAgIFszNS4xNzIwOSwtODAuNzQ2OTFdLAogICAgICAgICAgICAgICAgewogICJidWJibGluZ01vdXNlRXZlbnRzIjogdHJ1ZSwKICAiY29sb3IiOiAicmVkIiwKICAiZGFzaEFycmF5IjogbnVsbCwKICAiZGFzaE9mZnNldCI6IG51bGwsCiAgImZpbGwiOiB0cnVlLAogICJmaWxsQ29sb3IiOiAiYmx1ZSIsCiAgImZpbGxPcGFjaXR5IjogMC42LAogICJmaWxsUnVsZSI6ICJldmVub2RkIiwKICAibGluZUNhcCI6ICJyb3VuZCIsCiAgImxpbmVKb2luIjogInJvdW5kIiwKICAib3BhY2l0eSI6IDEuMCwKICAicmFkaXVzIjogNCwKICAic3Ryb2tlIjogdHJ1ZSwKICAid2VpZ2h0IjogMwp9CiAgICAgICAgICAgICAgICApLmFkZFRvKGZlYXR1cmVfZ3JvdXBfNjRkMzg2N2MxZjk4NDQxMWE2ZTU4MjVhYTA0NTk3YTEpOwogICAgICAgICAgICAKICAgIAogICAgICAgICAgICB2YXIgY2lyY2xlX21hcmtlcl9jY2QwMjRmMjcxMjM0ZjkxYTgxOGNlYWU0MGI4M2QyOSA9IEwuY2lyY2xlTWFya2VyKAogICAgICAgICAgICAgICAgWzM1LjA2OTc4NjYsLTgwLjcwMTM0NjldLAogICAgICAgICAgICAgICAgewogICJidWJibGluZ01vdXNlRXZlbnRzIjogdHJ1ZSwKICAiY29sb3IiOiAicmVkIiwKICAiZGFzaEFycmF5IjogbnVsbCwKICAiZGFzaE9mZnNldCI6IG51bGwsCiAgImZpbGwiOiB0cnVlLAogICJmaWxsQ29sb3IiOiAiYmx1ZSIsCiAgImZpbGxPcGFjaXR5IjogMC42LAogICJmaWxsUnVsZSI6ICJldmVub2RkIiwKICAibGluZUNhcCI6ICJyb3VuZCIsCiAgImxpbmVKb2luIjogInJvdW5kIiwKICAib3BhY2l0eSI6IDEuMCwKICAicmFkaXVzIjogNCwKICAic3Ryb2tlIjogdHJ1ZSwKICAid2VpZ2h0IjogMwp9CiAgICAgICAgICAgICAgICApLmFkZFRvKGZlYXR1cmVfZ3JvdXBfNjRkMzg2N2MxZjk4NDQxMWE2ZTU4MjVhYTA0NTk3YTEpOwogICAgICAgICAgICAKICAgIAogICAgICAgICAgICB2YXIgY2lyY2xlX21hcmtlcl8xMzJhZDRiNGM3YTQ0ZTJkOTAzNjQ3NWZhZWUwYjIzNyA9IEwuY2lyY2xlTWFya2VyKAogICAgICAgICAgICAgICAgWzM1LjMwMTkzNjUsLTgwLjc0OTEzNzZdLAogICAgICAgICAgICAgICAgewogICJidWJibGluZ01vdXNlRXZlbnRzIjogdHJ1ZSwKICAiY29sb3IiOiAicmVkIiwKICAiZGFzaEFycmF5IjogbnVsbCwKICAiZGFzaE9mZnNldCI6IG51bGwsCiAgImZpbGwiOiB0cnVlLAogICJmaWxsQ29sb3IiOiAiYmx1ZSIsCiAgImZpbGxPcGFjaXR5IjogMC42LAogICJmaWxsUnVsZSI6ICJldmVub2RkIiwKICAibGluZUNhcCI6ICJyb3VuZCIsCiAgImxpbmVKb2luIjogInJvdW5kIiwKICAib3BhY2l0eSI6IDEuMCwKICAicmFkaXVzIjogNCwKICAic3Ryb2tlIjogdHJ1ZSwKICAid2VpZ2h0IjogMwp9CiAgICAgICAgICAgICAgICApLmFkZFRvKGZlYXR1cmVfZ3JvdXBfNjRkMzg2N2MxZjk4NDQxMWE2ZTU4MjVhYTA0NTk3YTEpOwogICAgICAgICAgICAKICAgIAogICAgICAgICAgICB2YXIgY2lyY2xlX21hcmtlcl9hNGQ1MjhkMzFhYmE0NWJjOTcxYmM4NmEyOTJkYmUyZCA9IEwuY2lyY2xlTWFya2VyKAogICAgICAgICAgICAgICAgWzM1LjIwMzI5OTgsLTgwLjc2MDQzNDhdLAogICAgICAgICAgICAgICAgewogICJidWJibGluZ01vdXNlRXZlbnRzIjogdHJ1ZSwKICAiY29sb3IiOiAicmVkIiwKICAiZGFzaEFycmF5IjogbnVsbCwKICAiZGFzaE9mZnNldCI6IG51bGwsCiAgImZpbGwiOiB0cnVlLAogICJmaWxsQ29sb3IiOiAiYmx1ZSIsCiAgImZpbGxPcGFjaXR5IjogMC42LAogICJmaWxsUnVsZSI6ICJldmVub2RkIiwKICAibGluZUNhcCI6ICJyb3VuZCIsCiAgImxpbmVKb2luIjogInJvdW5kIiwKICAib3BhY2l0eSI6IDEuMCwKICAicmFkaXVzIjogNCwKICAic3Ryb2tlIjogdHJ1ZSwKICAid2VpZ2h0IjogMwp9CiAgICAgICAgICAgICAgICApLmFkZFRvKGZlYXR1cmVfZ3JvdXBfNjRkMzg2N2MxZjk4NDQxMWE2ZTU4MjVhYTA0NTk3YTEpOwogICAgICAgICAgICAKICAgIAogICAgICAgICAgICB2YXIgY2lyY2xlX21hcmtlcl81ZjExZGJiZDdkYzQ0YjJmOWU1ZTEyNzk2MWIxNGIyMSA9IEwuY2lyY2xlTWFya2VyKAogICAgICAgICAgICAgICAgWzM1LjIyODEzOSwtODAuODQ2NjA1XSwKICAgICAgICAgICAgICAgIHsKICAiYnViYmxpbmdNb3VzZUV2ZW50cyI6IHRydWUsCiAgImNvbG9yIjogInJlZCIsCiAgImRhc2hBcnJheSI6IG51bGwsCiAgImRhc2hPZmZzZXQiOiBudWxsLAogICJmaWxsIjogdHJ1ZSwKICAiZmlsbENvbG9yIjogImJsdWUiLAogICJmaWxsT3BhY2l0eSI6IDAuNiwKICAiZmlsbFJ1bGUiOiAiZXZlbm9kZCIsCiAgImxpbmVDYXAiOiAicm91bmQiLAogICJsaW5lSm9pbiI6ICJyb3VuZCIsCiAgIm9wYWNpdHkiOiAxLjAsCiAgInJhZGl1cyI6IDQsCiAgInN0cm9rZSI6IHRydWUsCiAgIndlaWdodCI6IDMKfQogICAgICAgICAgICAgICAgKS5hZGRUbyhmZWF0dXJlX2dyb3VwXzY0ZDM4NjdjMWY5ODQ0MTFhNmU1ODI1YWEwNDU5N2ExKTsKICAgICAgICAgICAgCiAgICAKICAgICAgICAgICAgdmFyIGNpcmNsZV9tYXJrZXJfNTRmNDI1OTllZTYwNDkxMzg2ZDgxNDE5N2Q0MjVjMGQgPSBMLmNpcmNsZU1hcmtlcigKICAgICAgICAgICAgICAgIFszNS4yMDMzLC04MC44NDUwMV0sCiAgICAgICAgICAgICAgICB7CiAgImJ1YmJsaW5nTW91c2VFdmVudHMiOiB0cnVlLAogICJjb2xvciI6ICJyZWQiLAogICJkYXNoQXJyYXkiOiBudWxsLAogICJkYXNoT2Zmc2V0IjogbnVsbCwKICAiZmlsbCI6IHRydWUsCiAgImZpbGxDb2xvciI6ICJibHVlIiwKICAiZmlsbE9wYWNpdHkiOiAwLjYsCiAgImZpbGxSdWxlIjogImV2ZW5vZGQiLAogICJsaW5lQ2FwIjogInJvdW5kIiwKICAibGluZUpvaW4iOiAicm91bmQiLAogICJvcGFjaXR5IjogMS4wLAogICJyYWRpdXMiOiA0LAogICJzdHJva2UiOiB0cnVlLAogICJ3ZWlnaHQiOiAzCn0KICAgICAgICAgICAgICAgICkuYWRkVG8oZmVhdHVyZV9ncm91cF82NGQzODY3YzFmOTg0NDExYTZlNTgyNWFhMDQ1OTdhMSk7CiAgICAgICAgICAgIAogICAgCiAgICAgICAgICAgIHZhciBjaXJjbGVfbWFya2VyXzBjNzRlYzhjMDcxNzRkMjRiNDg1YzNkOTlkMzUwOTk2ID0gTC5jaXJjbGVNYXJrZXIoCiAgICAgICAgICAgICAgICBbMzUuMjIxMDYyLC04MC44MTU1NzFdLAogICAgICAgICAgICAgICAgewogICJidWJibGluZ01vdXNlRXZlbnRzIjogdHJ1ZSwKICAiY29sb3IiOiAicmVkIiwKICAiZGFzaEFycmF5IjogbnVsbCwKICAiZGFzaE9mZnNldCI6IG51bGwsCiAgImZpbGwiOiB0cnVlLAogICJmaWxsQ29sb3IiOiAiYmx1ZSIsCiAgImZpbGxPcGFjaXR5IjogMC42LAogICJmaWxsUnVsZSI6ICJldmVub2RkIiwKICAibGluZUNhcCI6ICJyb3VuZCIsCiAgImxpbmVKb2luIjogInJvdW5kIiwKICAib3BhY2l0eSI6IDEuMCwKICAicmFkaXVzIjogNCwKICAic3Ryb2tlIjogdHJ1ZSwKICAid2VpZ2h0IjogMwp9CiAgICAgICAgICAgICAgICApLmFkZFRvKGZlYXR1cmVfZ3JvdXBfNjRkMzg2N2MxZjk4NDQxMWE2ZTU4MjVhYTA0NTk3YTEpOwogICAgICAgICAgICAKICAgIAogICAgICAgICAgICB2YXIgY2lyY2xlX21hcmtlcl9lZjg4YjI1MjdiMmE0MGE3YTRiOGE3ODgxMzU1NzhlMiA9IEwuY2lyY2xlTWFya2VyKAogICAgICAgICAgICAgICAgWzM1LjIxMzU1OCwtODAuODMzMDI2XSwKICAgICAgICAgICAgICAgIHsKICAiYnViYmxpbmdNb3VzZUV2ZW50cyI6IHRydWUsCiAgImNvbG9yIjogInJlZCIsCiAgImRhc2hBcnJheSI6IG51bGwsCiAgImRhc2hPZmZzZXQiOiBudWxsLAogICJmaWxsIjogdHJ1ZSwKICAiZmlsbENvbG9yIjogImJsdWUiLAogICJmaWxsT3BhY2l0eSI6IDAuNiwKICAiZmlsbFJ1bGUiOiAiZXZlbm9kZCIsCiAgImxpbmVDYXAiOiAicm91bmQiLAogICJsaW5lSm9pbiI6ICJyb3VuZCIsCiAgIm9wYWNpdHkiOiAxLjAsCiAgInJhZGl1cyI6IDQsCiAgInN0cm9rZSI6IHRydWUsCiAgIndlaWdodCI6IDMKfQogICAgICAgICAgICAgICAgKS5hZGRUbyhmZWF0dXJlX2dyb3VwXzY0ZDM4NjdjMWY5ODQ0MTFhNmU1ODI1YWEwNDU5N2ExKTsKICAgICAgICAgICAgCiAgICAKICAgICAgICAgICAgdmFyIGNpcmNsZV9tYXJrZXJfOWNhMjdmYzM0YzZiNGJlZDg4MjczOWE3NDZiM2VkMjMgPSBMLmNpcmNsZU1hcmtlcigKICAgICAgICAgICAgICAgIFszNS4xOTkxODUxLC04MC44NDE0NDg4XSwKICAgICAgICAgICAgICAgIHsKICAiYnViYmxpbmdNb3VzZUV2ZW50cyI6IHRydWUsCiAgImNvbG9yIjogInJlZCIsCiAgImRhc2hBcnJheSI6IG51bGwsCiAgImRhc2hPZmZzZXQiOiBudWxsLAogICJmaWxsIjogdHJ1ZSwKICAiZmlsbENvbG9yIjogImJsdWUiLAogICJmaWxsT3BhY2l0eSI6IDAuNiwKICAiZmlsbFJ1bGUiOiAiZXZlbm9kZCIsCiAgImxpbmVDYXAiOiAicm91bmQiLAogICJsaW5lSm9pbiI6ICJyb3VuZCIsCiAgIm9wYWNpdHkiOiAxLjAsCiAgInJhZGl1cyI6IDQsCiAgInN0cm9rZSI6IHRydWUsCiAgIndlaWdodCI6IDMKfQogICAgICAgICAgICAgICAgKS5hZGRUbyhmZWF0dXJlX2dyb3VwXzY0ZDM4NjdjMWY5ODQ0MTFhNmU1ODI1YWEwNDU5N2ExKTsKICAgICAgICAgICAgCiAgICAKICAgICAgICAgICAgdmFyIGNpcmNsZV9tYXJrZXJfZTFhZTRkOTk1MjM3NDlmYmIyZmRjYjY4Y2ZiMDNhOWEgPSBMLmNpcmNsZU1hcmtlcigKICAgICAgICAgICAgICAgIFszNS4xMjgxODk4LC04MC43MDIyNDA5XSwKICAgICAgICAgICAgICAgIHsKICAiYnViYmxpbmdNb3VzZUV2ZW50cyI6IHRydWUsCiAgImNvbG9yIjogInJlZCIsCiAgImRhc2hBcnJheSI6IG51bGwsCiAgImRhc2hPZmZzZXQiOiBudWxsLAogICJmaWxsIjogdHJ1ZSwKICAiZmlsbENvbG9yIjogImJsdWUiLAogICJmaWxsT3BhY2l0eSI6IDAuNiwKICAiZmlsbFJ1bGUiOiAiZXZlbm9kZCIsCiAgImxpbmVDYXAiOiAicm91bmQiLAogICJsaW5lSm9pbiI6ICJyb3VuZCIsCiAgIm9wYWNpdHkiOiAxLjAsCiAgInJhZGl1cyI6IDQsCiAgInN0cm9rZSI6IHRydWUsCiAgIndlaWdodCI6IDMKfQogICAgICAgICAgICAgICAgKS5hZGRUbyhmZWF0dXJlX2dyb3VwXzY0ZDM4NjdjMWY5ODQ0MTFhNmU1ODI1YWEwNDU5N2ExKTsKICAgICAgICAgICAgCiAgICAKICAgICAgICAgICAgdmFyIGNpcmNsZV9tYXJrZXJfMmUwMTJhODllMGVlNGE2MjllNDkxNTc2MjFhOTI1NTMgPSBMLmNpcmNsZU1hcmtlcigKICAgICAgICAgICAgICAgIFszNS4xMTY5MDE5MTg0MjE4LC04MC44NTYzMzMzMjQ1NTQ4XSwKICAgICAgICAgICAgICAgIHsKICAiYnViYmxpbmdNb3VzZUV2ZW50cyI6IHRydWUsCiAgImNvbG9yIjogInJlZCIsCiAgImRhc2hBcnJheSI6IG51bGwsCiAgImRhc2hPZmZzZXQiOiBudWxsLAogICJmaWxsIjogdHJ1ZSwKICAiZmlsbENvbG9yIjogImJsdWUiLAogICJmaWxsT3BhY2l0eSI6IDAuNiwKICAiZmlsbFJ1bGUiOiAiZXZlbm9kZCIsCiAgImxpbmVDYXAiOiAicm91bmQiLAogICJsaW5lSm9pbiI6ICJyb3VuZCIsCiAgIm9wYWNpdHkiOiAxLjAsCiAgInJhZGl1cyI6IDQsCiAgInN0cm9rZSI6IHRydWUsCiAgIndlaWdodCI6IDMKfQogICAgICAgICAgICAgICAgKS5hZGRUbyhmZWF0dXJlX2dyb3VwXzY0ZDM4NjdjMWY5ODQ0MTFhNmU1ODI1YWEwNDU5N2ExKTsKICAgICAgICAgICAgCiAgICAKICAgICAgICAgICAgdmFyIGNpcmNsZV9tYXJrZXJfMWI4ZTgwMDZlNDkwNGY1OTgxNWFhOGY3OTU4ZTE4YjEgPSBMLmNpcmNsZU1hcmtlcigKICAgICAgICAgICAgICAgIFszNS4xNTI4OTEyLC04MC44Mjc3NzUwN10sCiAgICAgICAgICAgICAgICB7CiAgImJ1YmJsaW5nTW91c2VFdmVudHMiOiB0cnVlLAogICJjb2xvciI6ICJyZWQiLAogICJkYXNoQXJyYXkiOiBudWxsLAogICJkYXNoT2Zmc2V0IjogbnVsbCwKICAiZmlsbCI6IHRydWUsCiAgImZpbGxDb2xvciI6ICJibHVlIiwKICAiZmlsbE9wYWNpdHkiOiAwLjYsCiAgImZpbGxSdWxlIjogImV2ZW5vZGQiLAogICJsaW5lQ2FwIjogInJvdW5kIiwKICAibGluZUpvaW4iOiAicm91bmQiLAogICJvcGFjaXR5IjogMS4wLAogICJyYWRpdXMiOiA0LAogICJzdHJva2UiOiB0cnVlLAogICJ3ZWlnaHQiOiAzCn0KICAgICAgICAgICAgICAgICkuYWRkVG8oZmVhdHVyZV9ncm91cF82NGQzODY3YzFmOTg0NDExYTZlNTgyNWFhMDQ1OTdhMSk7CiAgICAgICAgICAgIAogICAgCiAgICAgICAgICAgIHZhciBjaXJjbGVfbWFya2VyXzIzNWYxZmJlYWYzMDQxNzY4OWQyYzc5ZjJkYmU1NGQ2ID0gTC5jaXJjbGVNYXJrZXIoCiAgICAgICAgICAgICAgICBbMzUuMjI1OTEsLTgwLjg0NjYzOTldLAogICAgICAgICAgICAgICAgewogICJidWJibGluZ01vdXNlRXZlbnRzIjogdHJ1ZSwKICAiY29sb3IiOiAicmVkIiwKICAiZGFzaEFycmF5IjogbnVsbCwKICAiZGFzaE9mZnNldCI6IG51bGwsCiAgImZpbGwiOiB0cnVlLAogICJmaWxsQ29sb3IiOiAiYmx1ZSIsCiAgImZpbGxPcGFjaXR5IjogMC42LAogICJmaWxsUnVsZSI6ICJldmVub2RkIiwKICAibGluZUNhcCI6ICJyb3VuZCIsCiAgImxpbmVKb2luIjogInJvdW5kIiwKICAib3BhY2l0eSI6IDEuMCwKICAicmFkaXVzIjogNCwKICAic3Ryb2tlIjogdHJ1ZSwKICAid2VpZ2h0IjogMwp9CiAgICAgICAgICAgICAgICApLmFkZFRvKGZlYXR1cmVfZ3JvdXBfNjRkMzg2N2MxZjk4NDQxMWE2ZTU4MjVhYTA0NTk3YTEpOwogICAgICAgICAgICAKICAgIAogICAgICAgICAgICB2YXIgY2lyY2xlX21hcmtlcl83YWE5ZDBiMGFjN2Y0MGQxODJmZTg2NGY5ZTVjN2NiMCA9IEwuY2lyY2xlTWFya2VyKAogICAgICAgICAgICAgICAgWzM1LjI0MDY2NywtODAuODQ1MDg3XSwKICAgICAgICAgICAgICAgIHsKICAiYnViYmxpbmdNb3VzZUV2ZW50cyI6IHRydWUsCiAgImNvbG9yIjogInJlZCIsCiAgImRhc2hBcnJheSI6IG51bGwsCiAgImRhc2hPZmZzZXQiOiBudWxsLAogICJmaWxsIjogdHJ1ZSwKICAiZmlsbENvbG9yIjogImJsdWUiLAogICJmaWxsT3BhY2l0eSI6IDAuNiwKICAiZmlsbFJ1bGUiOiAiZXZlbm9kZCIsCiAgImxpbmVDYXAiOiAicm91bmQiLAogICJsaW5lSm9pbiI6ICJyb3VuZCIsCiAgIm9wYWNpdHkiOiAxLjAsCiAgInJhZGl1cyI6IDQsCiAgInN0cm9rZSI6IHRydWUsCiAgIndlaWdodCI6IDMKfQogICAgICAgICAgICAgICAgKS5hZGRUbyhmZWF0dXJlX2dyb3VwXzY0ZDM4NjdjMWY5ODQ0MTFhNmU1ODI1YWEwNDU5N2ExKTsKICAgICAgICAgICAgCiAgICAKICAgICAgICAgICAgdmFyIGNpcmNsZV9tYXJrZXJfNGNhZWE2ZjZlOGVhNDY2YzljNjU4OTY2ZDdkM2RlYzggPSBMLmNpcmNsZU1hcmtlcigKICAgICAgICAgICAgICAgIFszNS4yMTE4NjEsLTgwLjc2MTgxMV0sCiAgICAgICAgICAgICAgICB7CiAgImJ1YmJsaW5nTW91c2VFdmVudHMiOiB0cnVlLAogICJjb2xvciI6ICJyZWQiLAogICJkYXNoQXJyYXkiOiBudWxsLAogICJkYXNoT2Zmc2V0IjogbnVsbCwKICAiZmlsbCI6IHRydWUsCiAgImZpbGxDb2xvciI6ICJibHVlIiwKICAiZmlsbE9wYWNpdHkiOiAwLjYsCiAgImZpbGxSdWxlIjogImV2ZW5vZGQiLAogICJsaW5lQ2FwIjogInJvdW5kIiwKICAibGluZUpvaW4iOiAicm91bmQiLAogICJvcGFjaXR5IjogMS4wLAogICJyYWRpdXMiOiA0LAogICJzdHJva2UiOiB0cnVlLAogICJ3ZWlnaHQiOiAzCn0KICAgICAgICAgICAgICAgICkuYWRkVG8oZmVhdHVyZV9ncm91cF82NGQzODY3YzFmOTg0NDExYTZlNTgyNWFhMDQ1OTdhMSk7CiAgICAgICAgICAgIAogICAgCiAgICAgICAgICAgIHZhciBjaXJjbGVfbWFya2VyXzU3NjA4YTZlMTJhNDRjZjI5YmIyMTQwZWM5ODk2MzNkID0gTC5jaXJjbGVNYXJrZXIoCiAgICAgICAgICAgICAgICBbMzUuMDUzMjE0NjEyNjg4NSwtODAuNzcwNDAwNTI5MzMzXSwKICAgICAgICAgICAgICAgIHsKICAiYnViYmxpbmdNb3VzZUV2ZW50cyI6IHRydWUsCiAgImNvbG9yIjogInJlZCIsCiAgImRhc2hBcnJheSI6IG51bGwsCiAgImRhc2hPZmZzZXQiOiBudWxsLAogICJmaWxsIjogdHJ1ZSwKICAiZmlsbENvbG9yIjogImJsdWUiLAogICJmaWxsT3BhY2l0eSI6IDAuNiwKICAiZmlsbFJ1bGUiOiAiZXZlbm9kZCIsCiAgImxpbmVDYXAiOiAicm91bmQiLAogICJsaW5lSm9pbiI6ICJyb3VuZCIsCiAgIm9wYWNpdHkiOiAxLjAsCiAgInJhZGl1cyI6IDQsCiAgInN0cm9rZSI6IHRydWUsCiAgIndlaWdodCI6IDMKfQogICAgICAgICAgICAgICAgKS5hZGRUbyhmZWF0dXJlX2dyb3VwXzY0ZDM4NjdjMWY5ODQ0MTFhNmU1ODI1YWEwNDU5N2ExKTsKICAgICAgICAgICAgCiAgICAKICAgICAgICAgICAgdmFyIGNpcmNsZV9tYXJrZXJfNjc4Y2NjZTBjOTYxNGRmNDk3YzRkNmEwZTc5MDQ4NGIgPSBMLmNpcmNsZU1hcmtlcigKICAgICAgICAgICAgICAgIFszNS4wOTUyMzgsLTgwLjc3OTA4Ml0sCiAgICAgICAgICAgICAgICB7CiAgImJ1YmJsaW5nTW91c2VFdmVudHMiOiB0cnVlLAogICJjb2xvciI6ICJyZWQiLAogICJkYXNoQXJyYXkiOiBudWxsLAogICJkYXNoT2Zmc2V0IjogbnVsbCwKICAiZmlsbCI6IHRydWUsCiAgImZpbGxDb2xvciI6ICJibHVlIiwKICAiZmlsbE9wYWNpdHkiOiAwLjYsCiAgImZpbGxSdWxlIjogImV2ZW5vZGQiLAogICJsaW5lQ2FwIjogInJvdW5kIiwKICAibGluZUpvaW4iOiAicm91bmQiLAogICJvcGFjaXR5IjogMS4wLAogICJyYWRpdXMiOiA0LAogICJzdHJva2UiOiB0cnVlLAogICJ3ZWlnaHQiOiAzCn0KICAgICAgICAgICAgICAgICkuYWRkVG8oZmVhdHVyZV9ncm91cF82NGQzODY3YzFmOTg0NDExYTZlNTgyNWFhMDQ1OTdhMSk7CiAgICAgICAgICAgIAogICAgCiAgICAgICAgICAgIHZhciBjaXJjbGVfbWFya2VyXzYyZTVkODEyMTY0MjQxMjBhY2IwNTYxZWM3MTY3OTNkID0gTC5jaXJjbGVNYXJrZXIoCiAgICAgICAgICAgICAgICBbMzUuMjI5MjQsLTgwLjgzOTcxXSwKICAgICAgICAgICAgICAgIHsKICAiYnViYmxpbmdNb3VzZUV2ZW50cyI6IHRydWUsCiAgImNvbG9yIjogInJlZCIsCiAgImRhc2hBcnJheSI6IG51bGwsCiAgImRhc2hPZmZzZXQiOiBudWxsLAogICJmaWxsIjogdHJ1ZSwKICAiZmlsbENvbG9yIjogImJsdWUiLAogICJmaWxsT3BhY2l0eSI6IDAuNiwKICAiZmlsbFJ1bGUiOiAiZXZlbm9kZCIsCiAgImxpbmVDYXAiOiAicm91bmQiLAogICJsaW5lSm9pbiI6ICJyb3VuZCIsCiAgIm9wYWNpdHkiOiAxLjAsCiAgInJhZGl1cyI6IDQsCiAgInN0cm9rZSI6IHRydWUsCiAgIndlaWdodCI6IDMKfQogICAgICAgICAgICAgICAgKS5hZGRUbyhmZWF0dXJlX2dyb3VwXzY0ZDM4NjdjMWY5ODQ0MTFhNmU1ODI1YWEwNDU5N2ExKTsKICAgICAgICAgICAgCiAgICAKICAgICAgICAgICAgdmFyIGNpcmNsZV9tYXJrZXJfZjFlYjBlNDNhOTZkNDg5YTk1MjRhNWY5MjRjNmQxOTAgPSBMLmNpcmNsZU1hcmtlcigKICAgICAgICAgICAgICAgIFszNS4yMTM0MDAyLC04MC44MzUxMDQ1MDU1Njc5XSwKICAgICAgICAgICAgICAgIHsKICAiYnViYmxpbmdNb3VzZUV2ZW50cyI6IHRydWUsCiAgImNvbG9yIjogInJlZCIsCiAgImRhc2hBcnJheSI6IG51bGwsCiAgImRhc2hPZmZzZXQiOiBudWxsLAogICJmaWxsIjogdHJ1ZSwKICAiZmlsbENvbG9yIjogImJsdWUiLAogICJmaWxsT3BhY2l0eSI6IDAuNiwKICAiZmlsbFJ1bGUiOiAiZXZlbm9kZCIsCiAgImxpbmVDYXAiOiAicm91bmQiLAogICJsaW5lSm9pbiI6ICJyb3VuZCIsCiAgIm9wYWNpdHkiOiAxLjAsCiAgInJhZGl1cyI6IDQsCiAgInN0cm9rZSI6IHRydWUsCiAgIndlaWdodCI6IDMKfQogICAgICAgICAgICAgICAgKS5hZGRUbyhmZWF0dXJlX2dyb3VwXzY0ZDM4NjdjMWY5ODQ0MTFhNmU1ODI1YWEwNDU5N2ExKTsKICAgICAgICAgICAgCiAgICAKICAgICAgICAgICAgdmFyIGNpcmNsZV9tYXJrZXJfY2E3YzY2ZWRmZWVhNDFhZDg1MzM2NGQyM2UyZmIyY2MgPSBMLmNpcmNsZU1hcmtlcigKICAgICAgICAgICAgICAgIFszNS4yMjY4OTksLTgwLjg0Mjk0NF0sCiAgICAgICAgICAgICAgICB7CiAgImJ1YmJsaW5nTW91c2VFdmVudHMiOiB0cnVlLAogICJjb2xvciI6ICJyZWQiLAogICJkYXNoQXJyYXkiOiBudWxsLAogICJkYXNoT2Zmc2V0IjogbnVsbCwKICAiZmlsbCI6IHRydWUsCiAgImZpbGxDb2xvciI6ICJibHVlIiwKICAiZmlsbE9wYWNpdHkiOiAwLjYsCiAgImZpbGxSdWxlIjogImV2ZW5vZGQiLAogICJsaW5lQ2FwIjogInJvdW5kIiwKICAibGluZUpvaW4iOiAicm91bmQiLAogICJvcGFjaXR5IjogMS4wLAogICJyYWRpdXMiOiA0LAogICJzdHJva2UiOiB0cnVlLAogICJ3ZWlnaHQiOiAzCn0KICAgICAgICAgICAgICAgICkuYWRkVG8oZmVhdHVyZV9ncm91cF82NGQzODY3YzFmOTg0NDExYTZlNTgyNWFhMDQ1OTdhMSk7CiAgICAgICAgICAgIAogICAgCiAgICAgICAgICAgIHZhciBjaXJjbGVfbWFya2VyXzQ4OWNiNjUzNjRjMDRlN2Y4ZWVlM2IyMjc0OGNmMzRkID0gTC5jaXJjbGVNYXJrZXIoCiAgICAgICAgICAgICAgICBbMzUuMTY5ODY0NywtODAuODc1NjMxM10sCiAgICAgICAgICAgICAgICB7CiAgImJ1YmJsaW5nTW91c2VFdmVudHMiOiB0cnVlLAogICJjb2xvciI6ICJyZWQiLAogICJkYXNoQXJyYXkiOiBudWxsLAogICJkYXNoT2Zmc2V0IjogbnVsbCwKICAiZmlsbCI6IHRydWUsCiAgImZpbGxDb2xvciI6ICJibHVlIiwKICAiZmlsbE9wYWNpdHkiOiAwLjYsCiAgImZpbGxSdWxlIjogImV2ZW5vZGQiLAogICJsaW5lQ2FwIjogInJvdW5kIiwKICAibGluZUpvaW4iOiAicm91bmQiLAogICJvcGFjaXR5IjogMS4wLAogICJyYWRpdXMiOiA0LAogICJzdHJva2UiOiB0cnVlLAogICJ3ZWlnaHQiOiAzCn0KICAgICAgICAgICAgICAgICkuYWRkVG8oZmVhdHVyZV9ncm91cF82NGQzODY3YzFmOTg0NDExYTZlNTgyNWFhMDQ1OTdhMSk7CiAgICAgICAgICAgIAogICAgCiAgICAgICAgICAgIHZhciBjaXJjbGVfbWFya2VyXzJiNzc1NWZjMzZmNjQ2MjFiOTgyOWQ0YzZmYjYzNmUwID0gTC5jaXJjbGVNYXJrZXIoCiAgICAgICAgICAgICAgICBbMzUuMjI1ODksLTgwLjg0NjldLAogICAgICAgICAgICAgICAgewogICJidWJibGluZ01vdXNlRXZlbnRzIjogdHJ1ZSwKICAiY29sb3IiOiAicmVkIiwKICAiZGFzaEFycmF5IjogbnVsbCwKICAiZGFzaE9mZnNldCI6IG51bGwsCiAgImZpbGwiOiB0cnVlLAogICJmaWxsQ29sb3IiOiAiYmx1ZSIsCiAgImZpbGxPcGFjaXR5IjogMC42LAogICJmaWxsUnVsZSI6ICJldmVub2RkIiwKICAibGluZUNhcCI6ICJyb3VuZCIsCiAgImxpbmVKb2luIjogInJvdW5kIiwKICAib3BhY2l0eSI6IDEuMCwKICAicmFkaXVzIjogNCwKICAic3Ryb2tlIjogdHJ1ZSwKICAid2VpZ2h0IjogMwp9CiAgICAgICAgICAgICAgICApLmFkZFRvKGZlYXR1cmVfZ3JvdXBfNjRkMzg2N2MxZjk4NDQxMWE2ZTU4MjVhYTA0NTk3YTEpOwogICAgICAgICAgICAKICAgIAogICAgICAgICAgICB2YXIgY2lyY2xlX21hcmtlcl9mM2M1MmVlZTkxMWI0YTQ2YmQzYzRjZWI4ZmYyZTlkZiA9IEwuY2lyY2xlTWFya2VyKAogICAgICAgICAgICAgICAgWzM1LjA2ODY2MTM5MjAxOTEsLTgwLjg0MTEwMjA2MzI1NzddLAogICAgICAgICAgICAgICAgewogICJidWJibGluZ01vdXNlRXZlbnRzIjogdHJ1ZSwKICAiY29sb3IiOiAicmVkIiwKICAiZGFzaEFycmF5IjogbnVsbCwKICAiZGFzaE9mZnNldCI6IG51bGwsCiAgImZpbGwiOiB0cnVlLAogICJmaWxsQ29sb3IiOiAiYmx1ZSIsCiAgImZpbGxPcGFjaXR5IjogMC42LAogICJmaWxsUnVsZSI6ICJldmVub2RkIiwKICAibGluZUNhcCI6ICJyb3VuZCIsCiAgImxpbmVKb2luIjogInJvdW5kIiwKICAib3BhY2l0eSI6IDEuMCwKICAicmFkaXVzIjogNCwKICAic3Ryb2tlIjogdHJ1ZSwKICAid2VpZ2h0IjogMwp9CiAgICAgICAgICAgICAgICApLmFkZFRvKGZlYXR1cmVfZ3JvdXBfNjRkMzg2N2MxZjk4NDQxMWE2ZTU4MjVhYTA0NTk3YTEpOwogICAgICAgICAgICAKICAgIAogICAgICAgICAgICB2YXIgY2lyY2xlX21hcmtlcl83MDMyNmQ3ZDI3MmY0ZjI0YTRjNTIyMTY2MDc1MDg5NSA9IEwuY2lyY2xlTWFya2VyKAogICAgICAgICAgICAgICAgWzM1LjIxMTQ4LC04MC44NjAyOF0sCiAgICAgICAgICAgICAgICB7CiAgImJ1YmJsaW5nTW91c2VFdmVudHMiOiB0cnVlLAogICJjb2xvciI6ICJyZWQiLAogICJkYXNoQXJyYXkiOiBudWxsLAogICJkYXNoT2Zmc2V0IjogbnVsbCwKICAiZmlsbCI6IHRydWUsCiAgImZpbGxDb2xvciI6ICJibHVlIiwKICAiZmlsbE9wYWNpdHkiOiAwLjYsCiAgImZpbGxSdWxlIjogImV2ZW5vZGQiLAogICJsaW5lQ2FwIjogInJvdW5kIiwKICAibGluZUpvaW4iOiAicm91bmQiLAogICJvcGFjaXR5IjogMS4wLAogICJyYWRpdXMiOiA0LAogICJzdHJva2UiOiB0cnVlLAogICJ3ZWlnaHQiOiAzCn0KICAgICAgICAgICAgICAgICkuYWRkVG8oZmVhdHVyZV9ncm91cF82NGQzODY3YzFmOTg0NDExYTZlNTgyNWFhMDQ1OTdhMSk7CiAgICAgICAgICAgIAogICAgCiAgICAgICAgICAgIHZhciBjaXJjbGVfbWFya2VyXzJhMmEyNWMyNGI3NTQwZDE5MWUxMzY2MTIyY2YyYTZmID0gTC5jaXJjbGVNYXJrZXIoCiAgICAgICAgICAgICAgICBbMzUuMDM1MTc5OSwtODAuODA2OTddLAogICAgICAgICAgICAgICAgewogICJidWJibGluZ01vdXNlRXZlbnRzIjogdHJ1ZSwKICAiY29sb3IiOiAicmVkIiwKICAiZGFzaEFycmF5IjogbnVsbCwKICAiZGFzaE9mZnNldCI6IG51bGwsCiAgImZpbGwiOiB0cnVlLAogICJmaWxsQ29sb3IiOiAiYmx1ZSIsCiAgImZpbGxPcGFjaXR5IjogMC42LAogICJmaWxsUnVsZSI6ICJldmVub2RkIiwKICAibGluZUNhcCI6ICJyb3VuZCIsCiAgImxpbmVKb2luIjogInJvdW5kIiwKICAib3BhY2l0eSI6IDEuMCwKICAicmFkaXVzIjogNCwKICAic3Ryb2tlIjogdHJ1ZSwKICAid2VpZ2h0IjogMwp9CiAgICAgICAgICAgICAgICApLmFkZFRvKGZlYXR1cmVfZ3JvdXBfNjRkMzg2N2MxZjk4NDQxMWE2ZTU4MjVhYTA0NTk3YTEpOwogICAgICAgICAgICAKICAgIAogICAgICAgICAgICB2YXIgY2lyY2xlX21hcmtlcl9iZDBmOTY3ZTY0MGE0M2EwOWIxMjM1YTcyOTM2OGUyOCA9IEwuY2lyY2xlTWFya2VyKAogICAgICAgICAgICAgICAgWzM1LjA2MjI0LC04MC45OTI4NV0sCiAgICAgICAgICAgICAgICB7CiAgImJ1YmJsaW5nTW91c2VFdmVudHMiOiB0cnVlLAogICJjb2xvciI6ICJyZWQiLAogICJkYXNoQXJyYXkiOiBudWxsLAogICJkYXNoT2Zmc2V0IjogbnVsbCwKICAiZmlsbCI6IHRydWUsCiAgImZpbGxDb2xvciI6ICJibHVlIiwKICAiZmlsbE9wYWNpdHkiOiAwLjYsCiAgImZpbGxSdWxlIjogImV2ZW5vZGQiLAogICJsaW5lQ2FwIjogInJvdW5kIiwKICAibGluZUpvaW4iOiAicm91bmQiLAogICJvcGFjaXR5IjogMS4wLAogICJyYWRpdXMiOiA0LAogICJzdHJva2UiOiB0cnVlLAogICJ3ZWlnaHQiOiAzCn0KICAgICAgICAgICAgICAgICkuYWRkVG8oZmVhdHVyZV9ncm91cF82NGQzODY3YzFmOTg0NDExYTZlNTgyNWFhMDQ1OTdhMSk7CiAgICAgICAgICAgIAogICAgCiAgICAgICAgICAgIHZhciBjaXJjbGVfbWFya2VyXzdiMjE4NmE3ZDE3MDQ3ZGViZmRlMWIwYWQ5MDQ3MDQ3ID0gTC5jaXJjbGVNYXJrZXIoCiAgICAgICAgICAgICAgICBbMzUuMjI3NTU0NSwtODAuODQxNzUzN10sCiAgICAgICAgICAgICAgICB7CiAgImJ1YmJsaW5nTW91c2VFdmVudHMiOiB0cnVlLAogICJjb2xvciI6ICJyZWQiLAogICJkYXNoQXJyYXkiOiBudWxsLAogICJkYXNoT2Zmc2V0IjogbnVsbCwKICAiZmlsbCI6IHRydWUsCiAgImZpbGxDb2xvciI6ICJibHVlIiwKICAiZmlsbE9wYWNpdHkiOiAwLjYsCiAgImZpbGxSdWxlIjogImV2ZW5vZGQiLAogICJsaW5lQ2FwIjogInJvdW5kIiwKICAibGluZUpvaW4iOiAicm91bmQiLAogICJvcGFjaXR5IjogMS4wLAogICJyYWRpdXMiOiA0LAogICJzdHJva2UiOiB0cnVlLAogICJ3ZWlnaHQiOiAzCn0KICAgICAgICAgICAgICAgICkuYWRkVG8oZmVhdHVyZV9ncm91cF82NGQzODY3YzFmOTg0NDExYTZlNTgyNWFhMDQ1OTdhMSk7CiAgICAgICAgICAgIAogICAgCiAgICAgICAgICAgIHZhciBjaXJjbGVfbWFya2VyXzEyMDAwMzQ0ZTIxZTQ3YWU4YzIzMjZlMTU3MmI1MjNiID0gTC5jaXJjbGVNYXJrZXIoCiAgICAgICAgICAgICAgICBbMzUuMTcxMDEsLTgwLjg0ODIyXSwKICAgICAgICAgICAgICAgIHsKICAiYnViYmxpbmdNb3VzZUV2ZW50cyI6IHRydWUsCiAgImNvbG9yIjogInJlZCIsCiAgImRhc2hBcnJheSI6IG51bGwsCiAgImRhc2hPZmZzZXQiOiBudWxsLAogICJmaWxsIjogdHJ1ZSwKICAiZmlsbENvbG9yIjogImJsdWUiLAogICJmaWxsT3BhY2l0eSI6IDAuNiwKICAiZmlsbFJ1bGUiOiAiZXZlbm9kZCIsCiAgImxpbmVDYXAiOiAicm91bmQiLAogICJsaW5lSm9pbiI6ICJyb3VuZCIsCiAgIm9wYWNpdHkiOiAxLjAsCiAgInJhZGl1cyI6IDQsCiAgInN0cm9rZSI6IHRydWUsCiAgIndlaWdodCI6IDMKfQogICAgICAgICAgICAgICAgKS5hZGRUbyhmZWF0dXJlX2dyb3VwXzY0ZDM4NjdjMWY5ODQ0MTFhNmU1ODI1YWEwNDU5N2ExKTsKICAgICAgICAgICAgCiAgICAKICAgICAgICAgICAgdmFyIGNpcmNsZV9tYXJrZXJfODAxNDU0MDljYzZjNDgwYjk3M2Y4NWUyYTAzY2YzNWQgPSBMLmNpcmNsZU1hcmtlcigKICAgICAgICAgICAgICAgIFszNS41MDg2Mzc1NjM5NzgsLTgxLjAwMzc4Ml0sCiAgICAgICAgICAgICAgICB7CiAgImJ1YmJsaW5nTW91c2VFdmVudHMiOiB0cnVlLAogICJjb2xvciI6ICJyZWQiLAogICJkYXNoQXJyYXkiOiBudWxsLAogICJkYXNoT2Zmc2V0IjogbnVsbCwKICAiZmlsbCI6IHRydWUsCiAgImZpbGxDb2xvciI6ICJibHVlIiwKICAiZmlsbE9wYWNpdHkiOiAwLjYsCiAgImZpbGxSdWxlIjogImV2ZW5vZGQiLAogICJsaW5lQ2FwIjogInJvdW5kIiwKICAibGluZUpvaW4iOiAicm91bmQiLAogICJvcGFjaXR5IjogMS4wLAogICJyYWRpdXMiOiA0LAogICJzdHJva2UiOiB0cnVlLAogICJ3ZWlnaHQiOiAzCn0KICAgICAgICAgICAgICAgICkuYWRkVG8oZmVhdHVyZV9ncm91cF82NGQzODY3YzFmOTg0NDExYTZlNTgyNWFhMDQ1OTdhMSk7CiAgICAgICAgICAgIAogICAgCiAgICAgICAgICAgIHZhciBjaXJjbGVfbWFya2VyXzgwMjg5ZDQwZWVlNzRjZTQ5MWNhZmFkNDExYmYzM2U1ID0gTC5jaXJjbGVNYXJrZXIoCiAgICAgICAgICAgICAgICBbMzUuMTc2MjA4LC04MC44MDI1NDVdLAogICAgICAgICAgICAgICAgewogICJidWJibGluZ01vdXNlRXZlbnRzIjogdHJ1ZSwKICAiY29sb3IiOiAicmVkIiwKICAiZGFzaEFycmF5IjogbnVsbCwKICAiZGFzaE9mZnNldCI6IG51bGwsCiAgImZpbGwiOiB0cnVlLAogICJmaWxsQ29sb3IiOiAiYmx1ZSIsCiAgImZpbGxPcGFjaXR5IjogMC42LAogICJmaWxsUnVsZSI6ICJldmVub2RkIiwKICAibGluZUNhcCI6ICJyb3VuZCIsCiAgImxpbmVKb2luIjogInJvdW5kIiwKICAib3BhY2l0eSI6IDEuMCwKICAicmFkaXVzIjogNCwKICAic3Ryb2tlIjogdHJ1ZSwKICAid2VpZ2h0IjogMwp9CiAgICAgICAgICAgICAgICApLmFkZFRvKGZlYXR1cmVfZ3JvdXBfNjRkMzg2N2MxZjk4NDQxMWE2ZTU4MjVhYTA0NTk3YTEpOwogICAgICAgICAgICAKICAgIAogICAgICAgICAgICB2YXIgY2lyY2xlX21hcmtlcl9hYzViMGNmOTlhNGY0NDkwYmQ4Y2FlZjQ4OWIzYzMwMyA9IEwuY2lyY2xlTWFya2VyKAogICAgICAgICAgICAgICAgWzM1LjE5OTMzMzcsLTgwLjg1MjE3MDhdLAogICAgICAgICAgICAgICAgewogICJidWJibGluZ01vdXNlRXZlbnRzIjogdHJ1ZSwKICAiY29sb3IiOiAicmVkIiwKICAiZGFzaEFycmF5IjogbnVsbCwKICAiZGFzaE9mZnNldCI6IG51bGwsCiAgImZpbGwiOiB0cnVlLAogICJmaWxsQ29sb3IiOiAiYmx1ZSIsCiAgImZpbGxPcGFjaXR5IjogMC42LAogICJmaWxsUnVsZSI6ICJldmVub2RkIiwKICAibGluZUNhcCI6ICJyb3VuZCIsCiAgImxpbmVKb2luIjogInJvdW5kIiwKICAib3BhY2l0eSI6IDEuMCwKICAicmFkaXVzIjogNCwKICAic3Ryb2tlIjogdHJ1ZSwKICAid2VpZ2h0IjogMwp9CiAgICAgICAgICAgICAgICApLmFkZFRvKGZlYXR1cmVfZ3JvdXBfNjRkMzg2N2MxZjk4NDQxMWE2ZTU4MjVhYTA0NTk3YTEpOwogICAgICAgICAgICAKICAgIAogICAgICAgICAgICB2YXIgY2lyY2xlX21hcmtlcl8xMDViNTcyODkzZjg0MTdkYmE3OTgyMjg5YTA1MGM1NSA9IEwuY2lyY2xlTWFya2VyKAogICAgICAgICAgICAgICAgWzM1LjIxOTgyLC04MC44MTUwMl0sCiAgICAgICAgICAgICAgICB7CiAgImJ1YmJsaW5nTW91c2VFdmVudHMiOiB0cnVlLAogICJjb2xvciI6ICJyZWQiLAogICJkYXNoQXJyYXkiOiBudWxsLAogICJkYXNoT2Zmc2V0IjogbnVsbCwKICAiZmlsbCI6IHRydWUsCiAgImZpbGxDb2xvciI6ICJibHVlIiwKICAiZmlsbE9wYWNpdHkiOiAwLjYsCiAgImZpbGxSdWxlIjogImV2ZW5vZGQiLAogICJsaW5lQ2FwIjogInJvdW5kIiwKICAibGluZUpvaW4iOiAicm91bmQiLAogICJvcGFjaXR5IjogMS4wLAogICJyYWRpdXMiOiA0LAogICJzdHJva2UiOiB0cnVlLAogICJ3ZWlnaHQiOiAzCn0KICAgICAgICAgICAgICAgICkuYWRkVG8oZmVhdHVyZV9ncm91cF82NGQzODY3YzFmOTg0NDExYTZlNTgyNWFhMDQ1OTdhMSk7CiAgICAgICAgICAgIAogICAgCiAgICAgICAgICAgIHZhciBjaXJjbGVfbWFya2VyX2Y5MGQ0OWVhNDQ4MTQxNDZhNDVmZjFkY2U0MzAwMWRiID0gTC5jaXJjbGVNYXJrZXIoCiAgICAgICAgICAgICAgICBbMzUuMjMzMDY0LC04MC44NTE4NjhdLAogICAgICAgICAgICAgICAgewogICJidWJibGluZ01vdXNlRXZlbnRzIjogdHJ1ZSwKICAiY29sb3IiOiAicmVkIiwKICAiZGFzaEFycmF5IjogbnVsbCwKICAiZGFzaE9mZnNldCI6IG51bGwsCiAgImZpbGwiOiB0cnVlLAogICJmaWxsQ29sb3IiOiAiYmx1ZSIsCiAgImZpbGxPcGFjaXR5IjogMC42LAogICJmaWxsUnVsZSI6ICJldmVub2RkIiwKICAibGluZUNhcCI6ICJyb3VuZCIsCiAgImxpbmVKb2luIjogInJvdW5kIiwKICAib3BhY2l0eSI6IDEuMCwKICAicmFkaXVzIjogNCwKICAic3Ryb2tlIjogdHJ1ZSwKICAid2VpZ2h0IjogMwp9CiAgICAgICAgICAgICAgICApLmFkZFRvKGZlYXR1cmVfZ3JvdXBfNjRkMzg2N2MxZjk4NDQxMWE2ZTU4MjVhYTA0NTk3YTEpOwogICAgICAgICAgICAKICAgIAogICAgICAgICAgICB2YXIgY2lyY2xlX21hcmtlcl82ODMwMjQwMjRkYjg0ODJjYTc2N2U4YTE1MTY5NWMyMCA9IEwuY2lyY2xlTWFya2VyKAogICAgICAgICAgICAgICAgWzM1LjIzMjcsLTgwLjg0ODRdLAogICAgICAgICAgICAgICAgewogICJidWJibGluZ01vdXNlRXZlbnRzIjogdHJ1ZSwKICAiY29sb3IiOiAicmVkIiwKICAiZGFzaEFycmF5IjogbnVsbCwKICAiZGFzaE9mZnNldCI6IG51bGwsCiAgImZpbGwiOiB0cnVlLAogICJmaWxsQ29sb3IiOiAiYmx1ZSIsCiAgImZpbGxPcGFjaXR5IjogMC42LAogICJmaWxsUnVsZSI6ICJldmVub2RkIiwKICAibGluZUNhcCI6ICJyb3VuZCIsCiAgImxpbmVKb2luIjogInJvdW5kIiwKICAib3BhY2l0eSI6IDEuMCwKICAicmFkaXVzIjogNCwKICAic3Ryb2tlIjogdHJ1ZSwKICAid2VpZ2h0IjogMwp9CiAgICAgICAgICAgICAgICApLmFkZFRvKGZlYXR1cmVfZ3JvdXBfNjRkMzg2N2MxZjk4NDQxMWE2ZTU4MjVhYTA0NTk3YTEpOwogICAgICAgICAgICAKICAgIAogICAgICAgICAgICB2YXIgY2lyY2xlX21hcmtlcl82NzZkNzIxODRlMGU0MTQwOWQzNjllZWNjYTNkYWIxZCA9IEwuY2lyY2xlTWFya2VyKAogICAgICAgICAgICAgICAgWzM1LjA1NjQzNSwtODAuODQ4MDk0NF0sCiAgICAgICAgICAgICAgICB7CiAgImJ1YmJsaW5nTW91c2VFdmVudHMiOiB0cnVlLAogICJjb2xvciI6ICJyZWQiLAogICJkYXNoQXJyYXkiOiBudWxsLAogICJkYXNoT2Zmc2V0IjogbnVsbCwKICAiZmlsbCI6IHRydWUsCiAgImZpbGxDb2xvciI6ICJibHVlIiwKICAiZmlsbE9wYWNpdHkiOiAwLjYsCiAgImZpbGxSdWxlIjogImV2ZW5vZGQiLAogICJsaW5lQ2FwIjogInJvdW5kIiwKICAibGluZUpvaW4iOiAicm91bmQiLAogICJvcGFjaXR5IjogMS4wLAogICJyYWRpdXMiOiA0LAogICJzdHJva2UiOiB0cnVlLAogICJ3ZWlnaHQiOiAzCn0KICAgICAgICAgICAgICAgICkuYWRkVG8oZmVhdHVyZV9ncm91cF82NGQzODY3YzFmOTg0NDExYTZlNTgyNWFhMDQ1OTdhMSk7CiAgICAgICAgICAgIAogICAgCiAgICAgICAgICAgIHZhciBjaXJjbGVfbWFya2VyXzRjMGU3N2U2MTkwODQ3YjlhNjc4NzFlM2JlMjA2ZWI4ID0gTC5jaXJjbGVNYXJrZXIoCiAgICAgICAgICAgICAgICBbMzUuMjEwNTEsLTgwLjg2MzQ3XSwKICAgICAgICAgICAgICAgIHsKICAiYnViYmxpbmdNb3VzZUV2ZW50cyI6IHRydWUsCiAgImNvbG9yIjogInJlZCIsCiAgImRhc2hBcnJheSI6IG51bGwsCiAgImRhc2hPZmZzZXQiOiBudWxsLAogICJmaWxsIjogdHJ1ZSwKICAiZmlsbENvbG9yIjogImJsdWUiLAogICJmaWxsT3BhY2l0eSI6IDAuNiwKICAiZmlsbFJ1bGUiOiAiZXZlbm9kZCIsCiAgImxpbmVDYXAiOiAicm91bmQiLAogICJsaW5lSm9pbiI6ICJyb3VuZCIsCiAgIm9wYWNpdHkiOiAxLjAsCiAgInJhZGl1cyI6IDQsCiAgInN0cm9rZSI6IHRydWUsCiAgIndlaWdodCI6IDMKfQogICAgICAgICAgICAgICAgKS5hZGRUbyhmZWF0dXJlX2dyb3VwXzY0ZDM4NjdjMWY5ODQ0MTFhNmU1ODI1YWEwNDU5N2ExKTsKICAgICAgICAgICAgCiAgICAKICAgICAgICAgICAgdmFyIGNpcmNsZV9tYXJrZXJfYzRiMjliMzc2MTUwNGMxNjgyNDdiMjM1NDQwZGI3ZTkgPSBMLmNpcmNsZU1hcmtlcigKICAgICAgICAgICAgICAgIFszNS4yMjg1NDgyMzkzNTgzLC04MC44NDMwNTM3NTY0MTQxXSwKICAgICAgICAgICAgICAgIHsKICAiYnViYmxpbmdNb3VzZUV2ZW50cyI6IHRydWUsCiAgImNvbG9yIjogInJlZCIsCiAgImRhc2hBcnJheSI6IG51bGwsCiAgImRhc2hPZmZzZXQiOiBudWxsLAogICJmaWxsIjogdHJ1ZSwKICAiZmlsbENvbG9yIjogImJsdWUiLAogICJmaWxsT3BhY2l0eSI6IDAuNiwKICAiZmlsbFJ1bGUiOiAiZXZlbm9kZCIsCiAgImxpbmVDYXAiOiAicm91bmQiLAogICJsaW5lSm9pbiI6ICJyb3VuZCIsCiAgIm9wYWNpdHkiOiAxLjAsCiAgInJhZGl1cyI6IDQsCiAgInN0cm9rZSI6IHRydWUsCiAgIndlaWdodCI6IDMKfQogICAgICAgICAgICAgICAgKS5hZGRUbyhmZWF0dXJlX2dyb3VwXzY0ZDM4NjdjMWY5ODQ0MTFhNmU1ODI1YWEwNDU5N2ExKTsKICAgICAgICAgICAgCiAgICAKICAgICAgICAgICAgdmFyIGNpcmNsZV9tYXJrZXJfNTc0YTA5NWE0YWY3NGNmYzhhNzU4ZWMyM2E0MjlmYmIgPSBMLmNpcmNsZU1hcmtlcigKICAgICAgICAgICAgICAgIFszNS4xOTczMywtODAuODAwMDNdLAogICAgICAgICAgICAgICAgewogICJidWJibGluZ01vdXNlRXZlbnRzIjogdHJ1ZSwKICAiY29sb3IiOiAicmVkIiwKICAiZGFzaEFycmF5IjogbnVsbCwKICAiZGFzaE9mZnNldCI6IG51bGwsCiAgImZpbGwiOiB0cnVlLAogICJmaWxsQ29sb3IiOiAiYmx1ZSIsCiAgImZpbGxPcGFjaXR5IjogMC42LAogICJmaWxsUnVsZSI6ICJldmVub2RkIiwKICAibGluZUNhcCI6ICJyb3VuZCIsCiAgImxpbmVKb2luIjogInJvdW5kIiwKICAib3BhY2l0eSI6IDEuMCwKICAicmFkaXVzIjogNCwKICAic3Ryb2tlIjogdHJ1ZSwKICAid2VpZ2h0IjogMwp9CiAgICAgICAgICAgICAgICApLmFkZFRvKGZlYXR1cmVfZ3JvdXBfNjRkMzg2N2MxZjk4NDQxMWE2ZTU4MjVhYTA0NTk3YTEpOwogICAgICAgICAgICAKICAgIAogICAgICAgICAgICB2YXIgY2lyY2xlX21hcmtlcl8zMjVhNjFkMTk5YzQ0OGRiYTVhOGIwYmI3ZDc2ODg2NCA9IEwuY2lyY2xlTWFya2VyKAogICAgICAgICAgICAgICAgWzM1LjE5OTg4OSwtODAuODQyMjg4XSwKICAgICAgICAgICAgICAgIHsKICAiYnViYmxpbmdNb3VzZUV2ZW50cyI6IHRydWUsCiAgImNvbG9yIjogInJlZCIsCiAgImRhc2hBcnJheSI6IG51bGwsCiAgImRhc2hPZmZzZXQiOiBudWxsLAogICJmaWxsIjogdHJ1ZSwKICAiZmlsbENvbG9yIjogImJsdWUiLAogICJmaWxsT3BhY2l0eSI6IDAuNiwKICAiZmlsbFJ1bGUiOiAiZXZlbm9kZCIsCiAgImxpbmVDYXAiOiAicm91bmQiLAogICJsaW5lSm9pbiI6ICJyb3VuZCIsCiAgIm9wYWNpdHkiOiAxLjAsCiAgInJhZGl1cyI6IDQsCiAgInN0cm9rZSI6IHRydWUsCiAgIndlaWdodCI6IDMKfQogICAgICAgICAgICAgICAgKS5hZGRUbyhmZWF0dXJlX2dyb3VwXzY0ZDM4NjdjMWY5ODQ0MTFhNmU1ODI1YWEwNDU5N2ExKTsKICAgICAgICAgICAgCiAgICAKICAgICAgICAgICAgdmFyIGNpcmNsZV9tYXJrZXJfOWVjOTFlNjgzOTdiNGZlZGI2YzY4OWFlYzk4OWMxMzEgPSBMLmNpcmNsZU1hcmtlcigKICAgICAgICAgICAgICAgIFszNS4yMjY0NjgsLTgwLjg0NjY5Nl0sCiAgICAgICAgICAgICAgICB7CiAgImJ1YmJsaW5nTW91c2VFdmVudHMiOiB0cnVlLAogICJjb2xvciI6ICJyZWQiLAogICJkYXNoQXJyYXkiOiBudWxsLAogICJkYXNoT2Zmc2V0IjogbnVsbCwKICAiZmlsbCI6IHRydWUsCiAgImZpbGxDb2xvciI6ICJibHVlIiwKICAiZmlsbE9wYWNpdHkiOiAwLjYsCiAgImZpbGxSdWxlIjogImV2ZW5vZGQiLAogICJsaW5lQ2FwIjogInJvdW5kIiwKICAibGluZUpvaW4iOiAicm91bmQiLAogICJvcGFjaXR5IjogMS4wLAogICJyYWRpdXMiOiA0LAogICJzdHJva2UiOiB0cnVlLAogICJ3ZWlnaHQiOiAzCn0KICAgICAgICAgICAgICAgICkuYWRkVG8oZmVhdHVyZV9ncm91cF82NGQzODY3YzFmOTg0NDExYTZlNTgyNWFhMDQ1OTdhMSk7CiAgICAgICAgICAgIAogICAgCiAgICAgICAgICAgIHZhciBjaXJjbGVfbWFya2VyXzIxYjU4NTU1YzJiZjQ4MjRhODRhODJjZWQ3ZmQxZDQyID0gTC5jaXJjbGVNYXJrZXIoCiAgICAgICAgICAgICAgICBbMzUuMTgwNDgsLTgwLjg4MDExXSwKICAgICAgICAgICAgICAgIHsKICAiYnViYmxpbmdNb3VzZUV2ZW50cyI6IHRydWUsCiAgImNvbG9yIjogInJlZCIsCiAgImRhc2hBcnJheSI6IG51bGwsCiAgImRhc2hPZmZzZXQiOiBudWxsLAogICJmaWxsIjogdHJ1ZSwKICAiZmlsbENvbG9yIjogImJsdWUiLAogICJmaWxsT3BhY2l0eSI6IDAuNiwKICAiZmlsbFJ1bGUiOiAiZXZlbm9kZCIsCiAgImxpbmVDYXAiOiAicm91bmQiLAogICJsaW5lSm9pbiI6ICJyb3VuZCIsCiAgIm9wYWNpdHkiOiAxLjAsCiAgInJhZGl1cyI6IDQsCiAgInN0cm9rZSI6IHRydWUsCiAgIndlaWdodCI6IDMKfQogICAgICAgICAgICAgICAgKS5hZGRUbyhmZWF0dXJlX2dyb3VwXzY0ZDM4NjdjMWY5ODQ0MTFhNmU1ODI1YWEwNDU5N2ExKTsKICAgICAgICAgICAgCiAgICAKICAgICAgICAgICAgdmFyIGNpcmNsZV9tYXJrZXJfYmQ4ZjMwMDM5ZGE3NDZlNzg0YmNlMjI3NDE4ODkxOWEgPSBMLmNpcmNsZU1hcmtlcigKICAgICAgICAgICAgICAgIFszNS4yMjAxOCwtODAuODEzMjldLAogICAgICAgICAgICAgICAgewogICJidWJibGluZ01vdXNlRXZlbnRzIjogdHJ1ZSwKICAiY29sb3IiOiAicmVkIiwKICAiZGFzaEFycmF5IjogbnVsbCwKICAiZGFzaE9mZnNldCI6IG51bGwsCiAgImZpbGwiOiB0cnVlLAogICJmaWxsQ29sb3IiOiAiYmx1ZSIsCiAgImZpbGxPcGFjaXR5IjogMC42LAogICJmaWxsUnVsZSI6ICJldmVub2RkIiwKICAibGluZUNhcCI6ICJyb3VuZCIsCiAgImxpbmVKb2luIjogInJvdW5kIiwKICAib3BhY2l0eSI6IDEuMCwKICAicmFkaXVzIjogNCwKICAic3Ryb2tlIjogdHJ1ZSwKICAid2VpZ2h0IjogMwp9CiAgICAgICAgICAgICAgICApLmFkZFRvKGZlYXR1cmVfZ3JvdXBfNjRkMzg2N2MxZjk4NDQxMWE2ZTU4MjVhYTA0NTk3YTEpOwogICAgICAgICAgICAKICAgIAogICAgICAgICAgICB2YXIgY2lyY2xlX21hcmtlcl9mMDRhYjVmMmU2NjU0YTcyOGNkNmExOGFiYzMzZTk1YSA9IEwuY2lyY2xlTWFya2VyKAogICAgICAgICAgICAgICAgWzM1LjIyODAwMSwtODAuODQxMzQ3XSwKICAgICAgICAgICAgICAgIHsKICAiYnViYmxpbmdNb3VzZUV2ZW50cyI6IHRydWUsCiAgImNvbG9yIjogInJlZCIsCiAgImRhc2hBcnJheSI6IG51bGwsCiAgImRhc2hPZmZzZXQiOiBudWxsLAogICJmaWxsIjogdHJ1ZSwKICAiZmlsbENvbG9yIjogImJsdWUiLAogICJmaWxsT3BhY2l0eSI6IDAuNiwKICAiZmlsbFJ1bGUiOiAiZXZlbm9kZCIsCiAgImxpbmVDYXAiOiAicm91bmQiLAogICJsaW5lSm9pbiI6ICJyb3VuZCIsCiAgIm9wYWNpdHkiOiAxLjAsCiAgInJhZGl1cyI6IDQsCiAgInN0cm9rZSI6IHRydWUsCiAgIndlaWdodCI6IDMKfQogICAgICAgICAgICAgICAgKS5hZGRUbyhmZWF0dXJlX2dyb3VwXzY0ZDM4NjdjMWY5ODQ0MTFhNmU1ODI1YWEwNDU5N2ExKTsKICAgICAgICAgICAgCiAgICAKICAgICAgICAgICAgdmFyIGNpcmNsZV9tYXJrZXJfNmY1Yzc3MzU3ZDIyNDQ5NTkxYjNjZDMyYzdlYTIxNjQgPSBMLmNpcmNsZU1hcmtlcigKICAgICAgICAgICAgICAgIFszNS4yMjg2Njg5LC04MC44NDI0MV0sCiAgICAgICAgICAgICAgICB7CiAgImJ1YmJsaW5nTW91c2VFdmVudHMiOiB0cnVlLAogICJjb2xvciI6ICJyZWQiLAogICJkYXNoQXJyYXkiOiBudWxsLAogICJkYXNoT2Zmc2V0IjogbnVsbCwKICAiZmlsbCI6IHRydWUsCiAgImZpbGxDb2xvciI6ICJibHVlIiwKICAiZmlsbE9wYWNpdHkiOiAwLjYsCiAgImZpbGxSdWxlIjogImV2ZW5vZGQiLAogICJsaW5lQ2FwIjogInJvdW5kIiwKICAibGluZUpvaW4iOiAicm91bmQiLAogICJvcGFjaXR5IjogMS4wLAogICJyYWRpdXMiOiA0LAogICJzdHJva2UiOiB0cnVlLAogICJ3ZWlnaHQiOiAzCn0KICAgICAgICAgICAgICAgICkuYWRkVG8oZmVhdHVyZV9ncm91cF82NGQzODY3YzFmOTg0NDExYTZlNTgyNWFhMDQ1OTdhMSk7CiAgICAgICAgICAgIAogICAgCiAgICAgICAgICAgIHZhciBjaXJjbGVfbWFya2VyXzdkYzg3NjRlYzg5YTQ2NTNiY2UzNDAxN2U5ZTkwMTIyID0gTC5jaXJjbGVNYXJrZXIoCiAgICAgICAgICAgICAgICBbMzUuMjI2NTE4MTA3Mzg2NywtODAuODQxOTkxMjk2Mjk2M10sCiAgICAgICAgICAgICAgICB7CiAgImJ1YmJsaW5nTW91c2VFdmVudHMiOiB0cnVlLAogICJjb2xvciI6ICJyZWQiLAogICJkYXNoQXJyYXkiOiBudWxsLAogICJkYXNoT2Zmc2V0IjogbnVsbCwKICAiZmlsbCI6IHRydWUsCiAgImZpbGxDb2xvciI6ICJibHVlIiwKICAiZmlsbE9wYWNpdHkiOiAwLjYsCiAgImZpbGxSdWxlIjogImV2ZW5vZGQiLAogICJsaW5lQ2FwIjogInJvdW5kIiwKICAibGluZUpvaW4iOiAicm91bmQiLAogICJvcGFjaXR5IjogMS4wLAogICJyYWRpdXMiOiA0LAogICJzdHJva2UiOiB0cnVlLAogICJ3ZWlnaHQiOiAzCn0KICAgICAgICAgICAgICAgICkuYWRkVG8oZmVhdHVyZV9ncm91cF82NGQzODY3YzFmOTg0NDExYTZlNTgyNWFhMDQ1OTdhMSk7CiAgICAgICAgICAgIAogICAgCiAgICAgICAgICAgIHZhciBjaXJjbGVfbWFya2VyXzNmMWIyZTVmZjYzMTRhOGI4NGJmOGQ4ZDMxYzk0NzA1ID0gTC5jaXJjbGVNYXJrZXIoCiAgICAgICAgICAgICAgICBbMzUuMjIzOTgwOSwtODAuODQzNzI0NV0sCiAgICAgICAgICAgICAgICB7CiAgImJ1YmJsaW5nTW91c2VFdmVudHMiOiB0cnVlLAogICJjb2xvciI6ICJyZWQiLAogICJkYXNoQXJyYXkiOiBudWxsLAogICJkYXNoT2Zmc2V0IjogbnVsbCwKICAiZmlsbCI6IHRydWUsCiAgImZpbGxDb2xvciI6ICJibHVlIiwKICAiZmlsbE9wYWNpdHkiOiAwLjYsCiAgImZpbGxSdWxlIjogImV2ZW5vZGQiLAogICJsaW5lQ2FwIjogInJvdW5kIiwKICAibGluZUpvaW4iOiAicm91bmQiLAogICJvcGFjaXR5IjogMS4wLAogICJyYWRpdXMiOiA0LAogICJzdHJva2UiOiB0cnVlLAogICJ3ZWlnaHQiOiAzCn0KICAgICAgICAgICAgICAgICkuYWRkVG8oZmVhdHVyZV9ncm91cF82NGQzODY3YzFmOTg0NDExYTZlNTgyNWFhMDQ1OTdhMSk7CiAgICAgICAgICAgIAo8L3NjcmlwdD4= onload=\"this.contentDocument.open();this.contentDocument.write(atob(this.getAttribute('data-html')));this.contentDocument.close();\" allowfullscreen webkitallowfullscreen mozallowfullscreen></iframe></div></div>"
      ],
      "text/plain": [
       "<folium.folium.Map at 0x45b888f610>"
      ]
     },
     "execution_count": 55,
     "metadata": {},
     "output_type": "execute_result"
    }
   ],
   "source": [
    "mediterranean = folium.map.FeatureGroup()\n",
    "\n",
    "for lat, lng, in zip(med_restaurants_location.latitude, med_restaurants_location.longitude):\n",
    "    mediterranean.add_child(\n",
    "        folium.features.CircleMarker(\n",
    "            [lat, lng],\n",
    "            radius = 4,\n",
    "            color = 'red',\n",
    "            fill=True,\n",
    "            fill_color = 'blue',\n",
    "            fill_opacity = 0.6\n",
    "        )\n",
    "    )\n",
    "charlotte_map.add_child(mediterranean)  "
   ]
  },
  {
   "cell_type": "markdown",
   "metadata": {},
   "source": [
    "### Definitely it looks better.  More restaurants are located in the south and I am not surprised as the south is more populous"
   ]
  },
  {
   "cell_type": "markdown",
   "metadata": {},
   "source": [
    "## Results and discussion<a name = \"results\"></a>"
   ]
  },
  {
   "cell_type": "markdown",
   "metadata": {},
   "source": [
    "#### As we can see most of the rastaurants are spreaded around the city. Most of the restaurants placed in the city center of Charlotte, we call this place Uptown, it is also a business center of Charlotte. Uptown is a not good choice to open a Uzbek restaurant, because it's already has many places and most of them making business during lunch time. \n",
    "#### We are looking for place where people going after work or on weekend to have fun and proper meal. My choice would be area around Central Avenue. This area is growing and it has future prospects. Also we can see some places with Turkish and Mediterranean restaurants in that area. \n",
    "#### As Uzbek food needs time. You have to be relaxed to enjoy your meal."
   ]
  },
  {
   "cell_type": "markdown",
   "metadata": {},
   "source": [
    "## Conclusion<a name = \"conclusion\"></a>"
   ]
  },
  {
   "cell_type": "markdown",
   "metadata": {},
   "source": [
    "#### In this project I tryed to introduce you to Uzbek food. I hope by this time you have little idea what is it. I think one day you will try. I am sure if you try Uzbek food once, you will want to come back.\n",
    "\n",
    "#### To make decision about your preferences you have to try and I am ready to make your first Uzbek Feast!\n",
    "#### I would like to say you more, but my English is little poor."
   ]
  }
 ],
 "metadata": {
  "kernelspec": {
   "display_name": "Python 3",
   "language": "python",
   "name": "python3"
  },
  "language_info": {
   "codemirror_mode": {
    "name": "ipython",
    "version": 3
   },
   "file_extension": ".py",
   "mimetype": "text/x-python",
   "name": "python",
   "nbconvert_exporter": "python",
   "pygments_lexer": "ipython3",
   "version": "3.8.3"
  }
 },
 "nbformat": 4,
 "nbformat_minor": 4
}
